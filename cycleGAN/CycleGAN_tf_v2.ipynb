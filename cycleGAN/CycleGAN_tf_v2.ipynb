{
 "cells": [
  {
   "cell_type": "markdown",
   "metadata": {},
   "source": [
    "# CycleGAN Implementation in tensorflow v2"
   ]
  },
  {
   "cell_type": "code",
   "execution_count": 3,
   "metadata": {},
   "outputs": [],
   "source": [
    "import os\n",
    "import glob\n",
    "import time\n",
    "import argparse\n",
    "\n",
    "from PIL import Image\n",
    "from datetime import datetime\n",
    "\n",
    "import tensorflow as tf\n",
    "\n",
    "import utils\n",
    "import models"
   ]
  },
  {
   "cell_type": "markdown",
   "metadata": {},
   "source": [
    "# Convert Data to TFRecords"
   ]
  },
  {
   "cell_type": "markdown",
   "metadata": {},
   "source": [
    "Define the parameters for the GAN"
   ]
  },
  {
   "cell_type": "code",
   "execution_count": 4,
   "metadata": {},
   "outputs": [],
   "source": [
    "LEARNING_RATE = 0.0002\n",
    "BETA_1 = 0.5\n",
    "LAMBDA_CYCLE = 10.0\n",
    "LAMBDA_ID = 5\n",
    "POOL_SIZE = 50\n",
    "EPOCHS = 40\n",
    "DECAY_EPOCHS = 100\n",
    "SHUFFLE_SIZE = 10000\n",
    "BATCH_SIZE = 2\n",
    "DATASET = 'monet2photo'"
   ]
  },
  {
   "cell_type": "code",
   "execution_count": 8,
   "metadata": {},
   "outputs": [],
   "source": [
    "# Read each image using PIL and write it to a tf.Example instance\n",
    "def convert_to_tfexample(img_path):\n",
    "    try:\n",
    "        with open(img_path, 'rb') as f:\n",
    "            content = f.read()\n",
    "        with Image.open(img_path) as img:\n",
    "            img.load()\n",
    "            if img.format != 'JPEG':\n",
    "                print('Image format error. Path: ' + img_path + '\\tFormat: ' + img.format)\n",
    "            assert (img.format == 'JPEG')\n",
    "            filename = os.path.basename(img_path)\n",
    "            example = tf.train.Example(\n",
    "                        features=tf.train.Features(\n",
    "                        feature={\n",
    "                        'image/encoded': tf.train.Feature(bytes_list=tf.train.BytesList(value=[content])),\n",
    "                        'image/format': tf.train.Feature(bytes_list=tf.train.BytesList(value=['JPEG'.encode()])),\n",
    "                        'image/width': tf.train.Feature(int64_list=tf.train.Int64List(value=[img.width])),\n",
    "                        'image/height': tf.train.Feature(int64_list=tf.train.Int64List(value=[img.height])),\n",
    "                        'image/filename': tf.train.Feature(bytes_list=tf.train.BytesList(value=[filename.encode()]))\n",
    "                        }))\n",
    "            return example\n",
    "    except Exception as e:\n",
    "        print(e)\n",
    "        return None"
   ]
  },
  {
   "cell_type": "code",
   "execution_count": 9,
   "metadata": {},
   "outputs": [],
   "source": [
    "# Helper function to iterate files, convert and write\n",
    "def tf_convert_write(input_files, output_record):\n",
    "    with tf.io.TFRecordWriter(output_record) as tfwriter:\n",
    "        for f in input_files:\n",
    "            example = convert_to_tfexample(f)\n",
    "            tfwriter.write(example.SerializeToString())\n",
    "    print('Converted to tfrecord: ' + output_record)"
   ]
  },
  {
   "cell_type": "code",
   "execution_count": 12,
   "metadata": {},
   "outputs": [],
   "source": [
    "# Convert raw image data into tfrecords to use with TFX later\n",
    "def convert_data(datafolder, dataset):\n",
    "    '''\n",
    "    Expected directory structure under path is \n",
    "    trainA, trainB, testA, testB which the GAN will train on\n",
    "    '''\n",
    "    train_A_files = glob.glob(os.path.join(datafolder, dataset, 'trainA', '*'))\n",
    "    train_B_files = glob.glob(os.path.join(datafolder, dataset, 'trainB', '*'))\n",
    "    test_A_files = glob.glob(os.path.join(datafolder, dataset, 'testA', '*'))\n",
    "    test_B_files = glob.glob(os.path.join(datafolder, dataset, 'testB', '*'))\n",
    "    #input_files = [train_A_files, train_B_files]\n",
    "    \n",
    "    tf_record_dir = os.path.join(os.getcwd(), \"tfdata\", DATASET)\n",
    "    if not os.path.exists(tf_record_dir):\n",
    "        os.makedirs(tf_record_dir)\n",
    "        \n",
    "    train_A_outfile = os.path.join(tf_record_dir,'trainA.tfrecord')\n",
    "    train_B_outfile = os.path.join(tf_record_dir,'trainB.tfrecord')\n",
    "    test_A_outfile = os.path.join(tf_record_dir,'testA.tfrecord')\n",
    "    test_B_outfile = os.path.join(tf_record_dir,'testB.tfrecord')\n",
    "   \n",
    "    tf_convert_write(train_A_files, train_A_outfile)\n",
    "    tf_convert_write(train_B_files, train_B_outfile)\n",
    "    tf_convert_write(test_A_files, test_A_outfile)\n",
    "    tf_convert_write(test_B_files, test_B_outfile)\n",
    "    print(\"Finished converting data to TFRecords in directory: \" + tf_record_dir)"
   ]
  },
  {
   "cell_type": "code",
   "execution_count": 13,
   "metadata": {},
   "outputs": [
    {
     "name": "stdout",
     "output_type": "stream",
     "text": [
      "Converted to tfrecord: D:\\Workdir\\DL_Project\\tfdata\\monet2photo\\trainA.tfrecord\n",
      "Converted to tfrecord: D:\\Workdir\\DL_Project\\tfdata\\monet2photo\\trainB.tfrecord\n",
      "Converted to tfrecord: D:\\Workdir\\DL_Project\\tfdata\\monet2photo\\testA.tfrecord\n",
      "Converted to tfrecord: D:\\Workdir\\DL_Project\\tfdata\\monet2photo\\testB.tfrecord\n",
      "Finished converting data to TFRecords in directory: D:\\Workdir\\DL_Project\\tfdata\\monet2photo\n"
     ]
    }
   ],
   "source": [
    "datafolder = \"datasets\"\n",
    "convert_data(datafolder, DATASET)"
   ]
  },
  {
   "cell_type": "code",
   "execution_count": 17,
   "metadata": {},
   "outputs": [],
   "source": [
    "# Read TFRecrods and pre-process training images\n",
    "def process_dataset(filepath):\n",
    "    raw_dataset = tf.data.TFRecordDataset(filepath)\n",
    "\n",
    "    image_feature_description = {\n",
    "        'image/height': tf.io.FixedLenFeature([], tf.int64),\n",
    "        'image/width': tf.io.FixedLenFeature([], tf.int64),\n",
    "        'image/format': tf.io.FixedLenFeature([], tf.string),\n",
    "        'image/encoded': tf.io.FixedLenFeature([], tf.string),\n",
    "    }\n",
    "\n",
    "    def normalize_images(example_proto):\n",
    "        # Parse the input tf.Example proto using the dictionary above.\n",
    "        features = tf.io.parse_single_example(example_proto, image_feature_description)\n",
    "        encoded_img = features['image/encoded']\n",
    "        \n",
    "        img = tf.image.decode_jpeg(encoded_img, 3)\n",
    "        \n",
    "        img = tf.image.random_flip_left_right(img)\n",
    "        img = tf.image.resize(img, [286, 286])\n",
    "        img = tf.image.random_crop(img, [256, 256, tf.shape(img)[-1]])\n",
    "        img = img / 127.5 - 1  # normalize from 1 to -1\n",
    "        return img\n",
    "\n",
    "    norm_dataset = raw_dataset.map(normalize_images)\n",
    "    return norm_dataset"
   ]
  },
  {
   "cell_type": "code",
   "execution_count": 18,
   "metadata": {},
   "outputs": [
    {
     "name": "stdout",
     "output_type": "stream",
     "text": [
      "Batch size: 2, Total batches per epoch: 536\n"
     ]
    }
   ],
   "source": [
    "train_a = process_dataset('tfdata/{}/trainA.tfrecord'.format(DATASET))\n",
    "train_b = process_dataset('tfdata/{}/trainB.tfrecord'.format(DATASET))\n",
    "combined_dataset = tf.data.Dataset.zip((train_a, train_b)).shuffle(SHUFFLE_SIZE).batch(int(BATCH_SIZE))\n",
    "\n",
    "total_batches = 0\n",
    "for _ in combined_dataset:\n",
    "    total_batches += 1\n",
    "#total_batches = count_dataset_batches(combined_dataset)\n",
    "print('Batch size: {}, Total batches per epoch: {}'.format(BATCH_SIZE, total_batches))"
   ]
  },
  {
   "cell_type": "markdown",
   "metadata": {},
   "source": [
    "# Define the model"
   ]
  },
  {
   "cell_type": "markdown",
   "metadata": {},
   "source": [
    "Based on https://arxiv.org/pdf/1703.10593.pdf and https://github.com/junyanz/pytorch-CycleGAN-and-pix2pix/blob/master/models/cycle_gan_model.py"
   ]
  },
  {
   "cell_type": "markdown",
   "metadata": {},
   "source": [
    "**See models.py** for the implementation of the cycleGAN model. \n",
    "\n",
    "References (some tf2, mostly pytorch): \n",
    "\n",
    "https://hardikbansal.github.io/CycleGANBlog/\n",
    "\n",
    "https://github.com/LynnHo/CycleGAN-Tensorflow-2\n",
    "\n",
    "https://github.com/jason9693/cycleGAN-tensorflow-v2"
   ]
  },
  {
   "cell_type": "code",
   "execution_count": 19,
   "metadata": {},
   "outputs": [],
   "source": [
    "A_B_gen = models.make_generator_model(n_blocks=9)\n",
    "B_A_gen = models.make_generator_model(n_blocks=9)\n",
    "discriminator_b = models.make_discriminator_model()\n",
    "discriminator_a = models.make_discriminator_model()\n",
    "gen_lr_scheduler = utils.LinearDecay(LEARNING_RATE, EPOCHS * total_batches, DECAY_EPOCHS * total_batches)\n",
    "dis_lr_scheduler = utils.LinearDecay(LEARNING_RATE, EPOCHS * total_batches, DECAY_EPOCHS * total_batches)"
   ]
  },
  {
   "cell_type": "markdown",
   "metadata": {},
   "source": [
    "# Checkpoint Mgr"
   ]
  },
  {
   "cell_type": "markdown",
   "metadata": {},
   "source": [
    "Use the ADAM optimizer from Keras with a Linear Rate Decay. Used in a pytorch model I was following. See utils.py for reference code and source"
   ]
  },
  {
   "cell_type": "code",
   "execution_count": 32,
   "metadata": {},
   "outputs": [
    {
     "data": {
      "text/plain": [
       "{'initial_learning_rate': 0.0002, 'total_steps': 21440, 'step_decay': 53600}"
      ]
     },
     "execution_count": 32,
     "metadata": {},
     "output_type": "execute_result"
    }
   ],
   "source": [
    "gen_lr_scheduler.get_config()"
   ]
  },
  {
   "cell_type": "code",
   "execution_count": 33,
   "metadata": {},
   "outputs": [
    {
     "data": {
      "text/plain": [
       "{'initial_learning_rate': 0.0002, 'total_steps': 21440, 'step_decay': 53600}"
      ]
     },
     "execution_count": 33,
     "metadata": {},
     "output_type": "execute_result"
    }
   ],
   "source": [
    "dis_lr_scheduler.get_config()"
   ]
  },
  {
   "cell_type": "code",
   "execution_count": 20,
   "metadata": {},
   "outputs": [],
   "source": [
    "optimizer_gen = tf.keras.optimizers.Adam(gen_lr_scheduler, BETA_1)\n",
    "optimizer_dis = tf.keras.optimizers.Adam(dis_lr_scheduler, BETA_1)"
   ]
  },
  {
   "cell_type": "markdown",
   "metadata": {},
   "source": [
    "Create a checkpint manager that will save the training checkpoints. Since GANs take a really long time to train -- want to make best use of resources"
   ]
  },
  {
   "cell_type": "code",
   "execution_count": 21,
   "metadata": {},
   "outputs": [],
   "source": [
    "checkpoint_dir = './checkpoints-{}'.format(DATASET)\n",
    "checkpoint = tf.train.Checkpoint(\n",
    "    A_B_gen=A_B_gen,\n",
    "    B_A_gen=B_A_gen,\n",
    "    discriminator_b=discriminator_b,\n",
    "    discriminator_a=discriminator_a,\n",
    "    optimizer_gen=optimizer_gen,\n",
    "    optimizer_dis=optimizer_dis,\n",
    "    epoch=tf.Variable(0))"
   ]
  },
  {
   "cell_type": "markdown",
   "metadata": {},
   "source": [
    "Checkpoint manager which restores the latest checkpoing using a nice high level API call"
   ]
  },
  {
   "cell_type": "code",
   "execution_count": 22,
   "metadata": {},
   "outputs": [
    {
     "name": "stdout",
     "output_type": "stream",
     "text": [
      "Restored from ./checkpoints-monet2photo\\ckpt-19\n"
     ]
    }
   ],
   "source": [
    "checkpoint_manager = tf.train.CheckpointManager(\n",
    "    checkpoint, checkpoint_dir, max_to_keep=None)\n",
    "checkpoint.restore(checkpoint_manager.latest_checkpoint)\n",
    "if checkpoint_manager.latest_checkpoint:\n",
    "    print(\"Restored from {}\".format(checkpoint_manager.latest_checkpoint))\n",
    "else:\n",
    "    print(\"Initializing from scratch.\")"
   ]
  },
  {
   "cell_type": "markdown",
   "metadata": {},
   "source": [
    "# Define the loss variables"
   ]
  },
  {
   "cell_type": "markdown",
   "metadata": {},
   "source": [
    "Using keras metrics variable instances that will be utilized in training and creating tensorboard logs"
   ]
  },
  {
   "cell_type": "code",
   "execution_count": 23,
   "metadata": {},
   "outputs": [],
   "source": [
    "# Total Generator loss for both\n",
    "gen_loss_total = tf.keras.metrics.Mean('gen_loss_total', dtype=tf.float32)\n",
    "# Total Discriminator Loss\n",
    "dis_loss_total = tf.keras.metrics.Mean('dis_loss_total', dtype=tf.float32)\n",
    "# Cycle loss a\n",
    "a2b2a_cycle_loss = tf.keras.metrics.Mean('a2b2a_cycle_loss', dtype=tf.float32) # todo: change a2b2a\n",
    "b2a2b_cycle_loss = tf.keras.metrics.Mean('b2a2b_cycle_loss', dtype=tf.float32)\n",
    "gen_a2b_loss = tf.keras.metrics.Mean('gen_a2b_loss', dtype=tf.float32)\n",
    "gen_b2a_loss = tf.keras.metrics.Mean('gen_b2a_loss', dtype=tf.float32)\n",
    "dis_b_loss = tf.keras.metrics.Mean('dis_b_loss', dtype=tf.float32)\n",
    "dis_a_loss = tf.keras.metrics.Mean('dis_a_loss', dtype=tf.float32)\n",
    "id_b2a_loss = tf.keras.metrics.Mean('id_b2a_loss', dtype=tf.float32)\n",
    "id_a2b_loss = tf.keras.metrics.Mean('id_a2b_loss', dtype=tf.float32)"
   ]
  },
  {
   "cell_type": "markdown",
   "metadata": {},
   "source": [
    "Add loss functions and a two way iamge pool class. Refernce implementation in utils.py\n",
    "\n",
    "ImagePool class is an image buffer that stores previously generated images. This class helps in updating the two discriminator using the entire history of generated images rather than the one currently produced by the generator. The outcome is that the discriminators retains the context better in terms of edges and other features since the training data is all unpaired images."
   ]
  },
  {
   "cell_type": "code",
   "execution_count": 24,
   "metadata": {},
   "outputs": [],
   "source": [
    "mse_loss = tf.keras.losses.MeanSquaredError()\n",
    "mae_loss = tf.keras.losses.MeanAbsoluteError()\n",
    "fake_pool_b2a = utils.ImagePool(POOL_SIZE)\n",
    "fake_pool_a2b = utils.ImagePool(POOL_SIZE)"
   ]
  },
  {
   "cell_type": "markdown",
   "metadata": {},
   "source": [
    "Helper function to write all training metrics to logs as training proceeds"
   ]
  },
  {
   "cell_type": "code",
   "execution_count": 25,
   "metadata": {},
   "outputs": [],
   "source": [
    "def write_metrics(epoch):\n",
    "    with train_summary_writer.as_default():\n",
    "        tf.summary.scalar('gen_a2b_loss', gen_a2b_loss.result(), step=epoch)\n",
    "        tf.summary.scalar('gen_b2a_loss', gen_b2a_loss.result(), step=epoch)\n",
    "        tf.summary.scalar('dis_b_loss', dis_b_loss.result(), step=epoch)\n",
    "        tf.summary.scalar('dis_a_loss', dis_a_loss.result(), step=epoch)\n",
    "        tf.summary.scalar('id_a2b_loss', id_a2b_loss.result(), step=epoch)\n",
    "        tf.summary.scalar('id_b2a_loss', id_b2a_loss.result(), step=epoch)\n",
    "        tf.summary.scalar('gen_loss_total', gen_loss_total.result(), step=epoch)\n",
    "        tf.summary.scalar('dis_loss_total', dis_loss_total.result(), step=epoch)\n",
    "        tf.summary.scalar('A_B_A_cycle_loss',a2b2a_cycle_loss.result(), step=epoch)\n",
    "        tf.summary.scalar('B_A_B_cycle_loss', b2a2b_cycle_loss.result(), step=epoch)\n",
    "        tf.summary.scalar('gen_learning_rate', gen_lr_scheduler.current_learning_rate, step=epoch)\n",
    "        tf.summary.scalar('dis_learning_rate', dis_lr_scheduler.current_learning_rate, step=epoch)\n",
    "\n",
    "    gen_a2b_loss.reset_states()\n",
    "    gen_b2a_loss.reset_states()\n",
    "    dis_b_loss.reset_states()\n",
    "    dis_a_loss.reset_states()\n",
    "    id_b2a_loss.reset_states()\n",
    "    id_a2b_loss.reset_states()\n",
    "    return"
   ]
  },
  {
   "cell_type": "markdown",
   "metadata": {},
   "source": [
    "Return ones or zeros for the loss based on whether the instance of the image passed in the real or generated"
   ]
  },
  {
   "cell_type": "code",
   "execution_count": 35,
   "metadata": {},
   "outputs": [],
   "source": [
    "def calc_gan_loss(prediction, real_img):\n",
    "    if real_img:\n",
    "        return mse_loss(prediction, tf.ones_like(prediction))\n",
    "    else:\n",
    "        return mse_loss(prediction, tf.zeros_like(prediction))\n"
   ]
  },
  {
   "cell_type": "markdown",
   "metadata": {},
   "source": [
    "Using the tf.function decorator because it converts the training to a graph representation, resulting in performance boost. Reference: https://pgaleone.eu/tensorflow/tf.function/2019/03/21/dissecting-tf-function-part-1/"
   ]
  },
  {
   "cell_type": "code",
   "execution_count": 27,
   "metadata": {},
   "outputs": [],
   "source": [
    "@tf.function\n",
    "def train_generator(images_a, images_b):\n",
    "    real_imgs_a = images_a\n",
    "    real_imgs_b = images_b\n",
    "\n",
    "    with tf.GradientTape() as tape:\n",
    "        # Cycle from A to B to A\n",
    "        A_B_fake = A_B_gen(real_imgs_a, training=True)\n",
    "        B_A_rec = B_A_gen(A_B_fake, training=True)\n",
    "        # Cycle from B to A to B\n",
    "        B_A_fake = B_A_gen(real_imgs_b, training=True)\n",
    "        A_B_rec = A_B_gen(B_A_fake, training=True)\n",
    "\n",
    "        # use real image to generate a real image -- their identity should be preserved (think horse to horse)\n",
    "        A_B_id = A_B_gen(real_imgs_b, training=True)\n",
    "        B_A_id = B_A_gen(real_imgs_a, training=True)\n",
    "        loss_A_B_id = mae_loss(A_B_id, real_imgs_b) # cycle loss representing the fidelity of reconstructed img\n",
    "        loss_B_A_id = mae_loss(B_A_id, real_imgs_a)\n",
    "\n",
    "        # A to B generator attempts to trick Discriminator B that the generated image is B\n",
    "        A_B_gen_loss = calc_gan_loss(discriminator_b(A_B_fake, training=True), True)\n",
    "        \n",
    "        # Generator B2A tries to trick Discriminator A that the generated image is A\n",
    "        B_A_gen_loss = calc_gan_loss(discriminator_a(B_A_fake, training=True), True)\n",
    "        \n",
    "        A_B_A_cycle_loss = mae_loss(B_A_rec, real_imgs_a) # Identity losses to ensure no overtraining\n",
    "        B_A_B_cycle_loss = mae_loss(A_B_rec, real_imgs_b)\n",
    "\n",
    "        # Total generator loss is equal to all individual losses (cycle losses multiplied by # of cycles and identifying loss by # identify cycles or tries)\n",
    "        loss_gen_total = A_B_gen_loss + B_A_gen_loss + (A_B_A_cycle_loss + B_A_B_cycle_loss) * LAMBDA_CYCLE + (loss_A_B_id + loss_B_A_id) * LAMBDA_ID\n",
    "\n",
    "    train_vars = A_B_gen.trainable_variables + B_A_gen.trainable_variables\n",
    "    gradient_gen = tape.gradient(loss_gen_total, train_vars)\n",
    "    optimizer_gen.apply_gradients(zip(gradient_gen, train_vars))\n",
    "\n",
    "    # Metrics\n",
    "    a2b2a_cycle_loss(A_B_A_cycle_loss)\n",
    "    b2a2b_cycle_loss(B_A_B_cycle_loss)\n",
    "    gen_loss_total(loss_gen_total)\n",
    "    gen_a2b_loss(A_B_gen_loss)\n",
    "    gen_b2a_loss(B_A_gen_loss)\n",
    "    gen_b2a_loss(loss_B_A_id)\n",
    "    gen_a2b_loss(loss_A_B_id)\n",
    "\n",
    "    loss_dict = {\n",
    "        'loss_gen_a2b': A_B_gen_loss,\n",
    "        'loss_gen_b2a': B_A_gen_loss,\n",
    "        'loss_id_a2b': loss_A_B_id,\n",
    "        'loss_id_b2a': loss_B_A_id,\n",
    "        'A_B_A_cycle_loss': A_B_A_cycle_loss,\n",
    "        'B_A_B_cycle_loss': B_A_B_cycle_loss,\n",
    "        'loss_gen_total': loss_gen_total,\n",
    "    }\n",
    "    return A_B_fake, B_A_fake, loss_dict\n",
    "\n"
   ]
  },
  {
   "cell_type": "code",
   "execution_count": 28,
   "metadata": {},
   "outputs": [],
   "source": [
    "@tf.function\n",
    "def train_discriminator(images_a, images_b, A_B_fake, B_A_fake):\n",
    "    real_a = images_a\n",
    "    real_imgs_b = images_b\n",
    "\n",
    "    with tf.GradientTape() as tape:\n",
    "\n",
    "        # Discriminator A should classify real_a as A\n",
    "        loss_gan_dis_a_real = calc_gan_loss(discriminator_a(real_a, training=True), True)\n",
    "        \n",
    "        # Discriminator A should classify generated B_A_fake as not A\n",
    "        loss_gan_dis_a_fake = calc_gan_loss(discriminator_a(B_A_fake, training=True), False)\n",
    "\n",
    "        # Discriminator B should classify real_imgs_b as B\n",
    "        loss_gan_dis_b_real = calc_gan_loss(discriminator_b(real_imgs_b, training=True), True)\n",
    "        \n",
    "        # Discriminator B should classify generated A_B_fake as not B\n",
    "        loss_gan_dis_b_fake = calc_gan_loss(discriminator_b(A_B_fake, training=True), False)\n",
    "\n",
    "        # Total discriminator loss\n",
    "        loss_dis_a = (loss_gan_dis_a_real + loss_gan_dis_a_fake) * 0.5\n",
    "        loss_dis_b = (loss_gan_dis_b_real + loss_gan_dis_b_fake) * 0.5\n",
    "        loss_dis_total = loss_dis_a + loss_dis_b\n",
    "\n",
    "    trainable_variables = discriminator_a.trainable_variables + discriminator_b.trainable_variables\n",
    "    gradient_dis = tape.gradient(loss_dis_total, trainable_variables)\n",
    "    optimizer_dis.apply_gradients(zip(gradient_dis, trainable_variables))\n",
    "\n",
    "    # Metrics\n",
    "    dis_a_loss(loss_dis_a)\n",
    "    dis_b_loss(loss_dis_b)\n",
    "    dis_loss_total(loss_dis_total)\n",
    "\n",
    "    return {\n",
    "        'loss_dis_b': loss_dis_b,\n",
    "        'loss_dis_a': loss_dis_a,\n",
    "        'loss_dis_total': loss_dis_total\n",
    "    }"
   ]
  },
  {
   "cell_type": "code",
   "execution_count": 29,
   "metadata": {},
   "outputs": [],
   "source": [
    "# todo: defined\n",
    "def train_step(images_a, images_b, epoch, step):\n",
    "    A_B_fake, B_A_fake, gen_loss_dict = train_generator(images_a, images_b)\n",
    "\n",
    "    B_A_fake_from_pool = fake_pool_b2a.query(B_A_fake)\n",
    "    A_B_fake_from_pool = fake_pool_a2b.query(A_B_fake)\n",
    "\n",
    "    dis_loss_dict = train_discriminator(images_a, images_b, A_B_fake_from_pool, B_A_fake_from_pool)\n",
    "\n",
    "    gen_loss_list = ['{}:{} '.format(k, v) for k, v in gen_loss_dict.items()]\n",
    "    dis_loss_list = ['{}:{} '.format(k, v) for k, v in dis_loss_dict.items()]\n",
    "\n",
    "    tf.print('Epoch {} Step {} '.format(epoch, step), ' '.join(gen_loss_list + dis_loss_list))"
   ]
  },
  {
   "cell_type": "code",
   "execution_count": 30,
   "metadata": {},
   "outputs": [],
   "source": [
    "current_time = datetime.now().strftime(\"%Y%m%d-%H%M%S\")\n",
    "train_log_dir = 'logs/{}/{}/train'.format(DATASET, current_time)\n",
    "train_summary_writer = tf.summary.create_file_writer(train_log_dir)"
   ]
  },
  {
   "cell_type": "markdown",
   "metadata": {},
   "source": [
    "# Training Loop"
   ]
  },
  {
   "cell_type": "code",
   "execution_count": 31,
   "metadata": {},
   "outputs": [],
   "source": [
    "# todo: defined\n",
    "def train(data_set, num_epoch):\n",
    "    for _epoch in range(checkpoint.epoch + 1, num_epoch + 1):\n",
    "        start = time.time()\n",
    "        print('Starting epoch {}. Learning rate: {}, {}'.format( epoch, \n",
    "            gen_lr_scheduler.current_learning_rate, dis_lr_scheduler.current_learning_rate))\n",
    "        \n",
    "        # Train\n",
    "        for (_step, _batch) in enumerate(data_set):\n",
    "            train_step(_batch[0], _batch[1], epoch, _step)\n",
    "            \n",
    "        write_metrics(_epoch)\n",
    "        \n",
    "        checkpoint.epoch.assign_add(1)\n",
    "        if epoch %2 == 0:\n",
    "            save_path = checkpoint_manager.save()\n",
    "            print(\"Saved checkpoint for epoch {}: {}\".format(int(checkpoint.epoch), save_path))\n",
    "            print('Time for epoch {} is {} sec'.format(epoch, time.time() - start))"
   ]
  },
  {
   "cell_type": "code",
   "execution_count": 56,
   "metadata": {},
   "outputs": [
    {
     "name": "stdout",
     "output_type": "stream",
     "text": [
      "Starting epoch 39. Learning rate: <tf.Variable 'Variable:0' shape=() dtype=float32, numpy=0.0002>, <tf.Variable 'Variable:0' shape=() dtype=float32, numpy=0.0002>\n",
      "Epoch 39 Step 0  loss_gen_a2b:0.6702579259872437  loss_gen_b2a:0.07966842502355576  loss_id_a2b:0.12855015695095062  loss_id_b2a:0.08416980504989624  A_B_A_cycle_loss:0.08065621554851532  B_A_B_cycle_loss:0.13700540363788605  loss_gen_total:3.990142345428467  loss_dis_b:0.18025146424770355  loss_dis_a:0.3314996361732483  loss_dis_total:0.511751115322113 \n",
      "Epoch 39 Step 1  loss_gen_a2b:0.5527761578559875  loss_gen_b2a:0.2550315856933594  loss_id_a2b:0.09307940304279327  loss_id_b2a:0.11707022786140442  A_B_A_cycle_loss:0.1302591860294342  B_A_B_cycle_loss:0.07678477466106415  loss_gen_total:3.928995370864868  loss_dis_b:0.1339893639087677  loss_dis_a:0.19612301886081696  loss_dis_total:0.33011239767074585 \n",
      "Epoch 39 Step 2  loss_gen_a2b:0.32532361149787903  loss_gen_b2a:0.40900519490242004  loss_id_a2b:0.0909818485379219  loss_id_b2a:0.09000109881162643  A_B_A_cycle_loss:0.08497659862041473  B_A_B_cycle_loss:0.10599349439144135  loss_gen_total:3.5489444732666016  loss_dis_b:0.22790303826332092  loss_dis_a:0.2209336906671524  loss_dis_total:0.4488367438316345 \n",
      "Epoch 39 Step 3  loss_gen_a2b:0.16723018884658813  loss_gen_b2a:0.4383275806903839  loss_id_a2b:0.08741563558578491  loss_id_b2a:0.0871385782957077  A_B_A_cycle_loss:0.09384199976921082  B_A_B_cycle_loss:0.08167719841003418  loss_gen_total:3.233520746231079  loss_dis_b:0.3179388642311096  loss_dis_a:0.27001553773880005  loss_dis_total:0.5879544019699097 \n",
      "Epoch 39 Step 4  loss_gen_a2b:0.16672809422016144  loss_gen_b2a:0.5751665234565735  loss_id_a2b:0.08600114285945892  loss_id_b2a:0.11685982346534729  A_B_A_cycle_loss:0.10740377008914948  B_A_B_cycle_loss:0.10690071433782578  loss_gen_total:3.8992440700531006  loss_dis_b:0.20632092654705048  loss_dis_a:0.2254544496536255  loss_dis_total:0.43177539110183716 \n",
      "Epoch 39 Step 5  loss_gen_a2b:0.12942704558372498  loss_gen_b2a:0.18535912036895752  loss_id_a2b:0.08269619941711426  loss_id_b2a:0.12222863733768463  A_B_A_cycle_loss:0.13461081683635712  B_A_B_cycle_loss:0.08179156482219696  loss_gen_total:3.503434181213379  loss_dis_b:0.28105929493904114  loss_dis_a:0.24839195609092712  loss_dis_total:0.5294512510299683 \n",
      "Epoch 39 Step 6  loss_gen_a2b:0.5704101324081421  loss_gen_b2a:0.10901534557342529  loss_id_a2b:0.06814791262149811  loss_id_b2a:0.07818754762411118  A_B_A_cycle_loss:0.0994957908987999  B_A_B_cycle_loss:0.1023089587688446  loss_gen_total:3.429150342941284  loss_dis_b:0.1009543389081955  loss_dis_a:0.31189435720443726  loss_dis_total:0.41284871101379395 \n",
      "Epoch 39 Step 7  loss_gen_a2b:0.4343647360801697  loss_gen_b2a:0.761862576007843  loss_id_a2b:0.10152740031480789  loss_id_b2a:0.0979153960943222  A_B_A_cycle_loss:0.11227647215127945  B_A_B_cycle_loss:0.11635547131299973  loss_gen_total:4.479760646820068  loss_dis_b:0.20363891124725342  loss_dis_a:0.32180729508399963  loss_dis_total:0.5254461765289307 \n",
      "Epoch 39 Step 8  loss_gen_a2b:0.21298567950725555  loss_gen_b2a:0.34640854597091675  loss_id_a2b:0.1031629890203476  loss_id_b2a:0.08002638816833496  A_B_A_cycle_loss:0.09759704023599625  B_A_B_cycle_loss:0.13183340430259705  loss_gen_total:3.7696456909179688  loss_dis_b:0.1760905385017395  loss_dis_a:0.2917201519012451  loss_dis_total:0.4678106904029846 \n",
      "Epoch 39 Step 9  loss_gen_a2b:0.6778481602668762  loss_gen_b2a:0.31279030442237854  loss_id_a2b:0.06596337258815765  loss_id_b2a:0.08568540215492249  A_B_A_cycle_loss:0.0764288455247879  B_A_B_cycle_loss:0.10013008117675781  loss_gen_total:3.5144715309143066  loss_dis_b:0.07374506443738937  loss_dis_a:0.16827911138534546  loss_dis_total:0.24202418327331543 \n",
      "Epoch 39 Step 10  loss_gen_a2b:0.3295629024505615  loss_gen_b2a:0.26389020681381226  loss_id_a2b:0.13885630667209625  loss_id_b2a:0.14322525262832642  A_B_A_cycle_loss:0.14349348843097687  B_A_B_cycle_loss:0.10976363718509674  loss_gen_total:4.536432266235352  loss_dis_b:0.5787585377693176  loss_dis_a:0.32696157693862915  loss_dis_total:0.9057201147079468 \n",
      "Epoch 39 Step 11  loss_gen_a2b:0.36335083842277527  loss_gen_b2a:0.49835437536239624  loss_id_a2b:0.07625819742679596  loss_id_b2a:0.20826870203018188  A_B_A_cycle_loss:0.251400887966156  B_A_B_cycle_loss:0.09602613002061844  loss_gen_total:5.758609771728516  loss_dis_b:0.11128989607095718  loss_dis_a:0.24170231819152832  loss_dis_total:0.3529922068119049 \n",
      "Epoch 39 Step 12  loss_gen_a2b:0.5072424411773682  loss_gen_b2a:0.2368764579296112  loss_id_a2b:0.11465342342853546  loss_id_b2a:0.1012924462556839  A_B_A_cycle_loss:0.10300646722316742  B_A_B_cycle_loss:0.12338529527187347  loss_gen_total:4.087765693664551  loss_dis_b:0.22236372530460358  loss_dis_a:0.20757827162742615  loss_dis_total:0.4299420118331909 \n",
      "Epoch 39 Step 13  loss_gen_a2b:0.4097409248352051  loss_gen_b2a:0.1898716688156128  loss_id_a2b:0.12231769412755966  loss_id_b2a:0.08084256947040558  A_B_A_cycle_loss:0.07196416705846786  B_A_B_cycle_loss:0.08952963352203369  loss_gen_total:3.2303519248962402  loss_dis_b:0.2823064923286438  loss_dis_a:0.3197905421257019  loss_dis_total:0.6020970344543457 \n",
      "Epoch 39 Step 14  loss_gen_a2b:0.37324321269989014  loss_gen_b2a:0.5308583974838257  loss_id_a2b:0.05259285122156143  loss_id_b2a:0.08869939297437668  A_B_A_cycle_loss:0.08991145342588425  B_A_B_cycle_loss:0.07281175255775452  loss_gen_total:3.237794876098633  loss_dis_b:0.1009070947766304  loss_dis_a:0.1302679032087326  loss_dis_total:0.2311750054359436 \n",
      "Epoch 39 Step 15  loss_gen_a2b:0.2571342885494232  loss_gen_b2a:0.4635021686553955  loss_id_a2b:0.11127787828445435  loss_id_b2a:0.10410109162330627  A_B_A_cycle_loss:0.0940803661942482  B_A_B_cycle_loss:0.13505470752716064  loss_gen_total:4.088881969451904  loss_dis_b:0.13829751312732697  loss_dis_a:0.19415283203125  loss_dis_total:0.33245033025741577 \n",
      "Epoch 39 Step 16  loss_gen_a2b:0.4502503275871277  loss_gen_b2a:0.1271037459373474  loss_id_a2b:0.09319977462291718  loss_id_b2a:0.1561833918094635  A_B_A_cycle_loss:0.1534755527973175  B_A_B_cycle_loss:0.09588947147130966  loss_gen_total:4.317920207977295  loss_dis_b:0.6055043935775757  loss_dis_a:0.30860844254493713  loss_dis_total:0.9141128063201904 \n",
      "Epoch 39 Step 17  loss_gen_a2b:0.6017907857894897  loss_gen_b2a:0.31235599517822266  loss_id_a2b:0.06588340550661087  loss_id_b2a:0.08892322331666946  A_B_A_cycle_loss:0.09134189784526825  B_A_B_cycle_loss:0.06849295645952225  loss_gen_total:3.2865285873413086  loss_dis_b:0.27557143568992615  loss_dis_a:0.19555732607841492  loss_dis_total:0.47112876176834106 \n",
      "Epoch 39 Step 18  loss_gen_a2b:0.1891050934791565  loss_gen_b2a:0.8073375225067139  loss_id_a2b:0.0958101898431778  loss_id_b2a:0.09470933675765991  A_B_A_cycle_loss:0.09544235467910767  B_A_B_cycle_loss:0.10193140059709549  loss_gen_total:3.9227776527404785  loss_dis_b:0.21096377074718475  loss_dis_a:0.24871571362018585  loss_dis_total:0.4596794843673706 \n",
      "Epoch 39 Step 19  loss_gen_a2b:0.45135149359703064  loss_gen_b2a:0.42999428510665894  loss_id_a2b:0.1019548773765564  loss_id_b2a:0.1321195662021637  A_B_A_cycle_loss:0.1221991777420044  B_A_B_cycle_loss:0.10082260519266129  loss_gen_total:4.281935691833496  loss_dis_b:0.2871290147304535  loss_dis_a:0.1881723403930664  loss_dis_total:0.4753013551235199 \n",
      "Epoch 39 Step 20  loss_gen_a2b:0.411923885345459  loss_gen_b2a:0.2192499041557312  loss_id_a2b:0.10324463248252869  loss_id_b2a:0.08866747468709946  A_B_A_cycle_loss:0.08974596112966537  B_A_B_cycle_loss:0.11098815500736237  loss_gen_total:3.5980756282806396  loss_dis_b:0.1224665492773056  loss_dis_a:0.18252351880073547  loss_dis_total:0.3049900531768799 \n",
      "Epoch 39 Step 21  loss_gen_a2b:0.36510512232780457  loss_gen_b2a:0.6170787215232849  loss_id_a2b:0.06618385016918182  loss_id_b2a:0.14248183369636536  A_B_A_cycle_loss:0.188548281788826  B_A_B_cycle_loss:0.08015327155590057  loss_gen_total:4.712527751922607  loss_dis_b:0.12631982564926147  loss_dis_a:0.07901524007320404  loss_dis_total:0.20533506572246552 \n",
      "Epoch 39 Step 22  loss_gen_a2b:0.6298177242279053  loss_gen_b2a:0.41160863637924194  loss_id_a2b:0.07987260818481445  loss_id_b2a:0.062380850315093994  A_B_A_cycle_loss:0.07935403287410736  B_A_B_cycle_loss:0.09877824038267136  loss_gen_total:3.5340163707733154  loss_dis_b:0.1391923874616623  loss_dis_a:0.13636401295661926  loss_dis_total:0.27555638551712036 \n"
     ]
    },
    {
     "name": "stdout",
     "output_type": "stream",
     "text": [
      "Epoch 39 Step 23  loss_gen_a2b:0.5376220941543579  loss_gen_b2a:0.8509014844894409  loss_id_a2b:0.063633993268013  loss_id_b2a:0.1694662719964981  A_B_A_cycle_loss:0.20521074533462524  B_A_B_cycle_loss:0.0996163934469223  loss_gen_total:5.602296829223633  loss_dis_b:0.05892384052276611  loss_dis_a:0.03479223698377609  loss_dis_total:0.0937160775065422 \n",
      "Epoch 39 Step 24  loss_gen_a2b:0.2645703852176666  loss_gen_b2a:0.1490822583436966  loss_id_a2b:0.10740914195775986  loss_id_b2a:0.09107714891433716  A_B_A_cycle_loss:0.0937737226486206  B_A_B_cycle_loss:0.09919507801532745  loss_gen_total:3.3357720375061035  loss_dis_b:0.4008200168609619  loss_dis_a:0.45540642738342285  loss_dis_total:0.8562264442443848 \n",
      "Epoch 39 Step 25  loss_gen_a2b:0.6602970957756042  loss_gen_b2a:0.3619401156902313  loss_id_a2b:0.06621704995632172  loss_id_b2a:0.09390032291412354  A_B_A_cycle_loss:0.10355542600154877  B_A_B_cycle_loss:0.08047781884670258  loss_gen_total:3.663156747817993  loss_dis_b:0.06307625770568848  loss_dis_a:0.1500183641910553  loss_dis_total:0.21309462189674377 \n",
      "Epoch 39 Step 26  loss_gen_a2b:0.3819466233253479  loss_gen_b2a:0.17853540182113647  loss_id_a2b:0.11536601185798645  loss_id_b2a:0.12663710117340088  A_B_A_cycle_loss:0.11229012906551361  B_A_B_cycle_loss:0.09359695017337799  loss_gen_total:3.8293683528900146  loss_dis_b:0.24559226632118225  loss_dis_a:0.07794472575187683  loss_dis_total:0.3235369920730591 \n",
      "Epoch 39 Step 27  loss_gen_a2b:0.39418506622314453  loss_gen_b2a:0.10602207481861115  loss_id_a2b:0.0709824338555336  loss_id_b2a:0.11456327140331268  A_B_A_cycle_loss:0.09021513164043427  B_A_B_cycle_loss:0.07722064852714539  loss_gen_total:3.1022934913635254  loss_dis_b:0.1592063009738922  loss_dis_a:0.26095813512802124  loss_dis_total:0.42016443610191345 \n",
      "Epoch 39 Step 28  loss_gen_a2b:0.34607166051864624  loss_gen_b2a:0.4323638379573822  loss_id_a2b:0.13790389895439148  loss_id_b2a:0.14853578805923462  A_B_A_cycle_loss:0.13186880946159363  B_A_B_cycle_loss:0.14366509020328522  loss_gen_total:4.965972900390625  loss_dis_b:0.29726871848106384  loss_dis_a:0.32857435941696167  loss_dis_total:0.6258430480957031 \n",
      "Epoch 39 Step 29  loss_gen_a2b:0.3310632109642029  loss_gen_b2a:0.8085297346115112  loss_id_a2b:0.0599479153752327  loss_id_b2a:0.1096169501543045  A_B_A_cycle_loss:0.07670842111110687  B_A_B_cycle_loss:0.06692466139793396  loss_gen_total:3.423748016357422  loss_dis_b:0.2500571012496948  loss_dis_a:0.09652803838253021  loss_dis_total:0.34658515453338623 \n",
      "Epoch 39 Step 30  loss_gen_a2b:0.35383930802345276  loss_gen_b2a:0.3307071328163147  loss_id_a2b:0.09119421243667603  loss_id_b2a:0.08712798357009888  A_B_A_cycle_loss:0.11934483051300049  B_A_B_cycle_loss:0.11727666109800339  loss_gen_total:3.9423723220825195  loss_dis_b:0.21277523040771484  loss_dis_a:0.11336475610733032  loss_dis_total:0.32613998651504517 \n",
      "Epoch 39 Step 31  loss_gen_a2b:0.5732430815696716  loss_gen_b2a:0.11675121635198593  loss_id_a2b:0.1015215814113617  loss_id_b2a:0.09704010933637619  A_B_A_cycle_loss:0.10642597824335098  B_A_B_cycle_loss:0.07996033877134323  loss_gen_total:3.546666145324707  loss_dis_b:0.2717563211917877  loss_dis_a:0.14720970392227173  loss_dis_total:0.41896602511405945 \n",
      "Epoch 39 Step 32  loss_gen_a2b:0.4116775691509247  loss_gen_b2a:0.2721678614616394  loss_id_a2b:0.09493067860603333  loss_id_b2a:0.0710485577583313  A_B_A_cycle_loss:0.08106182515621185  B_A_B_cycle_loss:0.13926264643669128  loss_gen_total:3.7169864177703857  loss_dis_b:0.14157307147979736  loss_dis_a:0.2321358621120453  loss_dis_total:0.37370893359184265 \n",
      "Epoch 39 Step 33  loss_gen_a2b:0.2837430238723755  loss_gen_b2a:0.28564032912254333  loss_id_a2b:0.0879698172211647  loss_id_b2a:0.15203869342803955  A_B_A_cycle_loss:0.11197881400585175  B_A_B_cycle_loss:0.10123537480831146  loss_gen_total:3.9015676975250244  loss_dis_b:0.13381189107894897  loss_dis_a:0.07465540617704391  loss_dis_total:0.2084673047065735 \n",
      "Epoch 39 Step 34  loss_gen_a2b:0.37850135564804077  loss_gen_b2a:0.1558278501033783  loss_id_a2b:0.10956604778766632  loss_id_b2a:0.15622615814208984  A_B_A_cycle_loss:0.12353593856096268  B_A_B_cycle_loss:0.08339773118495941  loss_gen_total:3.932626962661743  loss_dis_b:0.24790501594543457  loss_dis_a:0.1402883380651474  loss_dis_total:0.38819336891174316 \n",
      "Epoch 39 Step 35  loss_gen_a2b:0.2764437794685364  loss_gen_b2a:0.2054295837879181  loss_id_a2b:0.12839610874652863  loss_id_b2a:0.11267486214637756  A_B_A_cycle_loss:0.16528701782226562  B_A_B_cycle_loss:0.13008621335029602  loss_gen_total:4.640960216522217  loss_dis_b:0.1505948007106781  loss_dis_a:0.3442562222480774  loss_dis_total:0.4948510229587555 \n",
      "Epoch 39 Step 36  loss_gen_a2b:0.34726589918136597  loss_gen_b2a:0.28935521841049194  loss_id_a2b:0.08692906051874161  loss_id_b2a:0.08179058134555817  A_B_A_cycle_loss:0.10969217866659164  B_A_B_cycle_loss:0.0914812982082367  loss_gen_total:3.4919543266296387  loss_dis_b:0.24224188923835754  loss_dis_a:0.11455189436674118  loss_dis_total:0.3567937910556793 \n",
      "Epoch 39 Step 37  loss_gen_a2b:0.472674697637558  loss_gen_b2a:0.1287842094898224  loss_id_a2b:0.07299436628818512  loss_id_b2a:0.13921226561069489  A_B_A_cycle_loss:0.1437380611896515  B_A_B_cycle_loss:0.0678538978099823  loss_gen_total:3.778411865234375  loss_dis_b:0.1627090722322464  loss_dis_a:0.17462728917598724  loss_dis_total:0.33733636140823364 \n",
      "Epoch 39 Step 38  loss_gen_a2b:0.15803839266300201  loss_gen_b2a:0.7235648036003113  loss_id_a2b:0.0680009126663208  loss_id_b2a:0.06960088014602661  A_B_A_cycle_loss:0.07971411198377609  B_A_B_cycle_loss:0.06884367018938065  loss_gen_total:3.055190086364746  loss_dis_b:0.2080441415309906  loss_dis_a:0.17333459854125977  loss_dis_total:0.38137874007225037 \n",
      "Epoch 39 Step 39  loss_gen_a2b:0.33240124583244324  loss_gen_b2a:0.20695196092128754  loss_id_a2b:0.10075127333402634  loss_id_b2a:0.11621569842100143  A_B_A_cycle_loss:0.1262708306312561  B_A_B_cycle_loss:0.11818897724151611  loss_gen_total:4.068786144256592  loss_dis_b:0.24000120162963867  loss_dis_a:0.09042051434516907  loss_dis_total:0.33042171597480774 \n",
      "Epoch 39 Step 40  loss_gen_a2b:0.3292642831802368  loss_gen_b2a:0.1259007304906845  loss_id_a2b:0.08576381951570511  loss_id_b2a:0.09922844171524048  A_B_A_cycle_loss:0.12891659140586853  B_A_B_cycle_loss:0.11731311678886414  loss_gen_total:3.8424232006073  loss_dis_b:0.0852358415722847  loss_dis_a:0.27707773447036743  loss_dis_total:0.36231356859207153 \n",
      "Epoch 39 Step 41  loss_gen_a2b:0.29523780941963196  loss_gen_b2a:0.23342622816562653  loss_id_a2b:0.07070734351873398  loss_id_b2a:0.08664069324731827  A_B_A_cycle_loss:0.08995800465345383  B_A_B_cycle_loss:0.08327438682317734  loss_gen_total:3.0477280616760254  loss_dis_b:0.12424194812774658  loss_dis_a:0.23437219858169556  loss_dis_total:0.35861414670944214 \n",
      "Epoch 39 Step 42  loss_gen_a2b:0.29325100779533386  loss_gen_b2a:0.23541247844696045  loss_id_a2b:0.06446653604507446  loss_id_b2a:0.08497792482376099  A_B_A_cycle_loss:0.08394759893417358  B_A_B_cycle_loss:0.08800597488880157  loss_gen_total:2.9954214096069336  loss_dis_b:0.23780383169651031  loss_dis_a:0.14539062976837158  loss_dis_total:0.3831944465637207 \n",
      "Epoch 39 Step 43  loss_gen_a2b:0.3090793192386627  loss_gen_b2a:0.19049428403377533  loss_id_a2b:0.13303610682487488  loss_id_b2a:0.06621962785720825  A_B_A_cycle_loss:0.08440674841403961  B_A_B_cycle_loss:0.13231907784938812  loss_gen_total:3.6631107330322266  loss_dis_b:0.29190173745155334  loss_dis_a:0.2102159857749939  loss_dis_total:0.5021177530288696 \n",
      "Epoch 39 Step 44  loss_gen_a2b:0.5071724653244019  loss_gen_b2a:0.5371111035346985  loss_id_a2b:0.08806905895471573  loss_id_b2a:0.09641928970813751  A_B_A_cycle_loss:0.10910028219223022  B_A_B_cycle_loss:0.11425738036632538  loss_gen_total:4.2003021240234375  loss_dis_b:0.08962763100862503  loss_dis_a:0.10036791861057281  loss_dis_total:0.18999555706977844 \n",
      "Epoch 39 Step 45  loss_gen_a2b:0.6964833736419678  loss_gen_b2a:0.5800189971923828  loss_id_a2b:0.07114244252443314  loss_id_b2a:0.07711875438690186  A_B_A_cycle_loss:0.08060406148433685  B_A_B_cycle_loss:0.07856123149394989  loss_gen_total:3.6094613075256348  loss_dis_b:0.08564409613609314  loss_dis_a:0.10692849010229111  loss_dis_total:0.19257259368896484 \n"
     ]
    },
    {
     "name": "stdout",
     "output_type": "stream",
     "text": [
      "Epoch 39 Step 46  loss_gen_a2b:0.29201117157936096  loss_gen_b2a:0.21467728912830353  loss_id_a2b:0.11605703085660934  loss_id_b2a:0.18478882312774658  A_B_A_cycle_loss:0.12242914736270905  B_A_B_cycle_loss:0.12543535232543945  loss_gen_total:4.48956298828125  loss_dis_b:0.18444669246673584  loss_dis_a:0.3195655941963196  loss_dis_total:0.5040122866630554 \n",
      "Epoch 39 Step 47  loss_gen_a2b:0.2079942524433136  loss_gen_b2a:0.4260537028312683  loss_id_a2b:0.09011977910995483  loss_id_b2a:0.07498575747013092  A_B_A_cycle_loss:0.08625971525907516  B_A_B_cycle_loss:0.11446910351514816  loss_gen_total:3.4668638706207275  loss_dis_b:0.19969983398914337  loss_dis_a:0.04531370475888252  loss_dis_total:0.2450135350227356 \n",
      "Epoch 39 Step 48  loss_gen_a2b:0.4615744650363922  loss_gen_b2a:0.14158064126968384  loss_id_a2b:0.06298026442527771  loss_id_b2a:0.10881894826889038  A_B_A_cycle_loss:0.13008660078048706  B_A_B_cycle_loss:0.05866958945989609  loss_gen_total:3.3497133255004883  loss_dis_b:0.2650125324726105  loss_dis_a:0.14141729474067688  loss_dis_total:0.40642982721328735 \n",
      "Epoch 39 Step 49  loss_gen_a2b:0.5105533599853516  loss_gen_b2a:0.4588582515716553  loss_id_a2b:0.06598418205976486  loss_id_b2a:0.07209519296884537  A_B_A_cycle_loss:0.11330626904964447  B_A_B_cycle_loss:0.08514435589313507  loss_gen_total:3.644314765930176  loss_dis_b:0.07877851277589798  loss_dis_a:0.10616841912269592  loss_dis_total:0.1849469244480133 \n",
      "Epoch 39 Step 50  loss_gen_a2b:0.3257710933685303  loss_gen_b2a:0.38581612706184387  loss_id_a2b:0.06426545977592468  loss_id_b2a:0.10353697836399078  A_B_A_cycle_loss:0.09178447723388672  B_A_B_cycle_loss:0.07445074617862701  loss_gen_total:3.21295166015625  loss_dis_b:0.21242621541023254  loss_dis_a:0.20332153141498566  loss_dis_total:0.4157477617263794 \n",
      "Epoch 39 Step 51  loss_gen_a2b:0.5024768114089966  loss_gen_b2a:0.3826654553413391  loss_id_a2b:0.09680765122175217  loss_id_b2a:0.13269340991973877  A_B_A_cycle_loss:0.15760377049446106  B_A_B_cycle_loss:0.08733079582452774  loss_gen_total:4.481993198394775  loss_dis_b:0.20926417410373688  loss_dis_a:0.23206378519535065  loss_dis_total:0.4413279592990875 \n",
      "Epoch 39 Step 52  loss_gen_a2b:0.30802109837532043  loss_gen_b2a:0.29604247212409973  loss_id_a2b:0.08416114747524261  loss_id_b2a:0.10549157857894897  A_B_A_cycle_loss:0.1342826783657074  B_A_B_cycle_loss:0.09025418758392334  loss_gen_total:3.7976958751678467  loss_dis_b:0.2055046260356903  loss_dis_a:0.04700023680925369  loss_dis_total:0.2525048553943634 \n",
      "Epoch 39 Step 53  loss_gen_a2b:0.20612767338752747  loss_gen_b2a:0.25160789489746094  loss_id_a2b:0.08090244233608246  loss_id_b2a:0.11134341359138489  A_B_A_cycle_loss:0.11812667548656464  B_A_B_cycle_loss:0.08025023341178894  loss_gen_total:3.4027340412139893  loss_dis_b:0.16292330622673035  loss_dis_a:0.12627294659614563  loss_dis_total:0.289196252822876 \n",
      "Epoch 39 Step 54  loss_gen_a2b:0.08100491017103195  loss_gen_b2a:0.13681963086128235  loss_id_a2b:0.18777264654636383  loss_id_b2a:0.09335446357727051  A_B_A_cycle_loss:0.10022192448377609  B_A_B_cycle_loss:0.25223517417907715  loss_gen_total:5.148030757904053  loss_dis_b:0.26201894879341125  loss_dis_a:0.12201283127069473  loss_dis_total:0.3840317726135254 \n",
      "Epoch 39 Step 55  loss_gen_a2b:0.16192878782749176  loss_gen_b2a:0.24990348517894745  loss_id_a2b:0.10270831733942032  loss_id_b2a:0.09808772802352905  A_B_A_cycle_loss:0.08026736974716187  B_A_B_cycle_loss:0.09246756136417389  loss_gen_total:3.1431617736816406  loss_dis_b:0.1402667909860611  loss_dis_a:0.1594209223985672  loss_dis_total:0.2996877133846283 \n",
      "Epoch 39 Step 56  loss_gen_a2b:0.2369455099105835  loss_gen_b2a:0.053229741752147675  loss_id_a2b:0.16580435633659363  loss_id_b2a:0.126135915517807  A_B_A_cycle_loss:0.11872804164886475  B_A_B_cycle_loss:0.17773941159248352  loss_gen_total:4.714550971984863  loss_dis_b:0.38616710901260376  loss_dis_a:0.33321845531463623  loss_dis_total:0.71938556432724 \n",
      "Epoch 39 Step 57  loss_gen_a2b:0.25021350383758545  loss_gen_b2a:0.14118461310863495  loss_id_a2b:0.09738174080848694  loss_id_b2a:0.0932525247335434  A_B_A_cycle_loss:0.0784611850976944  B_A_B_cycle_loss:0.07958821952342987  loss_gen_total:2.925063371658325  loss_dis_b:0.09226500988006592  loss_dis_a:0.16023269295692444  loss_dis_total:0.25249770283699036 \n",
      "Epoch 39 Step 58  loss_gen_a2b:0.35219278931617737  loss_gen_b2a:0.3095000982284546  loss_id_a2b:0.07906072586774826  loss_id_b2a:0.07316790521144867  A_B_A_cycle_loss:0.08129618316888809  B_A_B_cycle_loss:0.08467108011245728  loss_gen_total:3.0825085639953613  loss_dis_b:0.08820751309394836  loss_dis_a:0.08200360089540482  loss_dis_total:0.17021110653877258 \n",
      "Epoch 39 Step 59  loss_gen_a2b:0.15480439364910126  loss_gen_b2a:0.1341502070426941  loss_id_a2b:0.09556035697460175  loss_id_b2a:0.13561445474624634  A_B_A_cycle_loss:0.11772879958152771  B_A_B_cycle_loss:0.09739559888839722  loss_gen_total:3.5960724353790283  loss_dis_b:0.24277758598327637  loss_dis_a:0.2689090967178345  loss_dis_total:0.5116866827011108 \n",
      "Epoch 39 Step 60  loss_gen_a2b:0.6649467945098877  loss_gen_b2a:0.19568270444869995  loss_id_a2b:0.10082978010177612  loss_id_b2a:0.10869355499744415  A_B_A_cycle_loss:0.10880923271179199  B_A_B_cycle_loss:0.08498573303222656  loss_gen_total:3.846195936203003  loss_dis_b:0.08267661929130554  loss_dis_a:0.19699503481388092  loss_dis_total:0.27967166900634766 \n",
      "Epoch 39 Step 61  loss_gen_a2b:0.29508426785469055  loss_gen_b2a:0.6853122711181641  loss_id_a2b:0.06949654221534729  loss_id_b2a:0.06741592288017273  A_B_A_cycle_loss:0.09291593730449677  B_A_B_cycle_loss:0.08954314887523651  loss_gen_total:3.4895496368408203  loss_dis_b:0.12797480821609497  loss_dis_a:0.1697070300579071  loss_dis_total:0.2976818382740021 \n",
      "Epoch 39 Step 62  loss_gen_a2b:0.31797683238983154  loss_gen_b2a:0.14750897884368896  loss_id_a2b:0.13008572161197662  loss_id_b2a:0.07536246627569199  A_B_A_cycle_loss:0.08507779985666275  B_A_B_cycle_loss:0.2405342161655426  loss_gen_total:4.748847007751465  loss_dis_b:0.2166183441877365  loss_dis_a:0.18933424353599548  loss_dis_total:0.4059525728225708 \n",
      "Epoch 39 Step 63  loss_gen_a2b:0.28878650069236755  loss_gen_b2a:0.21984679996967316  loss_id_a2b:0.09783515334129333  loss_id_b2a:0.15830248594284058  A_B_A_cycle_loss:0.15735670924186707  B_A_B_cycle_loss:0.10641251504421234  loss_gen_total:4.427013397216797  loss_dis_b:0.2119797170162201  loss_dis_a:0.14852911233901978  loss_dis_total:0.36050882935523987 \n",
      "Epoch 39 Step 64  loss_gen_a2b:0.4355428218841553  loss_gen_b2a:0.2750663459300995  loss_id_a2b:0.053153399378061295  loss_id_b2a:0.09741120040416718  A_B_A_cycle_loss:0.08684107661247253  B_A_B_cycle_loss:0.11205236613750458  loss_gen_total:3.452366352081299  loss_dis_b:0.05623205006122589  loss_dis_a:0.05388582497835159  loss_dis_total:0.11011787503957748 \n",
      "Epoch 39 Step 65  loss_gen_a2b:0.17339859902858734  loss_gen_b2a:0.1138998493552208  loss_id_a2b:0.08380266278982162  loss_id_b2a:0.0694146603345871  A_B_A_cycle_loss:0.07911022007465363  B_A_B_cycle_loss:0.07912109047174454  loss_gen_total:2.6356983184814453  loss_dis_b:0.20650626718997955  loss_dis_a:0.11566616594791412  loss_dis_total:0.3221724331378937 \n",
      "Epoch 39 Step 66  loss_gen_a2b:0.45894667506217957  loss_gen_b2a:0.26289498805999756  loss_id_a2b:0.1261310875415802  loss_id_b2a:0.06978985667228699  A_B_A_cycle_loss:0.06335112452507019  B_A_B_cycle_loss:0.11819564551115036  loss_gen_total:3.5169143676757812  loss_dis_b:0.14716671407222748  loss_dis_a:0.19550321996212006  loss_dis_total:0.34266993403434753 \n",
      "Epoch 39 Step 67  loss_gen_a2b:0.045980725437402725  loss_gen_b2a:0.2054659128189087  loss_id_a2b:0.10024020075798035  loss_id_b2a:0.10319708287715912  A_B_A_cycle_loss:0.09403371810913086  B_A_B_cycle_loss:0.1097208708524704  loss_gen_total:3.3061790466308594  loss_dis_b:0.26467713713645935  loss_dis_a:0.15890231728553772  loss_dis_total:0.42357945442199707 \n",
      "Epoch 39 Step 68  loss_gen_a2b:0.1305154263973236  loss_gen_b2a:0.2895386815071106  loss_id_a2b:0.1037827879190445  loss_id_b2a:0.1300460547208786  A_B_A_cycle_loss:0.1712636798620224  B_A_B_cycle_loss:0.12613700330257416  loss_gen_total:4.563205242156982  loss_dis_b:0.1674187183380127  loss_dis_a:0.22312578558921814  loss_dis_total:0.39054450392723083 \n"
     ]
    },
    {
     "name": "stdout",
     "output_type": "stream",
     "text": [
      "Epoch 39 Step 69  loss_gen_a2b:0.8558555841445923  loss_gen_b2a:0.5004297494888306  loss_id_a2b:0.07954662293195724  loss_id_b2a:0.08427198976278305  A_B_A_cycle_loss:0.08231642842292786  B_A_B_cycle_loss:0.07882644981145859  loss_gen_total:3.7868072986602783  loss_dis_b:0.37625953555107117  loss_dis_a:0.15818652510643005  loss_dis_total:0.5344460606575012 \n",
      "Epoch 39 Step 70  loss_gen_a2b:0.705345094203949  loss_gen_b2a:0.15848013758659363  loss_id_a2b:0.1451910436153412  loss_id_b2a:0.08303577452898026  A_B_A_cycle_loss:0.112235888838768  B_A_B_cycle_loss:0.1479474902153015  loss_gen_total:4.606793403625488  loss_dis_b:0.1908087134361267  loss_dis_a:0.08734740316867828  loss_dis_total:0.2781561017036438 \n",
      "Epoch 39 Step 71  loss_gen_a2b:0.5474417805671692  loss_gen_b2a:0.3003610074520111  loss_id_a2b:0.08206315338611603  loss_id_b2a:0.0905570462346077  A_B_A_cycle_loss:0.08534470200538635  B_A_B_cycle_loss:0.0667785257101059  loss_gen_total:3.2321360111236572  loss_dis_b:0.07230185717344284  loss_dis_a:0.20627853274345398  loss_dis_total:0.2785803973674774 \n",
      "Epoch 39 Step 72  loss_gen_a2b:0.6121771335601807  loss_gen_b2a:0.2273913472890854  loss_id_a2b:0.09462413936853409  loss_id_b2a:0.1305609792470932  A_B_A_cycle_loss:0.20761138200759888  B_A_B_cycle_loss:0.08855214715003967  loss_gen_total:4.92712926864624  loss_dis_b:0.19541813433170319  loss_dis_a:0.02620326541364193  loss_dis_total:0.22162139415740967 \n",
      "Epoch 39 Step 73  loss_gen_a2b:0.3769322633743286  loss_gen_b2a:0.23184815049171448  loss_id_a2b:0.10958234965801239  loss_id_b2a:0.06708353012800217  A_B_A_cycle_loss:0.0958106741309166  B_A_B_cycle_loss:0.08122099190950394  loss_gen_total:3.2624263763427734  loss_dis_b:0.37526583671569824  loss_dis_a:0.04763779416680336  loss_dis_total:0.4229036271572113 \n",
      "Epoch 39 Step 74  loss_gen_a2b:0.37260767817497253  loss_gen_b2a:0.12669555842876434  loss_id_a2b:0.09885825216770172  loss_id_b2a:0.10214316844940186  A_B_A_cycle_loss:0.13847586512565613  B_A_B_cycle_loss:0.06243693083524704  loss_gen_total:3.5134387016296387  loss_dis_b:0.1836448311805725  loss_dis_a:0.03332311660051346  loss_dis_total:0.21696794033050537 \n",
      "Epoch 39 Step 75  loss_gen_a2b:0.1972206085920334  loss_gen_b2a:0.09015029668807983  loss_id_a2b:0.0885244607925415  loss_id_b2a:0.09442902356386185  A_B_A_cycle_loss:0.10939134657382965  B_A_B_cycle_loss:0.18664367496967316  loss_gen_total:4.1624884605407715  loss_dis_b:0.17343319952487946  loss_dis_a:0.2946888506412506  loss_dis_total:0.46812206506729126 \n",
      "Epoch 39 Step 76  loss_gen_a2b:0.16345027089118958  loss_gen_b2a:0.178120419383049  loss_id_a2b:0.08427460491657257  loss_id_b2a:0.11096411943435669  A_B_A_cycle_loss:0.0982510969042778  B_A_B_cycle_loss:0.07638612389564514  loss_gen_total:3.064136505126953  loss_dis_b:0.25606584548950195  loss_dis_a:0.13499298691749573  loss_dis_total:0.3910588324069977 \n",
      "Epoch 39 Step 77  loss_gen_a2b:0.3793928027153015  loss_gen_b2a:0.2503156065940857  loss_id_a2b:0.06873789429664612  loss_id_b2a:0.06699685752391815  A_B_A_cycle_loss:0.08759990334510803  B_A_B_cycle_loss:0.09140940755605698  loss_gen_total:3.098475456237793  loss_dis_b:0.12146838754415512  loss_dis_a:0.2349620759487152  loss_dis_total:0.3564304709434509 \n",
      "Epoch 39 Step 78  loss_gen_a2b:0.7431300282478333  loss_gen_b2a:0.591741681098938  loss_id_a2b:0.07149992138147354  loss_id_b2a:0.08707297593355179  A_B_A_cycle_loss:0.09429940581321716  B_A_B_cycle_loss:0.06405554711818695  loss_gen_total:3.7112858295440674  loss_dis_b:0.07968433201313019  loss_dis_a:0.08333580195903778  loss_dis_total:0.16302013397216797 \n",
      "Epoch 39 Step 79  loss_gen_a2b:0.4809466600418091  loss_gen_b2a:0.19872167706489563  loss_id_a2b:0.09388533234596252  loss_id_b2a:0.10673445463180542  A_B_A_cycle_loss:0.07731196284294128  B_A_B_cycle_loss:0.09115918725728989  loss_gen_total:3.367478847503662  loss_dis_b:0.2929229140281677  loss_dis_a:0.24162741005420685  loss_dis_total:0.5345503091812134 \n",
      "Epoch 39 Step 80  loss_gen_a2b:0.5208637118339539  loss_gen_b2a:0.2611315846443176  loss_id_a2b:0.07009933888912201  loss_id_b2a:0.07558079808950424  A_B_A_cycle_loss:0.07743796706199646  B_A_B_cycle_loss:0.07689253985881805  loss_gen_total:3.0537009239196777  loss_dis_b:0.09853805601596832  loss_dis_a:0.19035604596138  loss_dis_total:0.2888941168785095 \n",
      "Epoch 39 Step 81  loss_gen_a2b:0.16893665492534637  loss_gen_b2a:0.23664408922195435  loss_id_a2b:0.11132484674453735  loss_id_b2a:0.09897296875715256  A_B_A_cycle_loss:0.08175010979175568  B_A_B_cycle_loss:0.09488414973020554  loss_gen_total:3.223412275314331  loss_dis_b:0.3272486627101898  loss_dis_a:0.22136861085891724  loss_dis_total:0.5486172437667847 \n",
      "Epoch 39 Step 82  loss_gen_a2b:0.3951016366481781  loss_gen_b2a:0.23774811625480652  loss_id_a2b:0.12619557976722717  loss_id_b2a:0.14887872338294983  A_B_A_cycle_loss:0.17406761646270752  B_A_B_cycle_loss:0.11470633745193481  loss_gen_total:4.895960807800293  loss_dis_b:0.18766069412231445  loss_dis_a:0.18385428190231323  loss_dis_total:0.3715149760246277 \n",
      "Epoch 39 Step 83  loss_gen_a2b:0.15709632635116577  loss_gen_b2a:0.30181533098220825  loss_id_a2b:0.09985825419425964  loss_id_b2a:0.10600472241640091  A_B_A_cycle_loss:0.0920865535736084  B_A_B_cycle_loss:0.1011805534362793  loss_gen_total:3.4208974838256836  loss_dis_b:0.22502067685127258  loss_dis_a:0.2452532947063446  loss_dis_total:0.4702739715576172 \n",
      "Epoch 39 Step 84  loss_gen_a2b:0.165811225771904  loss_gen_b2a:0.4433337450027466  loss_id_a2b:0.056544139981269836  loss_id_b2a:0.09018783271312714  A_B_A_cycle_loss:0.09736955165863037  B_A_B_cycle_loss:0.07700875401496887  loss_gen_total:3.086587905883789  loss_dis_b:0.21019966900348663  loss_dis_a:0.124771349132061  loss_dis_total:0.33497101068496704 \n",
      "Epoch 39 Step 85  loss_gen_a2b:0.3024865388870239  loss_gen_b2a:0.25673195719718933  loss_id_a2b:0.12262345850467682  loss_id_b2a:0.10918541252613068  A_B_A_cycle_loss:0.11075769364833832  B_A_B_cycle_loss:0.13802777230739594  loss_gen_total:4.206117630004883  loss_dis_b:0.08538047969341278  loss_dis_a:0.16567878425121307  loss_dis_total:0.25105926394462585 \n",
      "Epoch 39 Step 86  loss_gen_a2b:0.2976594865322113  loss_gen_b2a:0.19760502874851227  loss_id_a2b:0.11400005221366882  loss_id_b2a:0.18052874505519867  A_B_A_cycle_loss:0.1396551877260208  B_A_B_cycle_loss:0.11120107024908066  loss_gen_total:4.476470947265625  loss_dis_b:0.300111323595047  loss_dis_a:0.2741730511188507  loss_dis_total:0.5742843747138977 \n",
      "Epoch 39 Step 87  loss_gen_a2b:0.6500154137611389  loss_gen_b2a:0.17231012880802155  loss_id_a2b:0.10288955271244049  loss_id_b2a:0.14880716800689697  A_B_A_cycle_loss:0.12618587911128998  B_A_B_cycle_loss:0.1107989102602005  loss_gen_total:4.450656890869141  loss_dis_b:0.2745511829853058  loss_dis_a:0.2504279315471649  loss_dis_total:0.5249791145324707 \n",
      "Epoch 39 Step 88  loss_gen_a2b:0.3760756552219391  loss_gen_b2a:0.590241014957428  loss_id_a2b:0.09621844440698624  loss_id_b2a:0.10324167460203171  A_B_A_cycle_loss:0.10713250935077667  B_A_B_cycle_loss:0.1179027333855629  loss_gen_total:4.213969707489014  loss_dis_b:0.13353510200977325  loss_dis_a:0.1432201862335205  loss_dis_total:0.27675527334213257 \n",
      "Epoch 39 Step 89  loss_gen_a2b:0.26952868700027466  loss_gen_b2a:0.3873994052410126  loss_id_a2b:0.06764806061983109  loss_id_b2a:0.083963543176651  A_B_A_cycle_loss:0.0873313695192337  B_A_B_cycle_loss:0.08578262478113174  loss_gen_total:3.1461262702941895  loss_dis_b:0.14863528311252594  loss_dis_a:0.09636770188808441  loss_dis_total:0.24500298500061035 \n",
      "Epoch 39 Step 90  loss_gen_a2b:0.36616426706314087  loss_gen_b2a:0.2251650094985962  loss_id_a2b:0.07564856112003326  loss_id_b2a:0.13651511073112488  A_B_A_cycle_loss:0.17238149046897888  B_A_B_cycle_loss:0.09544896334409714  loss_gen_total:4.3304524421691895  loss_dis_b:0.14678001403808594  loss_dis_a:0.17844830453395844  loss_dis_total:0.32522833347320557 \n",
      "Epoch 39 Step 91  loss_gen_a2b:0.5029706954956055  loss_gen_b2a:0.2742730975151062  loss_id_a2b:0.14031453430652618  loss_id_b2a:0.18339072167873383  A_B_A_cycle_loss:0.17055533826351166  B_A_B_cycle_loss:0.14412470161914825  loss_gen_total:5.5425705909729  loss_dis_b:0.3997786045074463  loss_dis_a:0.2155867964029312  loss_dis_total:0.6153653860092163 \n"
     ]
    },
    {
     "name": "stdout",
     "output_type": "stream",
     "text": [
      "Epoch 39 Step 92  loss_gen_a2b:0.42248648405075073  loss_gen_b2a:0.5113292932510376  loss_id_a2b:0.1005832701921463  loss_id_b2a:0.12099676579236984  A_B_A_cycle_loss:0.11173790693283081  B_A_B_cycle_loss:0.08715862035751343  loss_gen_total:4.030681133270264  loss_dis_b:0.09504293650388718  loss_dis_a:0.22316968441009521  loss_dis_total:0.318212628364563 \n",
      "Epoch 39 Step 93  loss_gen_a2b:0.35563674569129944  loss_gen_b2a:0.46685048937797546  loss_id_a2b:0.06795751303434372  loss_id_b2a:0.06558853387832642  A_B_A_cycle_loss:0.07964703440666199  B_A_B_cycle_loss:0.07639848440885544  loss_gen_total:3.050673007965088  loss_dis_b:0.1854282021522522  loss_dis_a:0.22584748268127441  loss_dis_total:0.4112756848335266 \n",
      "Epoch 39 Step 94  loss_gen_a2b:0.09905603528022766  loss_gen_b2a:0.3353358805179596  loss_id_a2b:0.12086285650730133  loss_id_b2a:0.13368995487689972  A_B_A_cycle_loss:0.11879881471395493  B_A_B_cycle_loss:0.08933069556951523  loss_gen_total:3.7884511947631836  loss_dis_b:0.34515661001205444  loss_dis_a:0.20015546679496765  loss_dis_total:0.5453120470046997 \n",
      "Epoch 39 Step 95  loss_gen_a2b:0.4604685604572296  loss_gen_b2a:0.48486799001693726  loss_id_a2b:0.10334830731153488  loss_id_b2a:0.18969731032848358  A_B_A_cycle_loss:0.14787557721138  B_A_B_cycle_loss:0.10322605073451996  loss_gen_total:4.921580791473389  loss_dis_b:0.15799236297607422  loss_dis_a:0.22393687069416046  loss_dis_total:0.3819292187690735 \n",
      "Epoch 39 Step 96  loss_gen_a2b:0.24458180367946625  loss_gen_b2a:0.5149694085121155  loss_id_a2b:0.09065234661102295  loss_id_b2a:0.10973698645830154  A_B_A_cycle_loss:0.10794799029827118  B_A_B_cycle_loss:0.12114859372377396  loss_gen_total:4.052464008331299  loss_dis_b:0.14053195714950562  loss_dis_a:0.15441671013832092  loss_dis_total:0.29494866728782654 \n",
      "Epoch 39 Step 97  loss_gen_a2b:0.46981409192085266  loss_gen_b2a:0.06309958547353745  loss_id_a2b:0.11937287449836731  loss_id_b2a:0.09244772791862488  A_B_A_cycle_loss:0.07312831282615662  B_A_B_cycle_loss:0.13947470486164093  loss_gen_total:3.7180469036102295  loss_dis_b:0.09804470837116241  loss_dis_a:0.07603693008422852  loss_dis_total:0.17408163845539093 \n",
      "Epoch 39 Step 98  loss_gen_a2b:0.3984234929084778  loss_gen_b2a:0.22923120856285095  loss_id_a2b:0.0741063803434372  loss_id_b2a:0.11962461471557617  A_B_A_cycle_loss:0.10460466891527176  B_A_B_cycle_loss:0.09396331757307053  loss_gen_total:3.5819897651672363  loss_dis_b:0.08015801012516022  loss_dis_a:0.21480439603328705  loss_dis_total:0.29496240615844727 \n",
      "Epoch 39 Step 99  loss_gen_a2b:0.41208383440971375  loss_gen_b2a:0.11898905038833618  loss_id_a2b:0.23159903287887573  loss_id_b2a:0.09274858236312866  A_B_A_cycle_loss:0.09608151763677597  B_A_B_cycle_loss:0.2215144783258438  loss_gen_total:5.328770637512207  loss_dis_b:0.5022419095039368  loss_dis_a:0.13154974579811096  loss_dis_total:0.6337916851043701 \n",
      "Epoch 39 Step 100  loss_gen_a2b:0.3230741322040558  loss_gen_b2a:0.3182474970817566  loss_id_a2b:0.10299941897392273  loss_id_b2a:0.0938660055398941  A_B_A_cycle_loss:0.1516420990228653  B_A_B_cycle_loss:0.11181941628456116  loss_gen_total:4.2602643966674805  loss_dis_b:0.28668659925460815  loss_dis_a:0.06071225181221962  loss_dis_total:0.3473988473415375 \n",
      "Epoch 39 Step 101  loss_gen_a2b:0.689620852470398  loss_gen_b2a:0.13888424634933472  loss_id_a2b:0.0854901373386383  loss_id_b2a:0.09271247684955597  A_B_A_cycle_loss:0.10330882668495178  B_A_B_cycle_loss:0.08439654856920242  loss_gen_total:3.596571922302246  loss_dis_b:0.19482754170894623  loss_dis_a:0.058056604117155075  loss_dis_total:0.2528841495513916 \n",
      "Epoch 39 Step 102  loss_gen_a2b:0.23842044174671173  loss_gen_b2a:0.155743807554245  loss_id_a2b:0.05711442232131958  loss_id_b2a:0.06683973968029022  A_B_A_cycle_loss:0.08469311147928238  B_A_B_cycle_loss:0.07794197648763657  loss_gen_total:2.6402859687805176  loss_dis_b:0.31072863936424255  loss_dis_a:0.06725026667118073  loss_dis_total:0.3779789209365845 \n",
      "Epoch 39 Step 103  loss_gen_a2b:0.2646677792072296  loss_gen_b2a:0.06453274935483932  loss_id_a2b:0.09981433302164078  loss_id_b2a:0.10833317041397095  A_B_A_cycle_loss:0.1144983321428299  B_A_B_cycle_loss:0.08625990897417068  loss_gen_total:3.3775205612182617  loss_dis_b:0.21810194849967957  loss_dis_a:0.10262852907180786  loss_dis_total:0.3207304775714874 \n",
      "Epoch 39 Step 104  loss_gen_a2b:0.22167706489562988  loss_gen_b2a:0.1361774206161499  loss_id_a2b:0.0887644812464714  loss_id_b2a:0.06094592809677124  A_B_A_cycle_loss:0.07378578931093216  B_A_B_cycle_loss:0.0625147819519043  loss_gen_total:2.469412326812744  loss_dis_b:0.41196054220199585  loss_dis_a:0.0896885097026825  loss_dis_total:0.501649022102356 \n",
      "Epoch 39 Step 105  loss_gen_a2b:0.35876625776290894  loss_gen_b2a:0.25256046652793884  loss_id_a2b:0.09828175604343414  loss_id_b2a:0.09873387217521667  A_B_A_cycle_loss:0.11429347842931747  B_A_B_cycle_loss:0.10870899260044098  loss_gen_total:3.8264293670654297  loss_dis_b:0.15968698263168335  loss_dis_a:0.17114131152629852  loss_dis_total:0.33082830905914307 \n",
      "Epoch 39 Step 106  loss_gen_a2b:0.5027908682823181  loss_gen_b2a:0.38311314582824707  loss_id_a2b:0.08544167876243591  loss_id_b2a:0.12066198140382767  A_B_A_cycle_loss:0.1337752640247345  B_A_B_cycle_loss:0.10277613252401352  loss_gen_total:4.2819366455078125  loss_dis_b:0.08610609173774719  loss_dis_a:0.3765738606452942  loss_dis_total:0.4626799523830414 \n",
      "Epoch 39 Step 107  loss_gen_a2b:0.7851531505584717  loss_gen_b2a:0.26829269528388977  loss_id_a2b:0.10305796563625336  loss_id_b2a:0.20972412824630737  A_B_A_cycle_loss:0.2604653239250183  B_A_B_cycle_loss:0.09466451406478882  loss_gen_total:6.168654441833496  loss_dis_b:0.24631285667419434  loss_dis_a:0.2135099470615387  loss_dis_total:0.45982280373573303 \n",
      "Epoch 39 Step 108  loss_gen_a2b:0.6538641452789307  loss_gen_b2a:0.7045365571975708  loss_id_a2b:0.13028106093406677  loss_id_b2a:0.06539905816316605  A_B_A_cycle_loss:0.06231558322906494  B_A_B_cycle_loss:0.12588578462600708  loss_gen_total:4.218814849853516  loss_dis_b:0.10178336501121521  loss_dis_a:0.0450647808611393  loss_dis_total:0.1468481421470642 \n",
      "Epoch 39 Step 109  loss_gen_a2b:0.2995673716068268  loss_gen_b2a:0.14415541291236877  loss_id_a2b:0.1314423680305481  loss_id_b2a:0.11466316878795624  A_B_A_cycle_loss:0.14555802941322327  B_A_B_cycle_loss:0.14577724039554596  loss_gen_total:4.587603569030762  loss_dis_b:0.28238993883132935  loss_dis_a:0.25471699237823486  loss_dis_total:0.5371069312095642 \n",
      "Epoch 39 Step 110  loss_gen_a2b:0.18898539245128632  loss_gen_b2a:0.5121928453445435  loss_id_a2b:0.10257171094417572  loss_id_b2a:0.09393240511417389  A_B_A_cycle_loss:0.08876821398735046  B_A_B_cycle_loss:0.11907631158828735  loss_gen_total:3.762144088745117  loss_dis_b:0.07551039010286331  loss_dis_a:0.09954453259706497  loss_dis_total:0.17505492269992828 \n",
      "Epoch 39 Step 111  loss_gen_a2b:0.2765999734401703  loss_gen_b2a:0.3052496910095215  loss_id_a2b:0.08305788040161133  loss_id_b2a:0.09962406754493713  A_B_A_cycle_loss:0.10160115361213684  B_A_B_cycle_loss:0.0885683000087738  loss_gen_total:3.39695405960083  loss_dis_b:0.19775086641311646  loss_dis_a:0.1730462908744812  loss_dis_total:0.37079715728759766 \n",
      "Epoch 39 Step 112  loss_gen_a2b:0.32826071977615356  loss_gen_b2a:0.36642685532569885  loss_id_a2b:0.08607791364192963  loss_id_b2a:0.21518266201019287  A_B_A_cycle_loss:0.2499273419380188  B_A_B_cycle_loss:0.0994962826371193  loss_gen_total:5.695226669311523  loss_dis_b:0.13539552688598633  loss_dis_a:0.11747428774833679  loss_dis_total:0.2528698146343231 \n",
      "Epoch 39 Step 113  loss_gen_a2b:0.2535618543624878  loss_gen_b2a:0.42589062452316284  loss_id_a2b:0.08786731958389282  loss_id_b2a:0.13294517993927002  A_B_A_cycle_loss:0.1284068524837494  B_A_B_cycle_loss:0.09766126424074173  loss_gen_total:4.044196128845215  loss_dis_b:0.2010766863822937  loss_dis_a:0.053454019129276276  loss_dis_total:0.2545306980609894 \n",
      "Epoch 39 Step 114  loss_gen_a2b:0.3160412013530731  loss_gen_b2a:0.4002903401851654  loss_id_a2b:0.06877879053354263  loss_id_b2a:0.09337778389453888  A_B_A_cycle_loss:0.1089567244052887  B_A_B_cycle_loss:0.12649622559547424  loss_gen_total:3.881643772125244  loss_dis_b:0.24390468001365662  loss_dis_a:0.11976301670074463  loss_dis_total:0.36366769671440125 \n"
     ]
    },
    {
     "name": "stdout",
     "output_type": "stream",
     "text": [
      "Epoch 39 Step 115  loss_gen_a2b:0.31077995896339417  loss_gen_b2a:0.39196905493736267  loss_id_a2b:0.07826963067054749  loss_id_b2a:0.1553584635257721  A_B_A_cycle_loss:0.1171204149723053  B_A_B_cycle_loss:0.08015243709087372  loss_gen_total:3.8436179161071777  loss_dis_b:0.07129507511854172  loss_dis_a:0.111561119556427  loss_dis_total:0.18285620212554932 \n",
      "Epoch 39 Step 116  loss_gen_a2b:0.646371603012085  loss_gen_b2a:0.4813615381717682  loss_id_a2b:0.11758717149496078  loss_id_b2a:0.13985517621040344  A_B_A_cycle_loss:0.11878125369548798  B_A_B_cycle_loss:0.11832336336374283  loss_gen_total:4.785991191864014  loss_dis_b:0.06085249036550522  loss_dis_a:0.1535300612449646  loss_dis_total:0.21438255906105042 \n",
      "Epoch 39 Step 117  loss_gen_a2b:0.6380685567855835  loss_gen_b2a:0.21987862884998322  loss_id_a2b:0.08765935897827148  loss_id_b2a:0.06827153265476227  A_B_A_cycle_loss:0.08005177974700928  B_A_B_cycle_loss:0.10431933403015137  loss_gen_total:3.4813127517700195  loss_dis_b:0.266798198223114  loss_dis_a:0.04737844318151474  loss_dis_total:0.31417664885520935 \n",
      "Epoch 39 Step 118  loss_gen_a2b:0.5005937814712524  loss_gen_b2a:0.21392425894737244  loss_id_a2b:0.12792766094207764  loss_id_b2a:0.06806091219186783  A_B_A_cycle_loss:0.08094707131385803  B_A_B_cycle_loss:0.14546993374824524  loss_gen_total:3.9586310386657715  loss_dis_b:0.2003219574689865  loss_dis_a:0.19910702109336853  loss_dis_total:0.39942896366119385 \n",
      "Epoch 39 Step 119  loss_gen_a2b:0.1905503123998642  loss_gen_b2a:0.11890797317028046  loss_id_a2b:0.11196267604827881  loss_id_b2a:0.12133730947971344  A_B_A_cycle_loss:0.10203628242015839  B_A_B_cycle_loss:0.10147275030612946  loss_gen_total:3.5110487937927246  loss_dis_b:0.16402576863765717  loss_dis_a:0.4138776659965515  loss_dis_total:0.5779034495353699 \n",
      "Epoch 39 Step 120  loss_gen_a2b:0.35065409541130066  loss_gen_b2a:0.2801571488380432  loss_id_a2b:0.09549686312675476  loss_id_b2a:0.10084796696901321  A_B_A_cycle_loss:0.10801906883716583  B_A_B_cycle_loss:0.12382221221923828  loss_gen_total:3.930948257446289  loss_dis_b:0.16414642333984375  loss_dis_a:0.19091027975082397  loss_dis_total:0.3550567030906677 \n",
      "Epoch 39 Step 121  loss_gen_a2b:0.3144487738609314  loss_gen_b2a:0.5454372763633728  loss_id_a2b:0.055165547877550125  loss_id_b2a:0.10417123138904572  A_B_A_cycle_loss:0.09710535407066345  B_A_B_cycle_loss:0.09459814429283142  loss_gen_total:3.5736050605773926  loss_dis_b:0.17304356396198273  loss_dis_a:0.22183498740196228  loss_dis_total:0.3948785662651062 \n",
      "Epoch 39 Step 122  loss_gen_a2b:0.5274667739868164  loss_gen_b2a:0.3147595226764679  loss_id_a2b:0.09633989632129669  loss_id_b2a:0.08162147551774979  A_B_A_cycle_loss:0.09051209688186646  B_A_B_cycle_loss:0.09544014930725098  loss_gen_total:3.591555595397949  loss_dis_b:0.12453795224428177  loss_dis_a:0.1489664763212204  loss_dis_total:0.27350443601608276 \n",
      "Epoch 39 Step 123  loss_gen_a2b:0.5091578960418701  loss_gen_b2a:0.5303887724876404  loss_id_a2b:0.11158531159162521  loss_id_b2a:0.07229893654584885  A_B_A_cycle_loss:0.08111158013343811  B_A_B_cycle_loss:0.07575011998414993  loss_gen_total:3.5275847911834717  loss_dis_b:0.24556240439414978  loss_dis_a:0.07347912341356277  loss_dis_total:0.31904152035713196 \n",
      "Epoch 39 Step 124  loss_gen_a2b:0.34041827917099  loss_gen_b2a:0.17174875736236572  loss_id_a2b:0.0919993668794632  loss_id_b2a:0.09112807363271713  A_B_A_cycle_loss:0.08766378462314606  B_A_B_cycle_loss:0.07728108763694763  loss_gen_total:3.0772528648376465  loss_dis_b:0.30923938751220703  loss_dis_a:0.0357014462351799  loss_dis_total:0.34494084119796753 \n",
      "Epoch 39 Step 125  loss_gen_a2b:0.3495369851589203  loss_gen_b2a:0.45934930443763733  loss_id_a2b:0.06633700430393219  loss_id_b2a:0.13328197598457336  A_B_A_cycle_loss:0.1536468267440796  B_A_B_cycle_loss:0.061484288424253464  loss_gen_total:3.9582924842834473  loss_dis_b:0.1598423570394516  loss_dis_a:0.13530829548835754  loss_dis_total:0.29515063762664795 \n",
      "Epoch 39 Step 126  loss_gen_a2b:0.15881259739398956  loss_gen_b2a:0.2961595058441162  loss_id_a2b:0.07259581983089447  loss_id_b2a:0.09881661832332611  A_B_A_cycle_loss:0.10569021850824356  B_A_B_cycle_loss:0.07378458231687546  loss_gen_total:3.1067824363708496  loss_dis_b:0.2018548548221588  loss_dis_a:0.10804447531700134  loss_dis_total:0.30989933013916016 \n",
      "Epoch 39 Step 127  loss_gen_a2b:0.13024500012397766  loss_gen_b2a:0.09976507723331451  loss_id_a2b:0.14795354008674622  loss_id_b2a:0.11066441237926483  A_B_A_cycle_loss:0.09141864627599716  B_A_B_cycle_loss:0.16281314194202423  loss_gen_total:4.065417289733887  loss_dis_b:0.08563004434108734  loss_dis_a:0.3500080108642578  loss_dis_total:0.43563807010650635 \n",
      "Epoch 39 Step 128  loss_gen_a2b:0.6658544540405273  loss_gen_b2a:0.1283191442489624  loss_id_a2b:0.07203066349029541  loss_id_b2a:0.07096680998802185  A_B_A_cycle_loss:0.06964077055454254  B_A_B_cycle_loss:0.06950986385345459  loss_gen_total:2.900667190551758  loss_dis_b:0.13597452640533447  loss_dis_a:0.2763743996620178  loss_dis_total:0.4123489260673523 \n",
      "Epoch 39 Step 129  loss_gen_a2b:0.36120086908340454  loss_gen_b2a:0.6888265609741211  loss_id_a2b:0.08566891402006149  loss_id_b2a:0.08750234544277191  A_B_A_cycle_loss:0.11650866270065308  B_A_B_cycle_loss:0.08245731890201569  loss_gen_total:3.905543327331543  loss_dis_b:0.22848032414913177  loss_dis_a:0.12174978852272034  loss_dis_total:0.3502300977706909 \n",
      "Epoch 39 Step 130  loss_gen_a2b:0.15084600448608398  loss_gen_b2a:0.4515213072299957  loss_id_a2b:0.12884584069252014  loss_id_b2a:0.08646774291992188  A_B_A_cycle_loss:0.11713661998510361  B_A_B_cycle_loss:0.09645557403564453  loss_gen_total:3.814857244491577  loss_dis_b:0.2107974737882614  loss_dis_a:0.23660194873809814  loss_dis_total:0.44739943742752075 \n",
      "Epoch 39 Step 131  loss_gen_a2b:0.297666072845459  loss_gen_b2a:0.07064574956893921  loss_id_a2b:0.0989304631948471  loss_id_b2a:0.1479821801185608  A_B_A_cycle_loss:0.1236841231584549  B_A_B_cycle_loss:0.09531562030315399  loss_gen_total:3.792872428894043  loss_dis_b:0.2202686369419098  loss_dis_a:0.33223241567611694  loss_dis_total:0.5525010824203491 \n",
      "Epoch 39 Step 132  loss_gen_a2b:0.15092450380325317  loss_gen_b2a:0.4605199992656708  loss_id_a2b:0.13259756565093994  loss_id_b2a:0.10076626390218735  A_B_A_cycle_loss:0.0950065404176712  B_A_B_cycle_loss:0.1369321644306183  loss_gen_total:4.097650527954102  loss_dis_b:0.19299544394016266  loss_dis_a:0.27063727378845215  loss_dis_total:0.4636327028274536 \n",
      "Epoch 39 Step 133  loss_gen_a2b:0.13864821195602417  loss_gen_b2a:0.5555381178855896  loss_id_a2b:0.10691599547863007  loss_id_b2a:0.09932271391153336  A_B_A_cycle_loss:0.13417020440101624  B_A_B_cycle_loss:0.08570078015327454  loss_gen_total:3.9240899085998535  loss_dis_b:0.3867008686065674  loss_dis_a:0.1073557585477829  loss_dis_total:0.4940566420555115 \n",
      "Epoch 39 Step 134  loss_gen_a2b:0.3308607041835785  loss_gen_b2a:0.2739972770214081  loss_id_a2b:0.1056472510099411  loss_id_b2a:0.0750773698091507  A_B_A_cycle_loss:0.07978710532188416  B_A_B_cycle_loss:0.10709603130817413  loss_gen_total:3.377312421798706  loss_dis_b:0.16526691615581512  loss_dis_a:0.039798300713300705  loss_dis_total:0.20506522059440613 \n",
      "Epoch 39 Step 135  loss_gen_a2b:0.34166470170021057  loss_gen_b2a:0.1985182911157608  loss_id_a2b:0.08879543095827103  loss_id_b2a:0.08938367664813995  A_B_A_cycle_loss:0.10987544059753418  B_A_B_cycle_loss:0.08280982077121735  loss_gen_total:3.357931137084961  loss_dis_b:0.22260591387748718  loss_dis_a:0.15063513815402985  loss_dis_total:0.3732410669326782 \n",
      "Epoch 39 Step 136  loss_gen_a2b:0.37731024622917175  loss_gen_b2a:0.34640708565711975  loss_id_a2b:0.07459771633148193  loss_id_b2a:0.07508149743080139  A_B_A_cycle_loss:0.07890494167804718  B_A_B_cycle_loss:0.0785309299826622  loss_gen_total:3.0464720726013184  loss_dis_b:0.1696593463420868  loss_dis_a:0.09339433908462524  loss_dis_total:0.26305368542671204 \n",
      "Epoch 39 Step 137  loss_gen_a2b:0.6614847183227539  loss_gen_b2a:0.3015092611312866  loss_id_a2b:0.06280481070280075  loss_id_b2a:0.10476763546466827  A_B_A_cycle_loss:0.09997275471687317  B_A_B_cycle_loss:0.11719029396772385  loss_gen_total:3.972486734390259  loss_dis_b:0.0636695995926857  loss_dis_a:0.05718907341361046  loss_dis_total:0.12085866928100586 \n"
     ]
    },
    {
     "name": "stdout",
     "output_type": "stream",
     "text": [
      "Epoch 39 Step 138  loss_gen_a2b:0.6990476846694946  loss_gen_b2a:0.23747381567955017  loss_id_a2b:0.12903256714344025  loss_id_b2a:0.09823846817016602  A_B_A_cycle_loss:0.10708892345428467  B_A_B_cycle_loss:0.1219029575586319  loss_gen_total:4.362795829772949  loss_dis_b:0.1357201635837555  loss_dis_a:0.07418500632047653  loss_dis_total:0.20990517735481262 \n",
      "Epoch 39 Step 139  loss_gen_a2b:0.35870933532714844  loss_gen_b2a:0.18388742208480835  loss_id_a2b:0.09398028254508972  loss_id_b2a:0.0891556665301323  A_B_A_cycle_loss:0.10197325050830841  B_A_B_cycle_loss:0.11838546395301819  loss_gen_total:3.6618638038635254  loss_dis_b:0.1909054070711136  loss_dis_a:0.311160683631897  loss_dis_total:0.5020660758018494 \n",
      "Epoch 39 Step 140  loss_gen_a2b:0.19254888594150543  loss_gen_b2a:0.20973804593086243  loss_id_a2b:0.15799546241760254  loss_id_b2a:0.12988753616809845  A_B_A_cycle_loss:0.11088095605373383  B_A_B_cycle_loss:0.19372820854187012  loss_gen_total:4.88779354095459  loss_dis_b:0.21080268919467926  loss_dis_a:0.2244325429201126  loss_dis_total:0.43523523211479187 \n",
      "Epoch 39 Step 141  loss_gen_a2b:0.16451908648014069  loss_gen_b2a:0.27531731128692627  loss_id_a2b:0.05280033126473427  loss_id_b2a:0.10903574526309967  A_B_A_cycle_loss:0.11278393864631653  B_A_B_cycle_loss:0.07538937032222748  loss_gen_total:3.1307497024536133  loss_dis_b:0.22784078121185303  loss_dis_a:0.09546735882759094  loss_dis_total:0.32330814003944397 \n",
      "Epoch 39 Step 142  loss_gen_a2b:0.2927573621273041  loss_gen_b2a:0.18445900082588196  loss_id_a2b:0.08019789308309555  loss_id_b2a:0.21223171055316925  A_B_A_cycle_loss:0.24345767498016357  B_A_B_cycle_loss:0.08284255862236023  loss_gen_total:5.202366828918457  loss_dis_b:0.14485615491867065  loss_dis_a:0.14288973808288574  loss_dis_total:0.2877458930015564 \n",
      "Epoch 39 Step 143  loss_gen_a2b:0.32039588689804077  loss_gen_b2a:0.08298972994089127  loss_id_a2b:0.07789143174886703  loss_id_b2a:0.10671576857566833  A_B_A_cycle_loss:0.1021992564201355  B_A_B_cycle_loss:0.12816181778907776  loss_gen_total:3.630032539367676  loss_dis_b:0.08782459050416946  loss_dis_a:0.06157812476158142  loss_dis_total:0.1494027078151703 \n",
      "Epoch 39 Step 144  loss_gen_a2b:0.21481449902057648  loss_gen_b2a:0.0991152673959732  loss_id_a2b:0.07750716805458069  loss_id_b2a:0.08195824176073074  A_B_A_cycle_loss:0.11157446354627609  B_A_B_cycle_loss:0.07901637256145477  loss_gen_total:3.017165184020996  loss_dis_b:0.2234116494655609  loss_dis_a:0.28464531898498535  loss_dis_total:0.5080569982528687 \n",
      "Epoch 39 Step 145  loss_gen_a2b:0.5301457047462463  loss_gen_b2a:0.45216506719589233  loss_id_a2b:0.06497539579868317  loss_id_b2a:0.2133881151676178  A_B_A_cycle_loss:0.19486376643180847  B_A_B_cycle_loss:0.0721866637468338  loss_gen_total:5.044632911682129  loss_dis_b:0.074312724173069  loss_dis_a:0.13797545433044434  loss_dis_total:0.21228817105293274 \n",
      "Epoch 39 Step 146  loss_gen_a2b:0.4407566785812378  loss_gen_b2a:0.5028708577156067  loss_id_a2b:0.1843857765197754  loss_id_b2a:0.11361002177000046  A_B_A_cycle_loss:0.10104428976774216  B_A_B_cycle_loss:0.19100090861320496  loss_gen_total:5.354058742523193  loss_dis_b:0.0763004720211029  loss_dis_a:0.16123616695404053  loss_dis_total:0.23753663897514343 \n",
      "Epoch 39 Step 147  loss_gen_a2b:0.5285167694091797  loss_gen_b2a:0.1294858455657959  loss_id_a2b:0.08808466047048569  loss_id_b2a:0.11391942203044891  A_B_A_cycle_loss:0.10156947374343872  B_A_B_cycle_loss:0.123304083943367  loss_gen_total:3.9167585372924805  loss_dis_b:0.1624257117509842  loss_dis_a:0.32486605644226074  loss_dis_total:0.48729175329208374 \n",
      "Epoch 39 Step 148  loss_gen_a2b:0.4519990086555481  loss_gen_b2a:0.8515364527702332  loss_id_a2b:0.11140839755535126  loss_id_b2a:0.10925037413835526  A_B_A_cycle_loss:0.16761931777000427  B_A_B_cycle_loss:0.11824388056993484  loss_gen_total:5.265461444854736  loss_dis_b:0.12356753647327423  loss_dis_a:0.10247621685266495  loss_dis_total:0.22604376077651978 \n",
      "Epoch 39 Step 149  loss_gen_a2b:0.05237670615315437  loss_gen_b2a:0.6498030424118042  loss_id_a2b:0.07644471526145935  loss_id_b2a:0.11880814284086227  A_B_A_cycle_loss:0.12647515535354614  B_A_B_cycle_loss:0.09736599028110504  loss_gen_total:3.9168553352355957  loss_dis_b:0.4788326025009155  loss_dis_a:0.22915375232696533  loss_dis_total:0.7079863548278809 \n",
      "Epoch 39 Step 150  loss_gen_a2b:0.4696539044380188  loss_gen_b2a:0.6191539168357849  loss_id_a2b:0.10175918787717819  loss_id_b2a:0.0880134329199791  A_B_A_cycle_loss:0.09913439303636551  B_A_B_cycle_loss:0.10797612369060516  loss_gen_total:4.108776092529297  loss_dis_b:0.08132541179656982  loss_dis_a:0.1986061930656433  loss_dis_total:0.27993160486221313 \n",
      "Epoch 39 Step 151  loss_gen_a2b:0.49181848764419556  loss_gen_b2a:0.20651213824748993  loss_id_a2b:0.10136307775974274  loss_id_b2a:0.09370716661214828  A_B_A_cycle_loss:0.1429719626903534  B_A_B_cycle_loss:0.11202913522720337  loss_gen_total:4.223692893981934  loss_dis_b:0.3120611310005188  loss_dis_a:0.15832778811454773  loss_dis_total:0.47038891911506653 \n",
      "Epoch 39 Step 152  loss_gen_a2b:0.373698890209198  loss_gen_b2a:0.06717508286237717  loss_id_a2b:0.10093513131141663  loss_id_b2a:0.06176836043596268  A_B_A_cycle_loss:0.08008183538913727  B_A_B_cycle_loss:0.08898584544658661  loss_gen_total:2.945068359375  loss_dis_b:0.1044529527425766  loss_dis_a:0.08680793642997742  loss_dis_total:0.19126088917255402 \n",
      "Epoch 39 Step 153  loss_gen_a2b:0.2940945029258728  loss_gen_b2a:0.1244092732667923  loss_id_a2b:0.11580860614776611  loss_id_b2a:0.08980907499790192  A_B_A_cycle_loss:0.08094698190689087  B_A_B_cycle_loss:0.0949287936091423  loss_gen_total:3.205349922180176  loss_dis_b:0.25595250725746155  loss_dis_a:0.20124292373657227  loss_dis_total:0.4571954309940338 \n",
      "Epoch 39 Step 154  loss_gen_a2b:0.1668521910905838  loss_gen_b2a:0.7016180753707886  loss_id_a2b:0.15286767482757568  loss_id_b2a:0.08992141485214233  A_B_A_cycle_loss:0.10818380117416382  B_A_B_cycle_loss:0.1408313363790512  loss_gen_total:4.572566986083984  loss_dis_b:0.2138092964887619  loss_dis_a:0.12471553683280945  loss_dis_total:0.33852481842041016 \n",
      "Epoch 39 Step 155  loss_gen_a2b:0.44197946786880493  loss_gen_b2a:0.25137537717819214  loss_id_a2b:0.09513889253139496  loss_id_b2a:0.06518124043941498  A_B_A_cycle_loss:0.07314664870500565  B_A_B_cycle_loss:0.11021862924098969  loss_gen_total:3.328608274459839  loss_dis_b:0.36221614480018616  loss_dis_a:0.1318618655204773  loss_dis_total:0.49407801032066345 \n",
      "Epoch 39 Step 156  loss_gen_a2b:0.6589507460594177  loss_gen_b2a:0.05623788759112358  loss_id_a2b:0.12091942131519318  loss_id_b2a:0.08211268484592438  A_B_A_cycle_loss:0.08618354797363281  B_A_B_cycle_loss:0.14477801322937012  loss_gen_total:4.03996467590332  loss_dis_b:0.35387012362480164  loss_dis_a:0.36004844307899475  loss_dis_total:0.7139185667037964 \n",
      "Epoch 39 Step 157  loss_gen_a2b:0.4852944314479828  loss_gen_b2a:0.8317705392837524  loss_id_a2b:0.09711910784244537  loss_id_b2a:0.096593476831913  A_B_A_cycle_loss:0.1105738952755928  B_A_B_cycle_loss:0.12627586722373962  loss_gen_total:4.654125690460205  loss_dis_b:0.0673188641667366  loss_dis_a:0.13757963478565216  loss_dis_total:0.20489850640296936 \n",
      "Epoch 39 Step 158  loss_gen_a2b:0.18531380593776703  loss_gen_b2a:0.4964776635169983  loss_id_a2b:0.09862734377384186  loss_id_b2a:0.15798622369766235  A_B_A_cycle_loss:0.13094641268253326  B_A_B_cycle_loss:0.07710926979780197  loss_gen_total:4.045415878295898  loss_dis_b:0.2661166787147522  loss_dis_a:0.43682196736335754  loss_dis_total:0.7029386758804321 \n",
      "Epoch 39 Step 159  loss_gen_a2b:0.1898544579744339  loss_gen_b2a:0.08766055852174759  loss_id_a2b:0.12162423878908157  loss_id_b2a:0.07970306277275085  A_B_A_cycle_loss:0.0893387570977211  B_A_B_cycle_loss:0.1258770227432251  loss_gen_total:3.436309337615967  loss_dis_b:0.18190345168113708  loss_dis_a:0.17654111981391907  loss_dis_total:0.35844457149505615 \n",
      "Epoch 39 Step 160  loss_gen_a2b:0.3339306116104126  loss_gen_b2a:0.17019522190093994  loss_id_a2b:0.08105801045894623  loss_id_b2a:0.06853827834129333  A_B_A_cycle_loss:0.08522683382034302  B_A_B_cycle_loss:0.09082406014204025  loss_gen_total:3.0126161575317383  loss_dis_b:0.04847778007388115  loss_dis_a:0.34582027792930603  loss_dis_total:0.3942980468273163 \n"
     ]
    },
    {
     "name": "stdout",
     "output_type": "stream",
     "text": [
      "Epoch 39 Step 161  loss_gen_a2b:0.22970278561115265  loss_gen_b2a:0.19987480342388153  loss_id_a2b:0.12037393450737  loss_id_b2a:0.1997966766357422  A_B_A_cycle_loss:0.18303537368774414  B_A_B_cycle_loss:0.15878582000732422  loss_gen_total:5.448642730712891  loss_dis_b:0.04752211645245552  loss_dis_a:0.39071327447891235  loss_dis_total:0.43823540210723877 \n",
      "Epoch 39 Step 162  loss_gen_a2b:0.1805485039949417  loss_gen_b2a:0.29798033833503723  loss_id_a2b:0.14072668552398682  loss_id_b2a:0.07843364775180817  A_B_A_cycle_loss:0.07933871448040009  B_A_B_cycle_loss:0.08763308823108673  loss_gen_total:3.244048595428467  loss_dis_b:0.28836631774902344  loss_dis_a:0.17249968647956848  loss_dis_total:0.4608660042285919 \n",
      "Epoch 39 Step 163  loss_gen_a2b:0.37264126539230347  loss_gen_b2a:0.1638403981924057  loss_id_a2b:0.04568953067064285  loss_id_b2a:0.09404608607292175  A_B_A_cycle_loss:0.08332449197769165  B_A_B_cycle_loss:0.05835007131099701  loss_gen_total:2.6519052982330322  loss_dis_b:0.12145708501338959  loss_dis_a:0.25636211037635803  loss_dis_total:0.3778191804885864 \n",
      "Epoch 39 Step 164  loss_gen_a2b:0.22915883362293243  loss_gen_b2a:0.24668362736701965  loss_id_a2b:0.12370257079601288  loss_id_b2a:0.10190841555595398  A_B_A_cycle_loss:0.14613252878189087  B_A_B_cycle_loss:0.12821729481220245  loss_gen_total:4.347395420074463  loss_dis_b:0.4375767409801483  loss_dis_a:0.2135344296693802  loss_dis_total:0.6511111855506897 \n",
      "Epoch 39 Step 165  loss_gen_a2b:0.3442949056625366  loss_gen_b2a:0.15162135660648346  loss_id_a2b:0.07491346448659897  loss_id_b2a:0.127078115940094  A_B_A_cycle_loss:0.11366090178489685  B_A_B_cycle_loss:0.09206931293010712  loss_gen_total:3.563176155090332  loss_dis_b:0.18814155459403992  loss_dis_a:0.18606683611869812  loss_dis_total:0.37420839071273804 \n",
      "Epoch 39 Step 166  loss_gen_a2b:0.3467911183834076  loss_gen_b2a:0.11546462029218674  loss_id_a2b:0.0620010569691658  loss_id_b2a:0.12199951708316803  A_B_A_cycle_loss:0.14888235926628113  B_A_B_cycle_loss:0.09168088436126709  loss_gen_total:3.787891149520874  loss_dis_b:0.12344140559434891  loss_dis_a:0.27101457118988037  loss_dis_total:0.3944559693336487 \n",
      "Epoch 39 Step 167  loss_gen_a2b:0.31811487674713135  loss_gen_b2a:0.1249944269657135  loss_id_a2b:0.10825046896934509  loss_id_b2a:0.09313221275806427  A_B_A_cycle_loss:0.09343931078910828  B_A_B_cycle_loss:0.09579119831323624  loss_gen_total:3.342327833175659  loss_dis_b:0.2118678092956543  loss_dis_a:0.16264265775680542  loss_dis_total:0.3745104670524597 \n",
      "Epoch 39 Step 168  loss_gen_a2b:0.3547462821006775  loss_gen_b2a:0.09064335376024246  loss_id_a2b:0.1075955182313919  loss_id_b2a:0.08476454019546509  A_B_A_cycle_loss:0.08207069337368011  B_A_B_cycle_loss:0.08700127899646759  loss_gen_total:3.097909688949585  loss_dis_b:0.412197470664978  loss_dis_a:0.1226084753870964  loss_dis_total:0.534805953502655 \n",
      "Epoch 39 Step 169  loss_gen_a2b:0.49459293484687805  loss_gen_b2a:0.621818482875824  loss_id_a2b:0.05865589529275894  loss_id_b2a:0.07264424115419388  A_B_A_cycle_loss:0.08406868577003479  B_A_B_cycle_loss:0.062142591923475266  loss_gen_total:3.235024929046631  loss_dis_b:0.08807354420423508  loss_dis_a:0.1504441797733307  loss_dis_total:0.23851773142814636 \n",
      "Epoch 39 Step 170  loss_gen_a2b:0.33965611457824707  loss_gen_b2a:0.229554682970047  loss_id_a2b:0.09172698855400085  loss_id_b2a:0.06230314075946808  A_B_A_cycle_loss:0.07809016853570938  B_A_B_cycle_loss:0.09143926203250885  loss_gen_total:3.034655809402466  loss_dis_b:0.2936536967754364  loss_dis_a:0.23571372032165527  loss_dis_total:0.5293674468994141 \n",
      "Epoch 39 Step 171  loss_gen_a2b:0.27515333890914917  loss_gen_b2a:0.3971819281578064  loss_id_a2b:0.06845536828041077  loss_id_b2a:0.07653218507766724  A_B_A_cycle_loss:0.07959263026714325  B_A_B_cycle_loss:0.11005935817956924  loss_gen_total:3.293793201446533  loss_dis_b:0.06613659858703613  loss_dis_a:0.22336938977241516  loss_dis_total:0.2895059883594513 \n",
      "Epoch 39 Step 172  loss_gen_a2b:0.4035269618034363  loss_gen_b2a:0.37339141964912415  loss_id_a2b:0.0626739114522934  loss_id_b2a:0.1255054920911789  A_B_A_cycle_loss:0.12011472880840302  B_A_B_cycle_loss:0.06480193138122559  loss_gen_total:3.5669820308685303  loss_dis_b:0.1463480293750763  loss_dis_a:0.11683100461959839  loss_dis_total:0.2631790339946747 \n",
      "Epoch 39 Step 173  loss_gen_a2b:0.2448241412639618  loss_gen_b2a:0.4489060640335083  loss_id_a2b:0.11734483391046524  loss_id_b2a:0.08966099470853806  A_B_A_cycle_loss:0.11817935109138489  B_A_B_cycle_loss:0.09976041316986084  loss_gen_total:3.9081571102142334  loss_dis_b:0.19612540304660797  loss_dis_a:0.1936585158109665  loss_dis_total:0.38978391885757446 \n",
      "Epoch 39 Step 174  loss_gen_a2b:0.5831164121627808  loss_gen_b2a:0.16660909354686737  loss_id_a2b:0.1468784660100937  loss_id_b2a:0.07570300996303558  A_B_A_cycle_loss:0.08705989271402359  B_A_B_cycle_loss:0.12767571210861206  loss_gen_total:4.009988784790039  loss_dis_b:0.21236544847488403  loss_dis_a:0.2349853664636612  loss_dis_total:0.44735080003738403 \n",
      "Epoch 39 Step 175  loss_gen_a2b:0.161987766623497  loss_gen_b2a:0.13425154983997345  loss_id_a2b:0.097750723361969  loss_id_b2a:0.1664445698261261  A_B_A_cycle_loss:0.171321839094162  B_A_B_cycle_loss:0.11775466799736023  loss_gen_total:4.507981300354004  loss_dis_b:0.21098995208740234  loss_dis_a:0.3098895251750946  loss_dis_total:0.5208795070648193 \n",
      "Epoch 39 Step 176  loss_gen_a2b:0.5544608235359192  loss_gen_b2a:0.42405009269714355  loss_id_a2b:0.10731728374958038  loss_id_b2a:0.06940492987632751  A_B_A_cycle_loss:0.085294209420681  B_A_B_cycle_loss:0.08279211819171906  loss_gen_total:3.542984962463379  loss_dis_b:0.21293066442012787  loss_dis_a:0.09072566032409668  loss_dis_total:0.30365633964538574 \n",
      "Epoch 39 Step 177  loss_gen_a2b:0.3559362292289734  loss_gen_b2a:0.5347658395767212  loss_id_a2b:0.08130034804344177  loss_id_b2a:0.14763431251049042  A_B_A_cycle_loss:0.1545708328485489  B_A_B_cycle_loss:0.09177181124687195  loss_gen_total:4.4988017082214355  loss_dis_b:0.27521806955337524  loss_dis_a:0.09872931987047195  loss_dis_total:0.3739473819732666 \n",
      "Epoch 39 Step 178  loss_gen_a2b:0.22530245780944824  loss_gen_b2a:0.27452677488327026  loss_id_a2b:0.061067577451467514  loss_id_b2a:0.06163649260997772  A_B_A_cycle_loss:0.0655546560883522  B_A_B_cycle_loss:0.08240622282028198  loss_gen_total:2.592958450317383  loss_dis_b:0.19860248267650604  loss_dis_a:0.17486858367919922  loss_dis_total:0.37347108125686646 \n",
      "Epoch 39 Step 179  loss_gen_a2b:0.38632094860076904  loss_gen_b2a:0.07129380851984024  loss_id_a2b:0.06699974834918976  loss_id_b2a:0.08787894994020462  A_B_A_cycle_loss:0.08752723038196564  B_A_B_cycle_loss:0.0830235630273819  loss_gen_total:2.937516212463379  loss_dis_b:0.15112735331058502  loss_dis_a:0.17358654737472534  loss_dis_total:0.32471388578414917 \n",
      "Epoch 39 Step 180  loss_gen_a2b:0.35589122772216797  loss_gen_b2a:0.20895372331142426  loss_id_a2b:0.08268167078495026  loss_id_b2a:0.06614243239164352  A_B_A_cycle_loss:0.07600811123847961  B_A_B_cycle_loss:0.09645458310842514  loss_gen_total:3.033592700958252  loss_dis_b:0.14265742897987366  loss_dis_a:0.11709456145763397  loss_dis_total:0.25975197553634644 \n",
      "Epoch 39 Step 181  loss_gen_a2b:0.4625506103038788  loss_gen_b2a:0.3249490261077881  loss_id_a2b:0.09623546898365021  loss_id_b2a:0.12030725181102753  A_B_A_cycle_loss:0.1378333568572998  B_A_B_cycle_loss:0.09422920644283295  loss_gen_total:4.190838813781738  loss_dis_b:0.24701549112796783  loss_dis_a:0.22935426235198975  loss_dis_total:0.4763697385787964 \n",
      "Epoch 39 Step 182  loss_gen_a2b:0.8284909725189209  loss_gen_b2a:0.1722388118505478  loss_id_a2b:0.057259343564510345  loss_id_b2a:0.0556735135614872  A_B_A_cycle_loss:0.08160261809825897  B_A_B_cycle_loss:0.07856365293264389  loss_gen_total:3.1670567989349365  loss_dis_b:0.30073362588882446  loss_dis_a:0.1409011036157608  loss_dis_total:0.4416347146034241 \n",
      "Epoch 39 Step 183  loss_gen_a2b:0.4790433645248413  loss_gen_b2a:0.2159220278263092  loss_id_a2b:0.12121698260307312  loss_id_b2a:0.08006180822849274  A_B_A_cycle_loss:0.0914255678653717  B_A_B_cycle_loss:0.1097358763217926  loss_gen_total:3.7129735946655273  loss_dis_b:0.09579093009233475  loss_dis_a:0.15596359968185425  loss_dis_total:0.2517545223236084 \n"
     ]
    },
    {
     "name": "stdout",
     "output_type": "stream",
     "text": [
      "Epoch 39 Step 184  loss_gen_a2b:0.3133457899093628  loss_gen_b2a:0.21922717988491058  loss_id_a2b:0.08777942508459091  loss_id_b2a:0.07466007769107819  A_B_A_cycle_loss:0.08028368651866913  B_A_B_cycle_loss:0.12985989451408386  loss_gen_total:3.4462063312530518  loss_dis_b:0.2053980529308319  loss_dis_a:0.23312073945999146  loss_dis_total:0.43851879239082336 \n",
      "Epoch 39 Step 185  loss_gen_a2b:0.14525896310806274  loss_gen_b2a:0.4952293336391449  loss_id_a2b:0.09976717829704285  loss_id_b2a:0.09398946911096573  A_B_A_cycle_loss:0.07887141406536102  B_A_B_cycle_loss:0.10042620450258255  loss_gen_total:3.402247667312622  loss_dis_b:0.29768168926239014  loss_dis_a:0.15861725807189941  loss_dis_total:0.45629894733428955 \n",
      "Epoch 39 Step 186  loss_gen_a2b:0.33119338750839233  loss_gen_b2a:0.2687373459339142  loss_id_a2b:0.09927970170974731  loss_id_b2a:0.1315028816461563  A_B_A_cycle_loss:0.16318514943122864  B_A_B_cycle_loss:0.0935211181640625  loss_gen_total:4.320906162261963  loss_dis_b:0.20897984504699707  loss_dis_a:0.08748440444469452  loss_dis_total:0.2964642643928528 \n",
      "Epoch 39 Step 187  loss_gen_a2b:0.17023822665214539  loss_gen_b2a:0.10729233175516129  loss_id_a2b:0.09117473661899567  loss_id_b2a:0.08303817361593246  A_B_A_cycle_loss:0.09153943508863449  B_A_B_cycle_loss:0.10161981731653214  loss_gen_total:3.0801877975463867  loss_dis_b:0.18113800883293152  loss_dis_a:0.20344635844230652  loss_dis_total:0.38458436727523804 \n",
      "Epoch 39 Step 188  loss_gen_a2b:0.3363911211490631  loss_gen_b2a:0.4031573235988617  loss_id_a2b:0.07498905062675476  loss_id_b2a:0.08451437950134277  A_B_A_cycle_loss:0.10389469563961029  B_A_B_cycle_loss:0.07241445779800415  loss_gen_total:3.300157070159912  loss_dis_b:0.12884390354156494  loss_dis_a:0.025779051706194878  loss_dis_total:0.15462295711040497 \n",
      "Epoch 39 Step 189  loss_gen_a2b:0.49840793013572693  loss_gen_b2a:0.10665307939052582  loss_id_a2b:0.08613371849060059  loss_id_b2a:0.0862179547548294  A_B_A_cycle_loss:0.09535816311836243  B_A_B_cycle_loss:0.08833560347557068  loss_gen_total:3.3037571907043457  loss_dis_b:0.19910524785518646  loss_dis_a:0.1511611044406891  loss_dis_total:0.35026633739471436 \n",
      "Epoch 39 Step 190  loss_gen_a2b:0.43677520751953125  loss_gen_b2a:0.1223161593079567  loss_id_a2b:0.13113075494766235  loss_id_b2a:0.08393740653991699  A_B_A_cycle_loss:0.08929765969514847  B_A_B_cycle_loss:0.12263835221529007  loss_gen_total:3.7537922859191895  loss_dis_b:0.22713148593902588  loss_dis_a:0.29857832193374634  loss_dis_total:0.5257098078727722 \n",
      "Epoch 39 Step 191  loss_gen_a2b:0.736228883266449  loss_gen_b2a:0.3225930333137512  loss_id_a2b:0.08734150230884552  loss_id_b2a:0.12851527333259583  A_B_A_cycle_loss:0.12579606473445892  B_A_B_cycle_loss:0.08272241055965424  loss_gen_total:4.22329044342041  loss_dis_b:0.19782140851020813  loss_dis_a:0.06887000799179077  loss_dis_total:0.2666914165019989 \n",
      "Epoch 39 Step 192  loss_gen_a2b:0.3373795449733734  loss_gen_b2a:0.3008260130882263  loss_id_a2b:0.1385483592748642  loss_id_b2a:0.14644312858581543  A_B_A_cycle_loss:0.12949413061141968  B_A_B_cycle_loss:0.12146701663732529  loss_gen_total:4.572774887084961  loss_dis_b:0.16310708224773407  loss_dis_a:0.21668741106987  loss_dis_total:0.37979447841644287 \n",
      "Epoch 39 Step 193  loss_gen_a2b:0.4309452176094055  loss_gen_b2a:0.11655009537935257  loss_id_a2b:0.0695062130689621  loss_id_b2a:0.16682080924510956  A_B_A_cycle_loss:0.16705094277858734  B_A_B_cycle_loss:0.07882320135831833  loss_gen_total:4.187871932983398  loss_dis_b:0.11259707063436508  loss_dis_a:0.11732406914234161  loss_dis_total:0.2299211323261261 \n",
      "Epoch 39 Step 194  loss_gen_a2b:0.32893669605255127  loss_gen_b2a:0.10552746802568436  loss_id_a2b:0.09061118960380554  loss_id_b2a:0.07856038212776184  A_B_A_cycle_loss:0.06785546988248825  B_A_B_cycle_loss:0.10140496492385864  loss_gen_total:2.972926378250122  loss_dis_b:0.18350118398666382  loss_dis_a:0.07519100606441498  loss_dis_total:0.25869220495224 \n",
      "Epoch 39 Step 195  loss_gen_a2b:0.2718757688999176  loss_gen_b2a:0.1338232308626175  loss_id_a2b:0.08572442829608917  loss_id_b2a:0.13680744171142578  A_B_A_cycle_loss:0.12133584916591644  B_A_B_cycle_loss:0.08607262372970581  loss_gen_total:3.5924429893493652  loss_dis_b:0.13893046975135803  loss_dis_a:0.06058899313211441  loss_dis_total:0.19951945543289185 \n",
      "Epoch 39 Step 196  loss_gen_a2b:0.4133378267288208  loss_gen_b2a:0.1461258828639984  loss_id_a2b:0.06779621541500092  loss_id_b2a:0.13885866105556488  A_B_A_cycle_loss:0.14977462589740753  B_A_B_cycle_loss:0.0960807204246521  loss_gen_total:4.051291465759277  loss_dis_b:0.09873726963996887  loss_dis_a:0.24774044752120972  loss_dis_total:0.3464777171611786 \n",
      "Epoch 39 Step 197  loss_gen_a2b:0.23631492257118225  loss_gen_b2a:0.6202417612075806  loss_id_a2b:0.11045005917549133  loss_id_b2a:0.10063762962818146  A_B_A_cycle_loss:0.10383378714323044  B_A_B_cycle_loss:0.1029282659292221  loss_gen_total:3.9796156883239746  loss_dis_b:0.1876826137304306  loss_dis_a:0.16051681339740753  loss_dis_total:0.34819942712783813 \n",
      "Epoch 39 Step 198  loss_gen_a2b:0.47529861330986023  loss_gen_b2a:0.3100365698337555  loss_id_a2b:0.07469156384468079  loss_id_b2a:0.10694895684719086  A_B_A_cycle_loss:0.10461379587650299  B_A_B_cycle_loss:0.08799870312213898  loss_gen_total:3.6196627616882324  loss_dis_b:0.13061527907848358  loss_dis_a:0.14593170583248138  loss_dis_total:0.27654698491096497 \n",
      "Epoch 39 Step 199  loss_gen_a2b:0.49545353651046753  loss_gen_b2a:0.4132024049758911  loss_id_a2b:0.0761096328496933  loss_id_b2a:0.10972823947668076  A_B_A_cycle_loss:0.11316809058189392  B_A_B_cycle_loss:0.06982310116291046  loss_gen_total:3.667757034301758  loss_dis_b:0.025487065315246582  loss_dis_a:0.22461766004562378  loss_dis_total:0.25010472536087036 \n",
      "Epoch 39 Step 200  loss_gen_a2b:0.40138694643974304  loss_gen_b2a:0.21975550055503845  loss_id_a2b:0.08911319077014923  loss_id_b2a:0.0789601057767868  A_B_A_cycle_loss:0.07648898661136627  B_A_B_cycle_loss:0.10697810351848602  loss_gen_total:3.29617977142334  loss_dis_b:0.20932406187057495  loss_dis_a:0.25848376750946045  loss_dis_total:0.4678078293800354 \n",
      "Epoch 39 Step 201  loss_gen_a2b:0.33986330032348633  loss_gen_b2a:0.5701719522476196  loss_id_a2b:0.11259816586971283  loss_id_b2a:0.10038398206233978  A_B_A_cycle_loss:0.15337590873241425  B_A_B_cycle_loss:0.12900909781455994  loss_gen_total:4.7987961769104  loss_dis_b:0.41770046949386597  loss_dis_a:0.17636315524578094  loss_dis_total:0.5940636396408081 \n",
      "Epoch 39 Step 202  loss_gen_a2b:0.3121214210987091  loss_gen_b2a:0.8165315985679626  loss_id_a2b:0.0653158649802208  loss_id_b2a:0.08817822486162186  A_B_A_cycle_loss:0.1176721602678299  B_A_B_cycle_loss:0.07665608823299408  loss_gen_total:3.8394060134887695  loss_dis_b:0.03034200146794319  loss_dis_a:0.13411277532577515  loss_dis_total:0.16445477306842804 \n",
      "Epoch 39 Step 203  loss_gen_a2b:0.39730000495910645  loss_gen_b2a:0.37282875180244446  loss_id_a2b:0.06891500949859619  loss_id_b2a:0.16756078600883484  A_B_A_cycle_loss:0.2467091977596283  B_A_B_cycle_loss:0.09070344269275665  loss_gen_total:5.326634407043457  loss_dis_b:0.1765686571598053  loss_dis_a:0.19232682883739471  loss_dis_total:0.3688954710960388 \n",
      "Epoch 39 Step 204  loss_gen_a2b:0.31668758392333984  loss_gen_b2a:0.13449899852275848  loss_id_a2b:0.08139766752719879  loss_id_b2a:0.11993609368801117  A_B_A_cycle_loss:0.12190859019756317  B_A_B_cycle_loss:0.08168572187423706  loss_gen_total:3.4937984943389893  loss_dis_b:0.274165540933609  loss_dis_a:0.08974790573120117  loss_dis_total:0.3639134466648102 \n",
      "Epoch 39 Step 205  loss_gen_a2b:0.28906506299972534  loss_gen_b2a:0.19857679307460785  loss_id_a2b:0.08250987529754639  loss_id_b2a:0.1612522006034851  A_B_A_cycle_loss:0.13707023859024048  B_A_B_cycle_loss:0.08037972450256348  loss_gen_total:3.8809516429901123  loss_dis_b:0.18934805691242218  loss_dis_a:0.19002901017665863  loss_dis_total:0.3793770670890808 \n",
      "Epoch 39 Step 206  loss_gen_a2b:0.34028390049934387  loss_gen_b2a:0.793144702911377  loss_id_a2b:0.06917595863342285  loss_id_b2a:0.09864978492259979  A_B_A_cycle_loss:0.1016586422920227  B_A_B_cycle_loss:0.067069411277771  loss_gen_total:3.6598379611968994  loss_dis_b:0.24173907935619354  loss_dis_a:0.15575164556503296  loss_dis_total:0.3974907398223877 \n"
     ]
    },
    {
     "name": "stdout",
     "output_type": "stream",
     "text": [
      "Epoch 39 Step 207  loss_gen_a2b:0.12803898751735687  loss_gen_b2a:0.2077949345111847  loss_id_a2b:0.08583563566207886  loss_id_b2a:0.0654141902923584  A_B_A_cycle_loss:0.07689867913722992  B_A_B_cycle_loss:0.09170357137918472  loss_gen_total:2.7781054973602295  loss_dis_b:0.15292149782180786  loss_dis_a:0.11036016792058945  loss_dis_total:0.2632816731929779 \n",
      "Epoch 39 Step 208  loss_gen_a2b:0.12405599653720856  loss_gen_b2a:0.053803734481334686  loss_id_a2b:0.09697988629341125  loss_id_b2a:0.09888645261526108  A_B_A_cycle_loss:0.07604824006557465  B_A_B_cycle_loss:0.08065885305404663  loss_gen_total:2.7242624759674072  loss_dis_b:0.1817673146724701  loss_dis_a:0.07764177024364471  loss_dis_total:0.2594090700149536 \n",
      "Epoch 39 Step 209  loss_gen_a2b:0.15950751304626465  loss_gen_b2a:0.23352260887622833  loss_id_a2b:0.08108305931091309  loss_id_b2a:0.11405445635318756  A_B_A_cycle_loss:0.14162445068359375  B_A_B_cycle_loss:0.10641741752624512  loss_gen_total:3.8491363525390625  loss_dis_b:0.08475793898105621  loss_dis_a:0.16261334717273712  loss_dis_total:0.24737128615379333 \n",
      "Epoch 39 Step 210  loss_gen_a2b:0.24409405887126923  loss_gen_b2a:0.3391709327697754  loss_id_a2b:0.08100966364145279  loss_id_b2a:0.12796156108379364  A_B_A_cycle_loss:0.11396479606628418  B_A_B_cycle_loss:0.0755908340215683  loss_gen_total:3.523677349090576  loss_dis_b:0.20558381080627441  loss_dis_a:0.14850229024887085  loss_dis_total:0.35408610105514526 \n",
      "Epoch 39 Step 211  loss_gen_a2b:0.5606008768081665  loss_gen_b2a:0.2829076945781708  loss_id_a2b:0.06781743466854095  loss_id_b2a:0.13407695293426514  A_B_A_cycle_loss:0.14929060637950897  B_A_B_cycle_loss:0.08091995120048523  loss_gen_total:4.155086040496826  loss_dis_b:0.11359651386737823  loss_dis_a:0.03469167649745941  loss_dis_total:0.14828819036483765 \n",
      "Epoch 39 Step 212  loss_gen_a2b:0.44472604990005493  loss_gen_b2a:0.2288176417350769  loss_id_a2b:0.10172879695892334  loss_id_b2a:0.08340383321046829  A_B_A_cycle_loss:0.08933672308921814  B_A_B_cycle_loss:0.12904030084609985  loss_gen_total:3.7829771041870117  loss_dis_b:0.12202657759189606  loss_dis_a:0.19671833515167236  loss_dis_total:0.3187448978424072 \n",
      "Epoch 39 Step 213  loss_gen_a2b:0.41852110624313354  loss_gen_b2a:0.5759634971618652  loss_id_a2b:0.0759158506989479  loss_id_b2a:0.07110309600830078  A_B_A_cycle_loss:0.07701320946216583  B_A_B_cycle_loss:0.07510422170162201  loss_gen_total:3.250753402709961  loss_dis_b:0.1027631163597107  loss_dis_a:0.24228183925151825  loss_dis_total:0.34504497051239014 \n",
      "Epoch 39 Step 214  loss_gen_a2b:0.28518909215927124  loss_gen_b2a:0.4564933776855469  loss_id_a2b:0.06191501021385193  loss_id_b2a:0.11514987051486969  A_B_A_cycle_loss:0.15986931324005127  B_A_B_cycle_loss:0.0600450336933136  loss_gen_total:3.826150417327881  loss_dis_b:0.1676032841205597  loss_dis_a:0.17702920734882355  loss_dis_total:0.34463250637054443 \n",
      "Epoch 39 Step 215  loss_gen_a2b:0.40724170207977295  loss_gen_b2a:0.0670773983001709  loss_id_a2b:0.07222899794578552  loss_id_b2a:0.08196108043193817  A_B_A_cycle_loss:0.10514836758375168  B_A_B_cycle_loss:0.0650448352098465  loss_gen_total:2.9472012519836426  loss_dis_b:0.36058923602104187  loss_dis_a:0.23576116561889648  loss_dis_total:0.5963504314422607 \n",
      "Epoch 39 Step 216  loss_gen_a2b:0.07356523722410202  loss_gen_b2a:0.7583360075950623  loss_id_a2b:0.08419853448867798  loss_id_b2a:0.08339089155197144  A_B_A_cycle_loss:0.0883859172463417  B_A_B_cycle_loss:0.07703207433223724  loss_gen_total:3.324028491973877  loss_dis_b:0.3411352336406708  loss_dis_a:0.35951435565948486  loss_dis_total:0.700649619102478 \n",
      "Epoch 39 Step 217  loss_gen_a2b:0.11276262998580933  loss_gen_b2a:0.29012587666511536  loss_id_a2b:0.07627062499523163  loss_id_b2a:0.11565912514925003  A_B_A_cycle_loss:0.13913549482822418  B_A_B_cycle_loss:0.0805918425321579  loss_gen_total:3.5598106384277344  loss_dis_b:0.20710675418376923  loss_dis_a:0.23486588895320892  loss_dis_total:0.44197264313697815 \n",
      "Epoch 39 Step 218  loss_gen_a2b:0.49071282148361206  loss_gen_b2a:0.16805313527584076  loss_id_a2b:0.11478938162326813  loss_id_b2a:0.10724061727523804  A_B_A_cycle_loss:0.10585840791463852  B_A_B_cycle_loss:0.11182933300733566  loss_gen_total:3.945793628692627  loss_dis_b:0.212535560131073  loss_dis_a:0.06975268572568893  loss_dis_total:0.28228825330734253 \n",
      "Epoch 39 Step 219  loss_gen_a2b:0.1904185563325882  loss_gen_b2a:0.14463621377944946  loss_id_a2b:0.10163137316703796  loss_id_b2a:0.09095312654972076  A_B_A_cycle_loss:0.09742008149623871  B_A_B_cycle_loss:0.10313247889280319  loss_gen_total:3.3035030364990234  loss_dis_b:0.3016006350517273  loss_dis_a:0.26081329584121704  loss_dis_total:0.5624139308929443 \n",
      "Epoch 39 Step 220  loss_gen_a2b:0.4906446933746338  loss_gen_b2a:0.4211835563182831  loss_id_a2b:0.06812488287687302  loss_id_b2a:0.10726575553417206  A_B_A_cycle_loss:0.11203126609325409  B_A_B_cycle_loss:0.05786101147532463  loss_gen_total:3.487704277038574  loss_dis_b:0.16523483395576477  loss_dis_a:0.04328987002372742  loss_dis_total:0.2085247039794922 \n",
      "Epoch 39 Step 221  loss_gen_a2b:0.4061019718647003  loss_gen_b2a:0.34149861335754395  loss_id_a2b:0.10258705914020538  loss_id_b2a:0.10406254231929779  A_B_A_cycle_loss:0.1096094474196434  B_A_B_cycle_loss:0.10733971744775772  loss_gen_total:3.9503402709960938  loss_dis_b:0.16574519872665405  loss_dis_a:0.1000969409942627  loss_dis_total:0.26584213972091675 \n",
      "Epoch 39 Step 222  loss_gen_a2b:0.3172381520271301  loss_gen_b2a:0.37593507766723633  loss_id_a2b:0.14413712918758392  loss_id_b2a:0.07980453968048096  A_B_A_cycle_loss:0.08265110850334167  B_A_B_cycle_loss:0.15859374403953552  loss_gen_total:4.225329875946045  loss_dis_b:0.1876354217529297  loss_dis_a:0.17179588973522186  loss_dis_total:0.35943132638931274 \n",
      "Epoch 39 Step 223  loss_gen_a2b:0.7919401526451111  loss_gen_b2a:0.2855161130428314  loss_id_a2b:0.0704672560095787  loss_id_b2a:0.09328709542751312  A_B_A_cycle_loss:0.06960655748844147  B_A_B_cycle_loss:0.08074653148651123  loss_gen_total:3.399758815765381  loss_dis_b:0.2390628606081009  loss_dis_a:0.13577766716480255  loss_dis_total:0.37484052777290344 \n",
      "Epoch 39 Step 224  loss_gen_a2b:0.8913586735725403  loss_gen_b2a:0.1573229432106018  loss_id_a2b:0.14349031448364258  loss_id_b2a:0.13487142324447632  A_B_A_cycle_loss:0.15697011351585388  B_A_B_cycle_loss:0.15068471431732178  loss_gen_total:5.517038345336914  loss_dis_b:0.34508487582206726  loss_dis_a:0.037631548941135406  loss_dis_total:0.38271641731262207 \n",
      "Epoch 39 Step 225  loss_gen_a2b:0.3587227165699005  loss_gen_b2a:0.4817880392074585  loss_id_a2b:0.07200080156326294  loss_id_b2a:0.08612708747386932  A_B_A_cycle_loss:0.11092140525579453  B_A_B_cycle_loss:0.0743040069937706  loss_gen_total:3.4834041595458984  loss_dis_b:0.252224326133728  loss_dis_a:0.18489409983158112  loss_dis_total:0.43711841106414795 \n",
      "Epoch 39 Step 226  loss_gen_a2b:0.33394575119018555  loss_gen_b2a:0.2375364899635315  loss_id_a2b:0.11801040172576904  loss_id_b2a:0.09528165310621262  A_B_A_cycle_loss:0.09218694269657135  B_A_B_cycle_loss:0.12911328673362732  loss_gen_total:3.850944757461548  loss_dis_b:0.1097901463508606  loss_dis_a:0.22753630578517914  loss_dis_total:0.3373264670372009 \n",
      "Epoch 39 Step 227  loss_gen_a2b:0.2731402814388275  loss_gen_b2a:0.32511377334594727  loss_id_a2b:0.06913360953330994  loss_id_b2a:0.09081776440143585  A_B_A_cycle_loss:0.08245506137609482  B_A_B_cycle_loss:0.07448223978281021  loss_gen_total:2.967383861541748  loss_dis_b:0.11940392851829529  loss_dis_a:0.04035109654068947  loss_dis_total:0.15975502133369446 \n",
      "Epoch 39 Step 228  loss_gen_a2b:0.2913331985473633  loss_gen_b2a:0.19889312982559204  loss_id_a2b:0.09179383516311646  loss_id_b2a:0.1678067445755005  A_B_A_cycle_loss:0.15472963452339172  B_A_B_cycle_loss:0.1178758516907692  loss_gen_total:4.514284133911133  loss_dis_b:0.17945455014705658  loss_dis_a:0.2304372489452362  loss_dis_total:0.4098917841911316 \n",
      "Epoch 39 Step 229  loss_gen_a2b:0.6102906465530396  loss_gen_b2a:0.1925155073404312  loss_id_a2b:0.06428046524524689  loss_id_b2a:0.06479977816343307  A_B_A_cycle_loss:0.07540199905633926  B_A_B_cycle_loss:0.06327950954437256  loss_gen_total:2.835022449493408  loss_dis_b:0.2087680995464325  loss_dis_a:0.18939843773841858  loss_dis_total:0.3981665372848511 \n"
     ]
    },
    {
     "name": "stdout",
     "output_type": "stream",
     "text": [
      "Epoch 39 Step 230  loss_gen_a2b:0.5995411276817322  loss_gen_b2a:0.28614333271980286  loss_id_a2b:0.1162293553352356  loss_id_b2a:0.10705016553401947  A_B_A_cycle_loss:0.1303209364414215  B_A_B_cycle_loss:0.11919188499450684  loss_gen_total:4.497210502624512  loss_dis_b:0.23120969533920288  loss_dis_a:0.09125746786594391  loss_dis_total:0.3224671483039856 \n",
      "Epoch 39 Step 231  loss_gen_a2b:0.2599070966243744  loss_gen_b2a:0.38169199228286743  loss_id_a2b:0.07668380439281464  loss_id_b2a:0.16533847153186798  A_B_A_cycle_loss:0.17435461282730103  B_A_B_cycle_loss:0.09168918430805206  loss_gen_total:4.512147903442383  loss_dis_b:0.14025968313217163  loss_dis_a:0.2890608310699463  loss_dis_total:0.4293205142021179 \n",
      "Epoch 39 Step 232  loss_gen_a2b:0.45102280378341675  loss_gen_b2a:0.08443831652402878  loss_id_a2b:0.09092295169830322  loss_id_b2a:0.08645574748516083  A_B_A_cycle_loss:0.09841936826705933  B_A_B_cycle_loss:0.11789587885141373  loss_gen_total:3.5855071544647217  loss_dis_b:0.06753264367580414  loss_dis_a:0.030825946480035782  loss_dis_total:0.09835858643054962 \n",
      "Epoch 39 Step 233  loss_gen_a2b:0.0875040739774704  loss_gen_b2a:0.4210011065006256  loss_id_a2b:0.05749231204390526  loss_id_b2a:0.12160259485244751  A_B_A_cycle_loss:0.09809836000204086  B_A_B_cycle_loss:0.08094814419746399  loss_gen_total:3.1944446563720703  loss_dis_b:0.15846045315265656  loss_dis_a:0.257407009601593  loss_dis_total:0.4158674478530884 \n",
      "Epoch 39 Step 234  loss_gen_a2b:0.23801755905151367  loss_gen_b2a:0.11181708425283432  loss_id_a2b:0.07708252966403961  loss_id_b2a:0.10988803952932358  A_B_A_cycle_loss:0.111941397190094  B_A_B_cycle_loss:0.09692078828811646  loss_gen_total:3.373309373855591  loss_dis_b:0.2153061032295227  loss_dis_a:0.14274731278419495  loss_dis_total:0.35805341601371765 \n",
      "Epoch 39 Step 235  loss_gen_a2b:0.41970741748809814  loss_gen_b2a:0.2049471139907837  loss_id_a2b:0.10500922799110413  loss_id_b2a:0.20531806349754333  A_B_A_cycle_loss:0.22835344076156616  B_A_B_cycle_loss:0.10809299349784851  loss_gen_total:5.540755271911621  loss_dis_b:0.10120624303817749  loss_dis_a:0.25736004114151  loss_dis_total:0.3585662841796875 \n",
      "Epoch 39 Step 236  loss_gen_a2b:0.40242305397987366  loss_gen_b2a:0.18223059177398682  loss_id_a2b:0.09097212553024292  loss_id_b2a:0.0953616052865982  A_B_A_cycle_loss:0.11069931089878082  B_A_B_cycle_loss:0.12322470545768738  loss_gen_total:3.855562210083008  loss_dis_b:0.2552463412284851  loss_dis_a:0.3445311486721039  loss_dis_total:0.5997774600982666 \n",
      "Epoch 39 Step 237  loss_gen_a2b:0.31868115067481995  loss_gen_b2a:0.57551509141922  loss_id_a2b:0.09343916177749634  loss_id_b2a:0.16231340169906616  A_B_A_cycle_loss:0.18797321617603302  B_A_B_cycle_loss:0.10805919766426086  loss_gen_total:5.133283615112305  loss_dis_b:0.05701838806271553  loss_dis_a:0.20169185101985931  loss_dis_total:0.25871023535728455 \n",
      "Epoch 39 Step 238  loss_gen_a2b:0.2207586020231247  loss_gen_b2a:0.2742593288421631  loss_id_a2b:0.10491463541984558  loss_id_b2a:0.12765774130821228  A_B_A_cycle_loss:0.13237012922763824  B_A_B_cycle_loss:0.12500342726707458  loss_gen_total:4.2316155433654785  loss_dis_b:0.30760717391967773  loss_dis_a:0.24744203686714172  loss_dis_total:0.5550491809844971 \n",
      "Epoch 39 Step 239  loss_gen_a2b:0.3964299261569977  loss_gen_b2a:0.24403300881385803  loss_id_a2b:0.047160644084215164  loss_id_b2a:0.11154402792453766  A_B_A_cycle_loss:0.10493810474872589  B_A_B_cycle_loss:0.05859707295894623  loss_gen_total:3.069338083267212  loss_dis_b:0.051298126578330994  loss_dis_a:0.13838432729244232  loss_dis_total:0.18968245387077332 \n",
      "Epoch 39 Step 240  loss_gen_a2b:0.6878500580787659  loss_gen_b2a:0.28027868270874023  loss_id_a2b:0.10994166135787964  loss_id_b2a:0.07533909380435944  A_B_A_cycle_loss:0.08476148545742035  B_A_B_cycle_loss:0.11099874973297119  loss_gen_total:3.852134943008423  loss_dis_b:0.23690184950828552  loss_dis_a:0.0763884112238884  loss_dis_total:0.3132902681827545 \n",
      "Epoch 39 Step 241  loss_gen_a2b:0.2676655650138855  loss_gen_b2a:0.23965789377689362  loss_id_a2b:0.09928178787231445  loss_id_b2a:0.09832794964313507  A_B_A_cycle_loss:0.10572129487991333  B_A_B_cycle_loss:0.08752735704183578  loss_gen_total:3.427858829498291  loss_dis_b:0.5810093879699707  loss_dis_a:0.13045187294483185  loss_dis_total:0.7114612460136414 \n",
      "Epoch 39 Step 242  loss_gen_a2b:0.256963312625885  loss_gen_b2a:0.07324625551700592  loss_id_a2b:0.07080572843551636  loss_id_b2a:0.08868826925754547  A_B_A_cycle_loss:0.09926493465900421  B_A_B_cycle_loss:0.06766527891159058  loss_gen_total:2.7969818115234375  loss_dis_b:0.2459157109260559  loss_dis_a:0.06370178610086441  loss_dis_total:0.3096174895763397 \n",
      "Epoch 39 Step 243  loss_gen_a2b:0.20037856698036194  loss_gen_b2a:0.18212474882602692  loss_id_a2b:0.09555423259735107  loss_id_b2a:0.1278577744960785  A_B_A_cycle_loss:0.18526548147201538  B_A_B_cycle_loss:0.08358597010374069  loss_gen_total:4.188077926635742  loss_dis_b:0.09568619728088379  loss_dis_a:0.20030337572097778  loss_dis_total:0.2959895730018616 \n",
      "Epoch 39 Step 244  loss_gen_a2b:0.15841881930828094  loss_gen_b2a:0.3641672730445862  loss_id_a2b:0.09523377567529678  loss_id_b2a:0.0996752604842186  A_B_A_cycle_loss:0.12123888731002808  B_A_B_cycle_loss:0.12414044141769409  loss_gen_total:3.9509246349334717  loss_dis_b:0.20534154772758484  loss_dis_a:0.09442630410194397  loss_dis_total:0.2997678518295288 \n",
      "Epoch 39 Step 245  loss_gen_a2b:0.296491414308548  loss_gen_b2a:0.39743074774742126  loss_id_a2b:0.06784947216510773  loss_id_b2a:0.09023930132389069  A_B_A_cycle_loss:0.0723719373345375  B_A_B_cycle_loss:0.07963524758815765  loss_gen_total:3.0044379234313965  loss_dis_b:0.10102897882461548  loss_dis_a:0.10754461586475372  loss_dis_total:0.2085735946893692 \n",
      "Epoch 39 Step 246  loss_gen_a2b:0.4270375669002533  loss_gen_b2a:0.3850277364253998  loss_id_a2b:0.08495751023292542  loss_id_b2a:0.07438378036022186  A_B_A_cycle_loss:0.07710449397563934  B_A_B_cycle_loss:0.11409927904605865  loss_gen_total:3.5208094120025635  loss_dis_b:0.2664952278137207  loss_dis_a:0.1637975573539734  loss_dis_total:0.4302927851676941 \n",
      "Epoch 39 Step 247  loss_gen_a2b:0.5957497358322144  loss_gen_b2a:0.27777403593063354  loss_id_a2b:0.06906788796186447  loss_id_b2a:0.08268912136554718  A_B_A_cycle_loss:0.09899343550205231  B_A_B_cycle_loss:0.08285665512084961  loss_gen_total:3.4508097171783447  loss_dis_b:0.10271043330430984  loss_dis_a:0.09645046293735504  loss_dis_total:0.19916090369224548 \n",
      "Epoch 39 Step 248  loss_gen_a2b:0.8985224962234497  loss_gen_b2a:0.2495882213115692  loss_id_a2b:0.17694991827011108  loss_id_b2a:0.1104731485247612  A_B_A_cycle_loss:0.11971400678157806  B_A_B_cycle_loss:0.18048390746116638  loss_gen_total:5.587204933166504  loss_dis_b:0.2064618319272995  loss_dis_a:0.20815326273441315  loss_dis_total:0.41461509466171265 \n",
      "Epoch 39 Step 249  loss_gen_a2b:0.5753772854804993  loss_gen_b2a:0.36757850646972656  loss_id_a2b:0.11486830562353134  loss_id_b2a:0.09471246600151062  A_B_A_cycle_loss:0.09610835462808609  B_A_B_cycle_loss:0.11673346906900406  loss_gen_total:4.1192779541015625  loss_dis_b:0.21641959249973297  loss_dis_a:0.18815244734287262  loss_dis_total:0.4045720398426056 \n",
      "Epoch 39 Step 250  loss_gen_a2b:0.6683545708656311  loss_gen_b2a:0.2899194657802582  loss_id_a2b:0.06156957149505615  loss_id_b2a:0.10135604441165924  A_B_A_cycle_loss:0.10607403516769409  B_A_B_cycle_loss:0.0779096782207489  loss_gen_total:3.612739086151123  loss_dis_b:0.13183735311031342  loss_dis_a:0.17730127274990082  loss_dis_total:0.30913862586021423 \n",
      "Epoch 39 Step 251  loss_gen_a2b:0.44840550422668457  loss_gen_b2a:0.3670448958873749  loss_id_a2b:0.08303463459014893  loss_id_b2a:0.0861726850271225  A_B_A_cycle_loss:0.08147429674863815  B_A_B_cycle_loss:0.08784088492393494  loss_gen_total:3.3546390533447266  loss_dis_b:0.2650645077228546  loss_dis_a:0.15168409049510956  loss_dis_total:0.416748583316803 \n",
      "Epoch 39 Step 252  loss_gen_a2b:0.13792400062084198  loss_gen_b2a:0.4543607532978058  loss_id_a2b:0.07859241217374802  loss_id_b2a:0.09317824989557266  A_B_A_cycle_loss:0.0986824482679367  B_A_B_cycle_loss:0.09094687551259995  loss_gen_total:3.347431182861328  loss_dis_b:0.274852991104126  loss_dis_a:0.14246301352977753  loss_dis_total:0.4173160195350647 \n"
     ]
    },
    {
     "name": "stdout",
     "output_type": "stream",
     "text": [
      "Epoch 39 Step 253  loss_gen_a2b:0.38906481862068176  loss_gen_b2a:0.2552067041397095  loss_id_a2b:0.11398106068372726  loss_id_b2a:0.12758317589759827  A_B_A_cycle_loss:0.10708010196685791  B_A_B_cycle_loss:0.12036958336830139  loss_gen_total:4.126589775085449  loss_dis_b:0.11799293756484985  loss_dis_a:0.230698361992836  loss_dis_total:0.34869128465652466 \n",
      "Epoch 39 Step 254  loss_gen_a2b:0.4375399947166443  loss_gen_b2a:0.1727648824453354  loss_id_a2b:0.09987957775592804  loss_id_b2a:0.07292362302541733  A_B_A_cycle_loss:0.07742923498153687  B_A_B_cycle_loss:0.08156701922416687  loss_gen_total:3.0642833709716797  loss_dis_b:0.3469281792640686  loss_dis_a:0.07859882712364197  loss_dis_total:0.42552700638771057 \n",
      "Epoch 39 Step 255  loss_gen_a2b:0.4495287835597992  loss_gen_b2a:0.15466229617595673  loss_id_a2b:0.07299818843603134  loss_id_b2a:0.08401079475879669  A_B_A_cycle_loss:0.08825379610061646  B_A_B_cycle_loss:0.06401059031486511  loss_gen_total:2.911879777908325  loss_dis_b:0.2935488224029541  loss_dis_a:0.39265933632850647  loss_dis_total:0.6862081289291382 \n",
      "Epoch 39 Step 256  loss_gen_a2b:0.49646705389022827  loss_gen_b2a:0.22768166661262512  loss_id_a2b:0.08167806267738342  loss_id_b2a:0.09693670272827148  A_B_A_cycle_loss:0.10220108926296234  B_A_B_cycle_loss:0.0693008303642273  loss_gen_total:3.3322417736053467  loss_dis_b:0.21100471913814545  loss_dis_a:0.08621583878993988  loss_dis_total:0.2972205579280853 \n",
      "Epoch 39 Step 257  loss_gen_a2b:0.11193183064460754  loss_gen_b2a:0.18419787287712097  loss_id_a2b:0.10607299208641052  loss_id_b2a:0.12789715826511383  A_B_A_cycle_loss:0.11680392175912857  B_A_B_cycle_loss:0.1185666173696518  loss_gen_total:3.819685935974121  loss_dis_b:0.21760761737823486  loss_dis_a:0.1980355978012085  loss_dis_total:0.41564321517944336 \n",
      "Epoch 39 Step 258  loss_gen_a2b:0.15331269800662994  loss_gen_b2a:0.34842950105667114  loss_id_a2b:0.08551061153411865  loss_id_b2a:0.08974489569664001  A_B_A_cycle_loss:0.10441139340400696  B_A_B_cycle_loss:0.08490204811096191  loss_gen_total:3.2711539268493652  loss_dis_b:0.187080517411232  loss_dis_a:0.15472154319286346  loss_dis_total:0.34180206060409546 \n",
      "Epoch 39 Step 259  loss_gen_a2b:0.6562949419021606  loss_gen_b2a:0.401743620634079  loss_id_a2b:0.09524980187416077  loss_id_b2a:0.08521591126918793  A_B_A_cycle_loss:0.09510554373264313  B_A_B_cycle_loss:0.08552485704421997  loss_gen_total:3.7666711807250977  loss_dis_b:0.14840081334114075  loss_dis_a:0.08154750615358353  loss_dis_total:0.22994831204414368 \n",
      "Epoch 39 Step 260  loss_gen_a2b:0.4078896939754486  loss_gen_b2a:0.24358436465263367  loss_id_a2b:0.10125965625047684  loss_id_b2a:0.270926296710968  A_B_A_cycle_loss:0.25115668773651123  B_A_B_cycle_loss:0.09038659930229187  loss_gen_total:5.9278364181518555  loss_dis_b:0.22437533736228943  loss_dis_a:0.14702072739601135  loss_dis_total:0.3713960647583008 \n",
      "Epoch 39 Step 261  loss_gen_a2b:0.39865660667419434  loss_gen_b2a:0.14083105325698853  loss_id_a2b:0.1333445906639099  loss_id_b2a:0.08137091994285583  A_B_A_cycle_loss:0.0681130662560463  B_A_B_cycle_loss:0.10126793384552002  loss_gen_total:3.306875228881836  loss_dis_b:0.2098023146390915  loss_dis_a:0.28883498907089233  loss_dis_total:0.498637318611145 \n",
      "Epoch 39 Step 262  loss_gen_a2b:0.5381210446357727  loss_gen_b2a:0.34029489755630493  loss_id_a2b:0.05998481437563896  loss_id_b2a:0.10272888839244843  A_B_A_cycle_loss:0.1088058352470398  B_A_B_cycle_loss:0.09723474830389023  loss_gen_total:3.7523903846740723  loss_dis_b:0.06479676067829132  loss_dis_a:0.05223038047552109  loss_dis_total:0.11702714115381241 \n",
      "Epoch 39 Step 263  loss_gen_a2b:0.4844590425491333  loss_gen_b2a:0.17729471623897552  loss_id_a2b:0.1022641658782959  loss_id_b2a:0.14783930778503418  A_B_A_cycle_loss:0.1655530333518982  B_A_B_cycle_loss:0.11716578900814056  loss_gen_total:4.73945951461792  loss_dis_b:0.20812389254570007  loss_dis_a:0.18358513712882996  loss_dis_total:0.39170902967453003 \n",
      "Epoch 39 Step 264  loss_gen_a2b:0.4785642623901367  loss_gen_b2a:0.07965057343244553  loss_id_a2b:0.08466114103794098  loss_id_b2a:0.16916437447071075  A_B_A_cycle_loss:0.2041960507631302  B_A_B_cycle_loss:0.08692000806331635  loss_gen_total:4.7385029792785645  loss_dis_b:0.30183911323547363  loss_dis_a:0.1322532743215561  loss_dis_total:0.4340924024581909 \n",
      "Epoch 39 Step 265  loss_gen_a2b:0.46082013845443726  loss_gen_b2a:0.4716353714466095  loss_id_a2b:0.09039898216724396  loss_id_b2a:0.12761729955673218  A_B_A_cycle_loss:0.14792057871818542  B_A_B_cycle_loss:0.08307278156280518  loss_gen_total:4.332470893859863  loss_dis_b:0.20032468438148499  loss_dis_a:0.23083895444869995  loss_dis_total:0.43116363883018494 \n",
      "Epoch 39 Step 266  loss_gen_a2b:0.1831090897321701  loss_gen_b2a:0.3915925621986389  loss_id_a2b:0.1637302041053772  loss_id_b2a:0.09490610659122467  A_B_A_cycle_loss:0.11445513367652893  B_A_B_cycle_loss:0.16202028095722198  loss_gen_total:4.6326375007629395  loss_dis_b:0.14967665076255798  loss_dis_a:0.21793019771575928  loss_dis_total:0.36760684847831726 \n",
      "Epoch 39 Step 267  loss_gen_a2b:0.48057469725608826  loss_gen_b2a:0.0741952657699585  loss_id_a2b:0.15726378560066223  loss_id_b2a:0.07722114026546478  A_B_A_cycle_loss:0.1001669317483902  B_A_B_cycle_loss:0.14758919179439545  loss_gen_total:4.204755783081055  loss_dis_b:0.4277310073375702  loss_dis_a:0.3836647868156433  loss_dis_total:0.8113957643508911 \n",
      "Epoch 39 Step 268  loss_gen_a2b:0.43660759925842285  loss_gen_b2a:0.45048680901527405  loss_id_a2b:0.08852474391460419  loss_id_b2a:0.09204483032226562  A_B_A_cycle_loss:0.10503831505775452  B_A_B_cycle_loss:0.09573443233966827  loss_gen_total:3.7976694107055664  loss_dis_b:0.26174473762512207  loss_dis_a:0.10787825286388397  loss_dis_total:0.36962300539016724 \n",
      "Epoch 39 Step 269  loss_gen_a2b:0.5394555926322937  loss_gen_b2a:0.7523124814033508  loss_id_a2b:0.08167371153831482  loss_id_b2a:0.08439455926418304  A_B_A_cycle_loss:0.09665077179670334  B_A_B_cycle_loss:0.11659710109233856  loss_gen_total:4.2545881271362305  loss_dis_b:0.07376604527235031  loss_dis_a:0.1352950632572174  loss_dis_total:0.20906111598014832 \n",
      "Epoch 39 Step 270  loss_gen_a2b:0.35070163011550903  loss_gen_b2a:0.36759454011917114  loss_id_a2b:0.09523545205593109  loss_id_b2a:0.10468542575836182  A_B_A_cycle_loss:0.09878067672252655  B_A_B_cycle_loss:0.06923304498195648  loss_gen_total:3.3980376720428467  loss_dis_b:0.22490602731704712  loss_dis_a:0.14835171401500702  loss_dis_total:0.37325775623321533 \n",
      "Epoch 39 Step 271  loss_gen_a2b:0.37896013259887695  loss_gen_b2a:0.3844468593597412  loss_id_a2b:0.09102585911750793  loss_id_b2a:0.12960541248321533  A_B_A_cycle_loss:0.10826791077852249  B_A_B_cycle_loss:0.09029974788427353  loss_gen_total:3.8522398471832275  loss_dis_b:0.21008823812007904  loss_dis_a:0.19450798630714417  loss_dis_total:0.404596209526062 \n",
      "Epoch 39 Step 272  loss_gen_a2b:0.3295568525791168  loss_gen_b2a:0.2545863091945648  loss_id_a2b:0.09136059135198593  loss_id_b2a:0.10883978009223938  A_B_A_cycle_loss:0.1515951007604599  B_A_B_cycle_loss:0.08823954313993454  loss_gen_total:3.9834914207458496  loss_dis_b:0.12434133142232895  loss_dis_a:0.08737702667713165  loss_dis_total:0.21171835064888 \n",
      "Epoch 39 Step 273  loss_gen_a2b:0.6904550790786743  loss_gen_b2a:0.1587415635585785  loss_id_a2b:0.07463264465332031  loss_id_b2a:0.09451396018266678  A_B_A_cycle_loss:0.12761224806308746  B_A_B_cycle_loss:0.06030005216598511  loss_gen_total:3.574052572250366  loss_dis_b:0.136015385389328  loss_dis_a:0.13570787012577057  loss_dis_total:0.27172327041625977 \n",
      "Epoch 39 Step 274  loss_gen_a2b:0.45609912276268005  loss_gen_b2a:0.25851157307624817  loss_id_a2b:0.16735900938510895  loss_id_b2a:0.10565634071826935  A_B_A_cycle_loss:0.14951719343662262  B_A_B_cycle_loss:0.1417514532804489  loss_gen_total:4.992373466491699  loss_dis_b:0.2569791078567505  loss_dis_a:0.12441827356815338  loss_dis_total:0.3813973665237427 \n",
      "Epoch 39 Step 275  loss_gen_a2b:0.2673439383506775  loss_gen_b2a:0.19153812527656555  loss_id_a2b:0.08621485531330109  loss_id_b2a:0.19103969633579254  A_B_A_cycle_loss:0.2228531837463379  B_A_B_cycle_loss:0.10336928069591522  loss_gen_total:5.10737943649292  loss_dis_b:0.1487939953804016  loss_dis_a:0.22429275512695312  loss_dis_total:0.37308675050735474 \n"
     ]
    },
    {
     "name": "stdout",
     "output_type": "stream",
     "text": [
      "Epoch 39 Step 276  loss_gen_a2b:0.42462512850761414  loss_gen_b2a:0.3345254063606262  loss_id_a2b:0.10944211483001709  loss_id_b2a:0.06216263025999069  A_B_A_cycle_loss:0.09010440111160278  B_A_B_cycle_loss:0.12549640238285065  loss_gen_total:3.7731823921203613  loss_dis_b:0.08595439046621323  loss_dis_a:0.08266100287437439  loss_dis_total:0.1686154007911682 \n",
      "Epoch 39 Step 277  loss_gen_a2b:0.3624899089336395  loss_gen_b2a:0.0778043270111084  loss_id_a2b:0.17034009099006653  loss_id_b2a:0.16350515186786652  A_B_A_cycle_loss:0.12044450640678406  B_A_B_cycle_loss:0.19224609434604645  loss_gen_total:5.236426830291748  loss_dis_b:0.19379045069217682  loss_dis_a:0.4083090126514435  loss_dis_total:0.6020994782447815 \n",
      "Epoch 39 Step 278  loss_gen_a2b:0.2946181297302246  loss_gen_b2a:0.1894601434469223  loss_id_a2b:0.0840008556842804  loss_id_b2a:0.1609489619731903  A_B_A_cycle_loss:0.1534910947084427  B_A_B_cycle_loss:0.08679214864969254  loss_gen_total:4.111660003662109  loss_dis_b:0.22148460149765015  loss_dis_a:0.2251674383878708  loss_dis_total:0.44665205478668213 \n",
      "Epoch 39 Step 279  loss_gen_a2b:0.12116631865501404  loss_gen_b2a:0.5457205176353455  loss_id_a2b:0.07124124467372894  loss_id_b2a:0.07843071967363358  A_B_A_cycle_loss:0.08736014366149902  B_A_B_cycle_loss:0.0805254802107811  loss_gen_total:3.0941030979156494  loss_dis_b:0.15982966125011444  loss_dis_a:0.2813160717487335  loss_dis_total:0.44114571809768677 \n",
      "Epoch 39 Step 280  loss_gen_a2b:0.09258630871772766  loss_gen_b2a:0.16457924246788025  loss_id_a2b:0.12632805109024048  loss_id_b2a:0.08178292214870453  A_B_A_cycle_loss:0.09887145459651947  B_A_B_cycle_loss:0.15427803993225098  loss_gen_total:3.8292155265808105  loss_dis_b:0.1568167358636856  loss_dis_a:0.11483421921730042  loss_dis_total:0.2716509699821472 \n",
      "Epoch 39 Step 281  loss_gen_a2b:0.5275703072547913  loss_gen_b2a:0.27594155073165894  loss_id_a2b:0.06161472573876381  loss_id_b2a:0.0709017813205719  A_B_A_cycle_loss:0.0790209025144577  B_A_B_cycle_loss:0.059146299958229065  loss_gen_total:2.847766399383545  loss_dis_b:0.16793367266654968  loss_dis_a:0.08175541460514069  loss_dis_total:0.24968908727169037 \n",
      "Epoch 39 Step 282  loss_gen_a2b:0.19598278403282166  loss_gen_b2a:0.12497059255838394  loss_id_a2b:0.09499533474445343  loss_id_b2a:0.115444615483284  A_B_A_cycle_loss:0.11025087535381317  B_A_B_cycle_loss:0.09884456545114517  loss_gen_total:3.4641075134277344  loss_dis_b:0.19040660560131073  loss_dis_a:0.1369505524635315  loss_dis_total:0.3273571729660034 \n",
      "Epoch 39 Step 283  loss_gen_a2b:0.18027129769325256  loss_gen_b2a:0.125169038772583  loss_id_a2b:0.1402725875377655  loss_id_b2a:0.11587265878915787  A_B_A_cycle_loss:0.13057422637939453  B_A_B_cycle_loss:0.10794197022914886  loss_gen_total:3.9713284969329834  loss_dis_b:0.35977938771247864  loss_dis_a:0.2959757447242737  loss_dis_total:0.6557551622390747 \n",
      "Epoch 39 Step 284  loss_gen_a2b:0.15181860327720642  loss_gen_b2a:0.2890620827674866  loss_id_a2b:0.08324843645095825  loss_id_b2a:0.13307476043701172  A_B_A_cycle_loss:0.1523732841014862  B_A_B_cycle_loss:0.10247209668159485  loss_gen_total:4.070950508117676  loss_dis_b:0.29321742057800293  loss_dis_a:0.18071584403514862  loss_dis_total:0.47393327951431274 \n",
      "Epoch 39 Step 285  loss_gen_a2b:0.21026656031608582  loss_gen_b2a:0.5945953130722046  loss_id_a2b:0.10222083330154419  loss_id_b2a:0.1679416000843048  A_B_A_cycle_loss:0.14181740581989288  B_A_B_cycle_loss:0.12004614621400833  loss_gen_total:4.774310111999512  loss_dis_b:0.2778698801994324  loss_dis_a:0.4341561794281006  loss_dis_total:0.712026059627533 \n",
      "Epoch 39 Step 286  loss_gen_a2b:0.4929690659046173  loss_gen_b2a:0.26113030314445496  loss_id_a2b:0.12020467221736908  loss_id_b2a:0.09178633987903595  A_B_A_cycle_loss:0.08026809990406036  B_A_B_cycle_loss:0.10361902415752411  loss_gen_total:3.652925729751587  loss_dis_b:0.18509840965270996  loss_dis_a:0.12492745369672775  loss_dis_total:0.3100258708000183 \n",
      "Epoch 39 Step 287  loss_gen_a2b:0.7573549747467041  loss_gen_b2a:0.14778801798820496  loss_id_a2b:0.10179002583026886  loss_id_b2a:0.15913213789463043  A_B_A_cycle_loss:0.14909297227859497  B_A_B_cycle_loss:0.11974743008613586  loss_gen_total:4.898158073425293  loss_dis_b:0.23113003373146057  loss_dis_a:0.19385337829589844  loss_dis_total:0.424983412027359 \n",
      "Epoch 39 Step 288  loss_gen_a2b:0.4224538207054138  loss_gen_b2a:0.3397791087627411  loss_id_a2b:0.07953449338674545  loss_id_b2a:0.08229172974824905  A_B_A_cycle_loss:0.08727662265300751  B_A_B_cycle_loss:0.10591132938861847  loss_gen_total:3.5032434463500977  loss_dis_b:0.3135834336280823  loss_dis_a:0.11422725766897202  loss_dis_total:0.4278106987476349 \n",
      "Epoch 39 Step 289  loss_gen_a2b:0.3201811909675598  loss_gen_b2a:0.30451488494873047  loss_id_a2b:0.06457419693470001  loss_id_b2a:0.07492609322071075  A_B_A_cycle_loss:0.09618046879768372  B_A_B_cycle_loss:0.0812249705195427  loss_gen_total:3.096251964569092  loss_dis_b:0.13324302434921265  loss_dis_a:0.21706843376159668  loss_dis_total:0.3503114581108093 \n",
      "Epoch 39 Step 290  loss_gen_a2b:0.2904758155345917  loss_gen_b2a:0.23028650879859924  loss_id_a2b:0.08230248093605042  loss_id_b2a:0.08202023059129715  A_B_A_cycle_loss:0.09210104495286942  B_A_B_cycle_loss:0.11161115765571594  loss_gen_total:3.379497766494751  loss_dis_b:0.26039770245552063  loss_dis_a:0.21111640334129333  loss_dis_total:0.47151410579681396 \n",
      "Epoch 39 Step 291  loss_gen_a2b:0.1846342831850052  loss_gen_b2a:0.25608283281326294  loss_id_a2b:0.0864478051662445  loss_id_b2a:0.11894343048334122  A_B_A_cycle_loss:0.0987359881401062  B_A_B_cycle_loss:0.11079385876655579  loss_gen_total:3.562971591949463  loss_dis_b:0.22007060050964355  loss_dis_a:0.24051880836486816  loss_dis_total:0.4605894088745117 \n",
      "Epoch 39 Step 292  loss_gen_a2b:0.19220376014709473  loss_gen_b2a:0.16078774631023407  loss_id_a2b:0.08265090733766556  loss_id_b2a:0.13502806425094604  A_B_A_cycle_loss:0.11194740980863571  B_A_B_cycle_loss:0.09416785091161728  loss_gen_total:3.5025391578674316  loss_dis_b:0.14236152172088623  loss_dis_a:0.16965514421463013  loss_dis_total:0.31201666593551636 \n",
      "Epoch 39 Step 293  loss_gen_a2b:0.4754231572151184  loss_gen_b2a:0.314133882522583  loss_id_a2b:0.09012778103351593  loss_id_b2a:0.07963893562555313  A_B_A_cycle_loss:0.08646540343761444  B_A_B_cycle_loss:0.09784359484910965  loss_gen_total:3.481480598449707  loss_dis_b:0.10907790064811707  loss_dis_a:0.1151842251420021  loss_dis_total:0.22426211833953857 \n",
      "Epoch 39 Step 294  loss_gen_a2b:0.4641188383102417  loss_gen_b2a:0.2513393759727478  loss_id_a2b:0.12537094950675964  loss_id_b2a:0.06304985284805298  A_B_A_cycle_loss:0.06339644640684128  B_A_B_cycle_loss:0.07340523600578308  loss_gen_total:3.0255789756774902  loss_dis_b:0.14789941906929016  loss_dis_a:0.1424737125635147  loss_dis_total:0.29037314653396606 \n",
      "Epoch 39 Step 295  loss_gen_a2b:0.27664488554000854  loss_gen_b2a:0.1301971822977066  loss_id_a2b:0.05609136074781418  loss_id_b2a:0.11645489931106567  A_B_A_cycle_loss:0.1405104547739029  B_A_B_cycle_loss:0.06347990781068802  loss_gen_total:3.309476852416992  loss_dis_b:0.19196516275405884  loss_dis_a:0.3331955373287201  loss_dis_total:0.5251606702804565 \n",
      "Epoch 39 Step 296  loss_gen_a2b:0.381879061460495  loss_gen_b2a:0.9214220643043518  loss_id_a2b:0.08595187962055206  loss_id_b2a:0.08208417892456055  A_B_A_cycle_loss:0.09964358806610107  B_A_B_cycle_loss:0.10064652562141418  loss_gen_total:4.1463823318481445  loss_dis_b:0.10529817640781403  loss_dis_a:0.2689287066459656  loss_dis_total:0.3742268681526184 \n",
      "Epoch 39 Step 297  loss_gen_a2b:0.3408797085285187  loss_gen_b2a:0.3891531229019165  loss_id_a2b:0.10946566611528397  loss_id_b2a:0.07706380635499954  A_B_A_cycle_loss:0.0927341878414154  B_A_B_cycle_loss:0.08319590985774994  loss_gen_total:3.421980857849121  loss_dis_b:0.11542302370071411  loss_dis_a:0.28799042105674744  loss_dis_total:0.40341344475746155 \n",
      "Epoch 39 Step 298  loss_gen_a2b:0.4026632308959961  loss_gen_b2a:0.11205748468637466  loss_id_a2b:0.059853632003068924  loss_id_b2a:0.08578257262706757  A_B_A_cycle_loss:0.1290755718946457  B_A_B_cycle_loss:0.09468794614076614  loss_gen_total:3.480536937713623  loss_dis_b:0.0919390395283699  loss_dis_a:0.1889062374830246  loss_dis_total:0.2808452844619751 \n"
     ]
    },
    {
     "name": "stdout",
     "output_type": "stream",
     "text": [
      "Epoch 39 Step 299  loss_gen_a2b:0.43709707260131836  loss_gen_b2a:0.26185986399650574  loss_id_a2b:0.10424212366342545  loss_id_b2a:0.08799827098846436  A_B_A_cycle_loss:0.08793878555297852  B_A_B_cycle_loss:0.0892205685377121  loss_gen_total:3.4317524433135986  loss_dis_b:0.07479395717382431  loss_dis_a:0.15276658535003662  loss_dis_total:0.22756054997444153 \n",
      "Epoch 39 Step 300  loss_gen_a2b:0.8108891248703003  loss_gen_b2a:0.1697433739900589  loss_id_a2b:0.09893693029880524  loss_id_b2a:0.15576805174350739  A_B_A_cycle_loss:0.1474490761756897  B_A_B_cycle_loss:0.09002955257892609  loss_gen_total:4.628943920135498  loss_dis_b:0.13900181651115417  loss_dis_a:0.2790234386920929  loss_dis_total:0.41802525520324707 \n",
      "Epoch 39 Step 301  loss_gen_a2b:0.735759973526001  loss_gen_b2a:0.10239090770483017  loss_id_a2b:0.11533911526203156  loss_id_b2a:0.08451023697853088  A_B_A_cycle_loss:0.11998939514160156  B_A_B_cycle_loss:0.13879616558551788  loss_gen_total:4.425252914428711  loss_dis_b:0.2083609253168106  loss_dis_a:0.09111497551202774  loss_dis_total:0.29947590827941895 \n",
      "Epoch 39 Step 302  loss_gen_a2b:0.20431400835514069  loss_gen_b2a:0.5374156832695007  loss_id_a2b:0.10284996032714844  loss_id_b2a:0.13910603523254395  A_B_A_cycle_loss:0.1317007839679718  B_A_B_cycle_loss:0.09467405080795288  loss_gen_total:4.2152581214904785  loss_dis_b:0.08720093965530396  loss_dis_a:0.17211779952049255  loss_dis_total:0.2593187391757965 \n",
      "Epoch 39 Step 303  loss_gen_a2b:0.1651591807603836  loss_gen_b2a:0.5362013578414917  loss_id_a2b:0.052420906722545624  loss_id_b2a:0.13832774758338928  A_B_A_cycle_loss:0.14574144780635834  B_A_B_cycle_loss:0.07774905860424042  loss_gen_total:3.8900089263916016  loss_dis_b:0.06889180839061737  loss_dis_a:0.1655590534210205  loss_dis_total:0.23445086181163788 \n",
      "Epoch 39 Step 304  loss_gen_a2b:0.10609644651412964  loss_gen_b2a:0.2398255616426468  loss_id_a2b:0.09063023328781128  loss_id_b2a:0.10833491384983063  A_B_A_cycle_loss:0.1263963282108307  B_A_B_cycle_loss:0.09179994463920593  loss_gen_total:3.5227103233337402  loss_dis_b:0.2894120514392853  loss_dis_a:0.18454603850841522  loss_dis_total:0.4739580750465393 \n",
      "Epoch 39 Step 305  loss_gen_a2b:0.4791165590286255  loss_gen_b2a:0.3201398253440857  loss_id_a2b:0.10100763291120529  loss_id_b2a:0.08248523622751236  A_B_A_cycle_loss:0.08336162567138672  B_A_B_cycle_loss:0.06763404607772827  loss_gen_total:3.226677417755127  loss_dis_b:0.29915300011634827  loss_dis_a:0.19915282726287842  loss_dis_total:0.4983058273792267 \n",
      "Epoch 39 Step 306  loss_gen_a2b:0.4577953815460205  loss_gen_b2a:0.3004636764526367  loss_id_a2b:0.0641796737909317  loss_id_b2a:0.0932769700884819  A_B_A_cycle_loss:0.10927678644657135  B_A_B_cycle_loss:0.10304009914398193  loss_gen_total:3.6687111854553223  loss_dis_b:0.13636773824691772  loss_dis_a:0.08951185643672943  loss_dis_total:0.22587959468364716 \n",
      "Epoch 39 Step 307  loss_gen_a2b:0.26663410663604736  loss_gen_b2a:0.3577672243118286  loss_id_a2b:0.09710119664669037  loss_id_b2a:0.13327041268348694  A_B_A_cycle_loss:0.12821611762046814  B_A_B_cycle_loss:0.09665830433368683  loss_gen_total:4.025003433227539  loss_dis_b:0.11919863522052765  loss_dis_a:0.08414336293935776  loss_dis_total:0.2033419907093048 \n",
      "Epoch 39 Step 308  loss_gen_a2b:0.14880335330963135  loss_gen_b2a:0.20920239388942719  loss_id_a2b:0.10475277155637741  loss_id_b2a:0.13565987348556519  A_B_A_cycle_loss:0.1290288120508194  B_A_B_cycle_loss:0.09283539652824402  loss_gen_total:3.7787110805511475  loss_dis_b:0.0879305899143219  loss_dis_a:0.22962281107902527  loss_dis_total:0.31755340099334717 \n",
      "Epoch 39 Step 309  loss_gen_a2b:0.2598276734352112  loss_gen_b2a:0.3737548291683197  loss_id_a2b:0.07113803923130035  loss_id_b2a:0.11802563071250916  A_B_A_cycle_loss:0.11235818266868591  B_A_B_cycle_loss:0.08222777396440506  loss_gen_total:3.5252604484558105  loss_dis_b:0.2953035235404968  loss_dis_a:0.1019880399107933  loss_dis_total:0.3972915709018707 \n",
      "Epoch 39 Step 310  loss_gen_a2b:0.7279229760169983  loss_gen_b2a:0.0735316053032875  loss_id_a2b:0.15549923479557037  loss_id_b2a:0.22722667455673218  A_B_A_cycle_loss:0.24811094999313354  B_A_B_cycle_loss:0.1390291303396225  loss_gen_total:6.586484909057617  loss_dis_b:0.14988365769386292  loss_dis_a:0.05970121920108795  loss_dis_total:0.20958487689495087 \n",
      "Epoch 39 Step 311  loss_gen_a2b:0.3434975743293762  loss_gen_b2a:0.1543104350566864  loss_id_a2b:0.09049825370311737  loss_id_b2a:0.13502290844917297  A_B_A_cycle_loss:0.1404052972793579  B_A_B_cycle_loss:0.0959751158952713  loss_gen_total:3.989217758178711  loss_dis_b:0.2537643611431122  loss_dis_a:0.23583775758743286  loss_dis_total:0.48960211873054504 \n",
      "Epoch 39 Step 312  loss_gen_a2b:0.31532278656959534  loss_gen_b2a:0.4189615845680237  loss_id_a2b:0.0717402920126915  loss_id_b2a:0.23661062121391296  A_B_A_cycle_loss:0.2438122034072876  B_A_B_cycle_loss:0.08158358186483383  loss_gen_total:5.529996871948242  loss_dis_b:0.055340349674224854  loss_dis_a:0.06881029158830643  loss_dis_total:0.12415064126253128 \n",
      "Epoch 39 Step 313  loss_gen_a2b:0.29792699217796326  loss_gen_b2a:0.1650027483701706  loss_id_a2b:0.08910640329122543  loss_id_b2a:0.11043737828731537  A_B_A_cycle_loss:0.12633737921714783  B_A_B_cycle_loss:0.08481936156749725  loss_gen_total:3.572216033935547  loss_dis_b:0.3191834092140198  loss_dis_a:0.26308658719062805  loss_dis_total:0.5822700262069702 \n",
      "Epoch 39 Step 314  loss_gen_a2b:0.25755858421325684  loss_gen_b2a:0.05578736960887909  loss_id_a2b:0.07809095829725266  loss_id_b2a:0.12718598544597626  A_B_A_cycle_loss:0.1599046140909195  B_A_B_cycle_loss:0.08192645758390427  loss_gen_total:3.7580413818359375  loss_dis_b:0.2376670092344284  loss_dis_a:0.3123213052749634  loss_dis_total:0.549988329410553 \n",
      "Epoch 39 Step 315  loss_gen_a2b:0.3745603859424591  loss_gen_b2a:0.37892308831214905  loss_id_a2b:0.10464584827423096  loss_id_b2a:0.06340966373682022  A_B_A_cycle_loss:0.09213396906852722  B_A_B_cycle_loss:0.09333634376525879  loss_gen_total:3.4484643936157227  loss_dis_b:0.09578373283147812  loss_dis_a:0.09770965576171875  loss_dis_total:0.19349339604377747 \n",
      "Epoch 39 Step 316  loss_gen_a2b:0.27691131830215454  loss_gen_b2a:0.3051954507827759  loss_id_a2b:0.08575917035341263  loss_id_b2a:0.07393336296081543  A_B_A_cycle_loss:0.09671429544687271  B_A_B_cycle_loss:0.09021803736686707  loss_gen_total:3.2498927116394043  loss_dis_b:0.21682021021842957  loss_dis_a:0.16070659458637238  loss_dis_total:0.37752681970596313 \n",
      "Epoch 39 Step 317  loss_gen_a2b:0.290004163980484  loss_gen_b2a:0.29877665638923645  loss_id_a2b:0.1176418662071228  loss_id_b2a:0.11815021932125092  A_B_A_cycle_loss:0.12127798795700073  B_A_B_cycle_loss:0.14047609269618988  loss_gen_total:4.385282039642334  loss_dis_b:0.14132750034332275  loss_dis_a:0.14915992319583893  loss_dis_total:0.2904874086380005 \n",
      "Epoch 39 Step 318  loss_gen_a2b:0.390974760055542  loss_gen_b2a:0.10323895514011383  loss_id_a2b:0.12212987244129181  loss_id_b2a:0.12710675597190857  A_B_A_cycle_loss:0.1384383738040924  B_A_B_cycle_loss:0.13116732239723206  loss_gen_total:4.436453819274902  loss_dis_b:0.2197842299938202  loss_dis_a:0.2879233658313751  loss_dis_total:0.5077075958251953 \n",
      "Epoch 39 Step 319  loss_gen_a2b:0.5148562788963318  loss_gen_b2a:0.4642260670661926  loss_id_a2b:0.11550706624984741  loss_id_b2a:0.10202427208423615  A_B_A_cycle_loss:0.13010737299919128  B_A_B_cycle_loss:0.10508367419242859  loss_gen_total:4.418649673461914  loss_dis_b:0.17992569506168365  loss_dis_a:0.17129766941070557  loss_dis_total:0.351223349571228 \n",
      "Epoch 39 Step 320  loss_gen_a2b:0.5406574606895447  loss_gen_b2a:0.18269889056682587  loss_id_a2b:0.09009582549333572  loss_id_b2a:0.10154036432504654  A_B_A_cycle_loss:0.09909704327583313  B_A_B_cycle_loss:0.10640750080347061  loss_gen_total:3.7365827560424805  loss_dis_b:0.3164089024066925  loss_dis_a:0.14891958236694336  loss_dis_total:0.46532848477363586 \n",
      "Epoch 39 Step 321  loss_gen_a2b:0.34606441855430603  loss_gen_b2a:0.2498340755701065  loss_id_a2b:0.04509904980659485  loss_id_b2a:0.10274815559387207  A_B_A_cycle_loss:0.11081574857234955  B_A_B_cycle_loss:0.051809173077344894  loss_gen_total:2.961383819580078  loss_dis_b:0.24786695837974548  loss_dis_a:0.16535122692584991  loss_dis_total:0.4132182002067566 \n"
     ]
    },
    {
     "name": "stdout",
     "output_type": "stream",
     "text": [
      "Epoch 39 Step 322  loss_gen_a2b:0.3470521569252014  loss_gen_b2a:0.35093238949775696  loss_id_a2b:0.1953389048576355  loss_id_b2a:0.0740576684474945  A_B_A_cycle_loss:0.08145953714847565  B_A_B_cycle_loss:0.16393551230430603  loss_gen_total:4.498918056488037  loss_dis_b:0.12192501127719879  loss_dis_a:0.1473986804485321  loss_dis_total:0.2693237066268921 \n",
      "Epoch 39 Step 323  loss_gen_a2b:0.31148219108581543  loss_gen_b2a:0.336673766374588  loss_id_a2b:0.1136712059378624  loss_id_b2a:0.10694528371095657  A_B_A_cycle_loss:0.10136540234088898  B_A_B_cycle_loss:0.07617302238941193  loss_gen_total:3.5266225337982178  loss_dis_b:0.3570508062839508  loss_dis_a:0.1082022488117218  loss_dis_total:0.4652530550956726 \n",
      "Epoch 39 Step 324  loss_gen_a2b:0.32539066672325134  loss_gen_b2a:0.5693114995956421  loss_id_a2b:0.06857001781463623  loss_id_b2a:0.07064181566238403  A_B_A_cycle_loss:0.10624165832996368  B_A_B_cycle_loss:0.10232220590114594  loss_gen_total:3.6763999462127686  loss_dis_b:0.23280102014541626  loss_dis_a:0.033561497926712036  loss_dis_total:0.2663625180721283 \n",
      "Epoch 39 Step 325  loss_gen_a2b:0.4429883360862732  loss_gen_b2a:0.19062377512454987  loss_id_a2b:0.11476139724254608  loss_id_b2a:0.09417913854122162  A_B_A_cycle_loss:0.108407162129879  B_A_B_cycle_loss:0.08411505073308945  loss_gen_total:3.603537082672119  loss_dis_b:0.2190503031015396  loss_dis_a:0.11745592206716537  loss_dis_total:0.3365062177181244 \n",
      "Epoch 39 Step 326  loss_gen_a2b:0.3956996500492096  loss_gen_b2a:0.11942315846681595  loss_id_a2b:0.08845274150371552  loss_id_b2a:0.06911323964595795  A_B_A_cycle_loss:0.07420908659696579  B_A_B_cycle_loss:0.07361845672130585  loss_gen_total:2.7812280654907227  loss_dis_b:0.26906639337539673  loss_dis_a:0.16250470280647278  loss_dis_total:0.4315710961818695 \n",
      "Epoch 39 Step 327  loss_gen_a2b:0.4121576249599457  loss_gen_b2a:0.3337738811969757  loss_id_a2b:0.08271171897649765  loss_id_b2a:0.1305575966835022  A_B_A_cycle_loss:0.12019944190979004  B_A_B_cycle_loss:0.08410525321960449  loss_gen_total:3.855325222015381  loss_dis_b:0.053617969155311584  loss_dis_a:0.12814775109291077  loss_dis_total:0.18176572024822235 \n",
      "Epoch 39 Step 328  loss_gen_a2b:0.1247495710849762  loss_gen_b2a:0.3366788923740387  loss_id_a2b:0.15080659091472626  loss_id_b2a:0.08095531165599823  A_B_A_cycle_loss:0.07475550472736359  B_A_B_cycle_loss:0.21201275289058685  loss_gen_total:4.48792028427124  loss_dis_b:0.08635801076889038  loss_dis_a:0.25494515895843506  loss_dis_total:0.34130316972732544 \n",
      "Epoch 39 Step 329  loss_gen_a2b:0.6502834558486938  loss_gen_b2a:0.4760383069515228  loss_id_a2b:0.11019041389226913  loss_id_b2a:0.11436387896537781  A_B_A_cycle_loss:0.12018624693155289  B_A_B_cycle_loss:0.08070673048496246  loss_gen_total:4.258023262023926  loss_dis_b:0.12849196791648865  loss_dis_a:0.0734674334526062  loss_dis_total:0.20195940136909485 \n",
      "Epoch 39 Step 330  loss_gen_a2b:0.37526950240135193  loss_gen_b2a:0.5887901186943054  loss_id_a2b:0.058854442089796066  loss_id_b2a:0.11081618070602417  A_B_A_cycle_loss:0.104582279920578  B_A_B_cycle_loss:0.07743236422538757  loss_gen_total:3.632559061050415  loss_dis_b:0.1824769377708435  loss_dis_a:0.22372950613498688  loss_dis_total:0.4062064290046692 \n",
      "Epoch 39 Step 331  loss_gen_a2b:0.4288995563983917  loss_gen_b2a:0.151946559548378  loss_id_a2b:0.07532817125320435  loss_id_b2a:0.10253745317459106  A_B_A_cycle_loss:0.10689405351877213  B_A_B_cycle_loss:0.08613519370555878  loss_gen_total:3.4004669189453125  loss_dis_b:0.15151794254779816  loss_dis_a:0.2623128294944763  loss_dis_total:0.4138307571411133 \n",
      "Epoch 39 Step 332  loss_gen_a2b:0.3901769518852234  loss_gen_b2a:0.06076330691576004  loss_id_a2b:0.08148680627346039  loss_id_b2a:0.06996605545282364  A_B_A_cycle_loss:0.0813913494348526  B_A_B_cycle_loss:0.07649433612823486  loss_gen_total:2.7870614528656006  loss_dis_b:0.15185701847076416  loss_dis_a:0.059087544679641724  loss_dis_total:0.21094456315040588 \n",
      "Epoch 39 Step 333  loss_gen_a2b:0.29898929595947266  loss_gen_b2a:0.1227661594748497  loss_id_a2b:0.10278522968292236  loss_id_b2a:0.08090931177139282  A_B_A_cycle_loss:0.0930120199918747  B_A_B_cycle_loss:0.11077827215194702  loss_gen_total:3.378131151199341  loss_dis_b:0.07040631026029587  loss_dis_a:0.31962350010871887  loss_dis_total:0.39002981781959534 \n",
      "Epoch 39 Step 334  loss_gen_a2b:0.2115369439125061  loss_gen_b2a:0.17884941399097443  loss_id_a2b:0.1461508870124817  loss_id_b2a:0.21470105648040771  A_B_A_cycle_loss:0.18570920825004578  B_A_B_cycle_loss:0.13890773057937622  loss_gen_total:5.440815448760986  loss_dis_b:0.23352745175361633  loss_dis_a:0.21730810403823853  loss_dis_total:0.45083555579185486 \n",
      "Epoch 39 Step 335  loss_gen_a2b:0.22405606508255005  loss_gen_b2a:0.2362501323223114  loss_id_a2b:0.05683857947587967  loss_id_b2a:0.11405366659164429  A_B_A_cycle_loss:0.10043821483850479  B_A_B_cycle_loss:0.07064028084278107  loss_gen_total:3.02555251121521  loss_dis_b:0.16510187089443207  loss_dis_a:0.27361130714416504  loss_dis_total:0.4387131929397583 \n",
      "Epoch 39 Step 336  loss_gen_a2b:0.4471055865287781  loss_gen_b2a:0.4422214925289154  loss_id_a2b:0.08421187847852707  loss_id_b2a:0.17945580184459686  A_B_A_cycle_loss:0.16097527742385864  B_A_B_cycle_loss:0.07436878979206085  loss_gen_total:4.561106204986572  loss_dis_b:0.21426402032375336  loss_dis_a:0.06065415218472481  loss_dis_total:0.27491816878318787 \n",
      "Epoch 39 Step 337  loss_gen_a2b:0.16806693375110626  loss_gen_b2a:0.3459245562553406  loss_id_a2b:0.06140414625406265  loss_id_b2a:0.12160202860832214  A_B_A_cycle_loss:0.18777433037757874  B_A_B_cycle_loss:0.08432500064373016  loss_gen_total:4.150015354156494  loss_dis_b:0.157621368765831  loss_dis_a:0.09184321761131287  loss_dis_total:0.24946458637714386 \n",
      "Epoch 39 Step 338  loss_gen_a2b:0.7711447477340698  loss_gen_b2a:0.2321217954158783  loss_id_a2b:0.0854683592915535  loss_id_b2a:0.1507643461227417  A_B_A_cycle_loss:0.20420199632644653  B_A_B_cycle_loss:0.10310570150613785  loss_gen_total:5.25750732421875  loss_dis_b:0.14986005425453186  loss_dis_a:0.06452792882919312  loss_dis_total:0.21438798308372498 \n",
      "Epoch 39 Step 339  loss_gen_a2b:0.5779162645339966  loss_gen_b2a:0.038452163338661194  loss_id_a2b:0.08504286408424377  loss_id_b2a:0.11233462393283844  A_B_A_cycle_loss:0.13811364769935608  B_A_B_cycle_loss:0.08877502381801605  loss_gen_total:3.872142791748047  loss_dis_b:0.2503854036331177  loss_dis_a:0.3822961449623108  loss_dis_total:0.6326815485954285 \n",
      "Epoch 39 Step 340  loss_gen_a2b:0.09391361474990845  loss_gen_b2a:0.19057545065879822  loss_id_a2b:0.08530769497156143  loss_id_b2a:0.17166560888290405  A_B_A_cycle_loss:0.16726288199424744  B_A_B_cycle_loss:0.06273186206817627  loss_gen_total:3.8693032264709473  loss_dis_b:0.445853054523468  loss_dis_a:0.08921664208173752  loss_dis_total:0.5350697040557861 \n",
      "Epoch 39 Step 341  loss_gen_a2b:0.27041566371917725  loss_gen_b2a:0.23429745435714722  loss_id_a2b:0.060956209897994995  loss_id_b2a:0.08675681054592133  A_B_A_cycle_loss:0.08398371934890747  B_A_B_cycle_loss:0.07612757384777069  loss_gen_total:2.844391345977783  loss_dis_b:0.19026219844818115  loss_dis_a:0.0744839459657669  loss_dis_total:0.26474612951278687 \n",
      "Epoch 39 Step 342  loss_gen_a2b:0.5431885123252869  loss_gen_b2a:0.12822674214839935  loss_id_a2b:0.09652142226696014  loss_id_b2a:0.10909547656774521  A_B_A_cycle_loss:0.11675890535116196  B_A_B_cycle_loss:0.06895020604133606  loss_gen_total:3.556591033935547  loss_dis_b:0.47935229539871216  loss_dis_a:0.08179991692304611  loss_dis_total:0.5611522197723389 \n",
      "Epoch 39 Step 343  loss_gen_a2b:0.40057533979415894  loss_gen_b2a:0.1083127111196518  loss_id_a2b:0.11955061554908752  loss_id_b2a:0.15513098239898682  A_B_A_cycle_loss:0.16672959923744202  B_A_B_cycle_loss:0.1360810399055481  loss_gen_total:4.910402297973633  loss_dis_b:0.12986309826374054  loss_dis_a:0.22454681992530823  loss_dis_total:0.35440993309020996 \n",
      "Epoch 39 Step 344  loss_gen_a2b:0.25160297751426697  loss_gen_b2a:0.40213510394096375  loss_id_a2b:0.07449895888566971  loss_id_b2a:0.1334342062473297  A_B_A_cycle_loss:0.1625206023454666  B_A_B_cycle_loss:0.08751116693019867  loss_gen_total:4.193721294403076  loss_dis_b:0.08340035378932953  loss_dis_a:0.10077589750289917  loss_dis_total:0.1841762512922287 \n"
     ]
    },
    {
     "name": "stdout",
     "output_type": "stream",
     "text": [
      "Epoch 39 Step 345  loss_gen_a2b:0.36279866099357605  loss_gen_b2a:0.510566234588623  loss_id_a2b:0.07203108817338943  loss_id_b2a:0.10305480659008026  A_B_A_cycle_loss:0.09975910931825638  B_A_B_cycle_loss:0.07116518914699554  loss_gen_total:3.4580373764038086  loss_dis_b:0.20103690028190613  loss_dis_a:0.18791641294956207  loss_dis_total:0.3889533281326294 \n",
      "Epoch 39 Step 346  loss_gen_a2b:0.2786365747451782  loss_gen_b2a:0.3406715393066406  loss_id_a2b:0.07051989436149597  loss_id_b2a:0.14341485500335693  A_B_A_cycle_loss:0.13817307353019714  B_A_B_cycle_loss:0.07963050156831741  loss_gen_total:3.8670175075531006  loss_dis_b:0.24393469095230103  loss_dis_a:0.24809935688972473  loss_dis_total:0.49203404784202576 \n",
      "Epoch 39 Step 347  loss_gen_a2b:0.35934269428253174  loss_gen_b2a:0.15251286327838898  loss_id_a2b:0.2204703688621521  loss_id_b2a:0.10526243597269058  A_B_A_cycle_loss:0.11400841176509857  B_A_B_cycle_loss:0.1919192522764206  loss_gen_total:5.199796199798584  loss_dis_b:0.23828095197677612  loss_dis_a:0.06422574818134308  loss_dis_total:0.302506685256958 \n",
      "Epoch 39 Step 348  loss_gen_a2b:0.2975705564022064  loss_gen_b2a:0.500706672668457  loss_id_a2b:0.0747765451669693  loss_id_b2a:0.11499758064746857  A_B_A_cycle_loss:0.10761937499046326  B_A_B_cycle_loss:0.0773947685956955  loss_gen_total:3.5972893238067627  loss_dis_b:0.10428524017333984  loss_dis_a:0.12280939519405365  loss_dis_total:0.2270946353673935 \n",
      "Epoch 39 Step 349  loss_gen_a2b:0.5002610087394714  loss_gen_b2a:0.3784620761871338  loss_id_a2b:0.052862703800201416  loss_id_b2a:0.13484513759613037  A_B_A_cycle_loss:0.12003608047962189  B_A_B_cycle_loss:0.06848578155040741  loss_gen_total:3.7024810314178467  loss_dis_b:0.12392094731330872  loss_dis_a:0.20829880237579346  loss_dis_total:0.3322197496891022 \n",
      "Epoch 39 Step 350  loss_gen_a2b:0.478567898273468  loss_gen_b2a:0.07979050278663635  loss_id_a2b:0.12263362854719162  loss_id_b2a:0.11082915961742401  A_B_A_cycle_loss:0.09915868937969208  B_A_B_cycle_loss:0.12641960382461548  loss_gen_total:3.9814553260803223  loss_dis_b:0.13277369737625122  loss_dis_a:0.06523959338665009  loss_dis_total:0.1980132907629013 \n",
      "Epoch 39 Step 351  loss_gen_a2b:0.31100159883499146  loss_gen_b2a:0.16750700771808624  loss_id_a2b:0.1129666417837143  loss_id_b2a:0.18449611961841583  A_B_A_cycle_loss:0.18244969844818115  B_A_B_cycle_loss:0.14153894782066345  loss_gen_total:5.205708980560303  loss_dis_b:0.31351473927497864  loss_dis_a:0.28028541803359985  loss_dis_total:0.5938001871109009 \n",
      "Epoch 39 Step 352  loss_gen_a2b:0.5373006463050842  loss_gen_b2a:0.40972402691841125  loss_id_a2b:0.08205252885818481  loss_id_b2a:0.09467072784900665  A_B_A_cycle_loss:0.08962079882621765  B_A_B_cycle_loss:0.11163465678691864  loss_gen_total:3.843195676803589  loss_dis_b:0.07763959467411041  loss_dis_a:0.21360839903354645  loss_dis_total:0.29124799370765686 \n",
      "Epoch 39 Step 353  loss_gen_a2b:0.6084666848182678  loss_gen_b2a:0.29349321126937866  loss_id_a2b:0.09718883037567139  loss_id_b2a:0.1342254877090454  A_B_A_cycle_loss:0.10444224625825882  B_A_B_cycle_loss:0.1040455624461174  loss_gen_total:4.143909454345703  loss_dis_b:0.20637869834899902  loss_dis_a:0.175263911485672  loss_dis_total:0.381642609834671 \n",
      "Epoch 39 Step 354  loss_gen_a2b:0.4414786696434021  loss_gen_b2a:0.36577704548835754  loss_id_a2b:0.07915808260440826  loss_id_b2a:0.13753452897071838  A_B_A_cycle_loss:0.14182649552822113  B_A_B_cycle_loss:0.09585103392601013  loss_gen_total:4.267494201660156  loss_dis_b:0.12384150922298431  loss_dis_a:0.0776313915848732  loss_dis_total:0.2014729082584381 \n",
      "Epoch 39 Step 355  loss_gen_a2b:0.39062103629112244  loss_gen_b2a:0.43118566274642944  loss_id_a2b:0.08936388045549393  loss_id_b2a:0.1341000348329544  A_B_A_cycle_loss:0.13277533650398254  B_A_B_cycle_loss:0.1035708636045456  loss_gen_total:4.30258846282959  loss_dis_b:0.11234424263238907  loss_dis_a:0.07603917270898819  loss_dis_total:0.18838341534137726 \n",
      "Epoch 39 Step 356  loss_gen_a2b:0.311759889125824  loss_gen_b2a:0.23523521423339844  loss_id_a2b:0.08671075105667114  loss_id_b2a:0.09275919198989868  A_B_A_cycle_loss:0.09678854793310165  B_A_B_cycle_loss:0.07525745034217834  loss_gen_total:3.1648049354553223  loss_dis_b:0.12917856872081757  loss_dis_a:0.15588226914405823  loss_dis_total:0.2850608229637146 \n",
      "Epoch 39 Step 357  loss_gen_a2b:0.35205137729644775  loss_gen_b2a:0.24786825478076935  loss_id_a2b:0.06505152583122253  loss_id_b2a:0.0783248320221901  A_B_A_cycle_loss:0.08543204516172409  B_A_B_cycle_loss:0.06606057286262512  loss_gen_total:2.8317275047302246  loss_dis_b:0.10995017737150192  loss_dis_a:0.25840216875076294  loss_dis_total:0.36835235357284546 \n",
      "Epoch 39 Step 358  loss_gen_a2b:0.1652691811323166  loss_gen_b2a:0.25011393427848816  loss_id_a2b:0.07977768778800964  loss_id_b2a:0.1363668441772461  A_B_A_cycle_loss:0.1373627781867981  B_A_B_cycle_loss:0.06626435369253159  loss_gen_total:3.532377243041992  loss_dis_b:0.2890532612800598  loss_dis_a:0.31648778915405273  loss_dis_total:0.6055410504341125 \n",
      "Epoch 39 Step 359  loss_gen_a2b:0.3626842200756073  loss_gen_b2a:0.3634292781352997  loss_id_a2b:0.04798486828804016  loss_id_b2a:0.07650615274906158  A_B_A_cycle_loss:0.09137831628322601  B_A_B_cycle_loss:0.05924671143293381  loss_gen_total:2.854818820953369  loss_dis_b:0.1248755156993866  loss_dis_a:0.2773602604866028  loss_dis_total:0.4022357761859894 \n",
      "Epoch 39 Step 360  loss_gen_a2b:0.4686741232872009  loss_gen_b2a:0.2400190532207489  loss_id_a2b:0.09828540682792664  loss_id_b2a:0.1616744101047516  A_B_A_cycle_loss:0.1710682213306427  B_A_B_cycle_loss:0.14336785674095154  loss_gen_total:5.152853012084961  loss_dis_b:0.15070733428001404  loss_dis_a:0.20172062516212463  loss_dis_total:0.35242795944213867 \n",
      "Epoch 39 Step 361  loss_gen_a2b:0.21778392791748047  loss_gen_b2a:0.31627750396728516  loss_id_a2b:0.14002196490764618  loss_id_b2a:0.10839632153511047  A_B_A_cycle_loss:0.10894469916820526  B_A_B_cycle_loss:0.13878008723258972  loss_gen_total:4.253400802612305  loss_dis_b:0.30594319105148315  loss_dis_a:0.18713481724262238  loss_dis_total:0.49307799339294434 \n",
      "Epoch 39 Step 362  loss_gen_a2b:0.36200952529907227  loss_gen_b2a:0.1288447380065918  loss_id_a2b:0.06509972363710403  loss_id_b2a:0.11405302584171295  A_B_A_cycle_loss:0.11116600036621094  B_A_B_cycle_loss:0.06260497868061066  loss_gen_total:3.1243276596069336  loss_dis_b:0.21679610013961792  loss_dis_a:0.2748146057128906  loss_dis_total:0.49161070585250854 \n",
      "Epoch 39 Step 363  loss_gen_a2b:0.1737852245569229  loss_gen_b2a:0.1325809806585312  loss_id_a2b:0.1009778156876564  loss_id_b2a:0.15047097206115723  A_B_A_cycle_loss:0.1569850593805313  B_A_B_cycle_loss:0.08647790551185608  loss_gen_total:3.998239755630493  loss_dis_b:0.29328376054763794  loss_dis_a:0.2634831964969635  loss_dis_total:0.5567669868469238 \n",
      "Epoch 39 Step 364  loss_gen_a2b:0.23894496262073517  loss_gen_b2a:0.5551742315292358  loss_id_a2b:0.07486529648303986  loss_id_b2a:0.08394026756286621  A_B_A_cycle_loss:0.09058834612369537  B_A_B_cycle_loss:0.09841644763946533  loss_gen_total:3.4781949520111084  loss_dis_b:0.1367354691028595  loss_dis_a:0.20370157063007355  loss_dis_total:0.34043705463409424 \n",
      "Epoch 39 Step 365  loss_gen_a2b:0.3365589380264282  loss_gen_b2a:0.5303761959075928  loss_id_a2b:0.10311904549598694  loss_id_b2a:0.09315703809261322  A_B_A_cycle_loss:0.1069725975394249  B_A_B_cycle_loss:0.10372968018054962  loss_gen_total:3.955338478088379  loss_dis_b:0.21140676736831665  loss_dis_a:0.138738214969635  loss_dis_total:0.35014498233795166 \n",
      "Epoch 39 Step 366  loss_gen_a2b:0.41947051882743835  loss_gen_b2a:0.5061039924621582  loss_id_a2b:0.05287731811404228  loss_id_b2a:0.08544478565454483  A_B_A_cycle_loss:0.09164171665906906  B_A_B_cycle_loss:0.10639401525259018  loss_gen_total:3.5975425243377686  loss_dis_b:0.09433473646640778  loss_dis_a:0.14534522593021393  loss_dis_total:0.2396799623966217 \n",
      "Epoch 39 Step 367  loss_gen_a2b:0.7378261685371399  loss_gen_b2a:0.15475624799728394  loss_id_a2b:0.1857944130897522  loss_id_b2a:0.08743073791265488  A_B_A_cycle_loss:0.10330947488546371  B_A_B_cycle_loss:0.16988423466682434  loss_gen_total:4.990645408630371  loss_dis_b:0.23773686587810516  loss_dis_a:0.26606813073158264  loss_dis_total:0.5038049817085266 \n"
     ]
    },
    {
     "name": "stdout",
     "output_type": "stream",
     "text": [
      "Epoch 39 Step 368  loss_gen_a2b:0.3528691530227661  loss_gen_b2a:0.4573378562927246  loss_id_a2b:0.058953460305929184  loss_id_b2a:0.07691101729869843  A_B_A_cycle_loss:0.08247146755456924  B_A_B_cycle_loss:0.09528995305299759  loss_gen_total:3.267143726348877  loss_dis_b:0.10207689553499222  loss_dis_a:0.04495657980442047  loss_dis_total:0.1470334827899933 \n",
      "Epoch 39 Step 369  loss_gen_a2b:0.9287509918212891  loss_gen_b2a:0.1981101930141449  loss_id_a2b:0.08531752228736877  loss_id_b2a:0.08811815083026886  A_B_A_cycle_loss:0.10564660280942917  B_A_B_cycle_loss:0.1141003668308258  loss_gen_total:4.191509246826172  loss_dis_b:0.11013524234294891  loss_dis_a:0.051026541739702225  loss_dis_total:0.16116178035736084 \n",
      "Epoch 39 Step 370  loss_gen_a2b:0.4239098131656647  loss_gen_b2a:0.2515226900577545  loss_id_a2b:0.06965072453022003  loss_id_b2a:0.07801121473312378  A_B_A_cycle_loss:0.09499447047710419  B_A_B_cycle_loss:0.08565999567508698  loss_gen_total:3.2202868461608887  loss_dis_b:0.09057345986366272  loss_dis_a:0.19967715442180634  loss_dis_total:0.29025059938430786 \n",
      "Epoch 39 Step 371  loss_gen_a2b:0.31694549322128296  loss_gen_b2a:0.22578023374080658  loss_id_a2b:0.09708790481090546  loss_id_b2a:0.07176148146390915  A_B_A_cycle_loss:0.09025745838880539  B_A_B_cycle_loss:0.12126535177230835  loss_gen_total:3.5022008419036865  loss_dis_b:0.08360687643289566  loss_dis_a:0.1518203616142273  loss_dis_total:0.23542723059654236 \n",
      "Epoch 39 Step 372  loss_gen_a2b:0.3891156017780304  loss_gen_b2a:0.3470747768878937  loss_id_a2b:0.09023762494325638  loss_id_b2a:0.07228261977434158  A_B_A_cycle_loss:0.09848453104496002  B_A_B_cycle_loss:0.10688747465610504  loss_gen_total:3.602511405944824  loss_dis_b:0.033819206058979034  loss_dis_a:0.21457597613334656  loss_dis_total:0.248395174741745 \n",
      "Epoch 39 Step 373  loss_gen_a2b:0.20902453362941742  loss_gen_b2a:0.5197263360023499  loss_id_a2b:0.09385398030281067  loss_id_b2a:0.1382322609424591  A_B_A_cycle_loss:0.1330237090587616  B_A_B_cycle_loss:0.10703720897436142  loss_gen_total:4.289791107177734  loss_dis_b:0.02653508260846138  loss_dis_a:0.32390135526657104  loss_dis_total:0.3504364490509033 \n",
      "Epoch 39 Step 374  loss_gen_a2b:0.6473426818847656  loss_gen_b2a:0.2565154731273651  loss_id_a2b:0.11672528088092804  loss_id_b2a:0.08448512852191925  A_B_A_cycle_loss:0.122368223965168  B_A_B_cycle_loss:0.08924249559640884  loss_gen_total:4.026017189025879  loss_dis_b:0.24305862188339233  loss_dis_a:0.1070551723241806  loss_dis_total:0.35011380910873413 \n",
      "Epoch 39 Step 375  loss_gen_a2b:0.278977632522583  loss_gen_b2a:0.25460124015808105  loss_id_a2b:0.07973706722259521  loss_id_b2a:0.08072973787784576  A_B_A_cycle_loss:0.09845853596925735  B_A_B_cycle_loss:0.10884704440832138  loss_gen_total:3.408968687057495  loss_dis_b:0.22658014297485352  loss_dis_a:0.08975745737552643  loss_dis_total:0.31633758544921875 \n",
      "Epoch 39 Step 376  loss_gen_a2b:0.3934650123119354  loss_gen_b2a:0.22640198469161987  loss_id_a2b:0.08251112699508667  loss_id_b2a:0.09425374120473862  A_B_A_cycle_loss:0.10556591302156448  B_A_B_cycle_loss:0.09492535889148712  loss_gen_total:3.508604049682617  loss_dis_b:0.1912248283624649  loss_dis_a:0.11623036861419678  loss_dis_total:0.3074551820755005 \n",
      "Epoch 39 Step 377  loss_gen_a2b:0.584776759147644  loss_gen_b2a:0.27236732840538025  loss_id_a2b:0.12818925082683563  loss_id_b2a:0.09103628993034363  A_B_A_cycle_loss:0.0986206978559494  B_A_B_cycle_loss:0.13809916377067566  loss_gen_total:4.320470809936523  loss_dis_b:0.0703515037894249  loss_dis_a:0.19184386730194092  loss_dis_total:0.2621953785419464 \n",
      "Epoch 39 Step 378  loss_gen_a2b:0.6024978756904602  loss_gen_b2a:0.2041129767894745  loss_id_a2b:0.1550005078315735  loss_id_b2a:0.08141178637742996  A_B_A_cycle_loss:0.09893476963043213  B_A_B_cycle_loss:0.12225741147994995  loss_gen_total:4.200593948364258  loss_dis_b:0.29338985681533813  loss_dis_a:0.21890124678611755  loss_dis_total:0.5122910737991333 \n",
      "Epoch 39 Step 379  loss_gen_a2b:0.4880419373512268  loss_gen_b2a:0.276627779006958  loss_id_a2b:0.06422053277492523  loss_id_b2a:0.11132289469242096  A_B_A_cycle_loss:0.11870744824409485  B_A_B_cycle_loss:0.0952078253030777  loss_gen_total:3.7815394401550293  loss_dis_b:0.08759823441505432  loss_dis_a:0.17939502000808716  loss_dis_total:0.2669932544231415 \n",
      "Epoch 39 Step 380  loss_gen_a2b:0.11725331842899323  loss_gen_b2a:0.27893903851509094  loss_id_a2b:0.10365526378154755  loss_id_b2a:0.07235177606344223  A_B_A_cycle_loss:0.08254134654998779  B_A_B_cycle_loss:0.11605554819107056  loss_gen_total:3.2621965408325195  loss_dis_b:0.06424441188573837  loss_dis_a:0.13581949472427368  loss_dis_total:0.20006391406059265 \n",
      "Epoch 39 Step 381  loss_gen_a2b:0.23419401049613953  loss_gen_b2a:0.18950460851192474  loss_id_a2b:0.1094108447432518  loss_id_b2a:0.08058999478816986  A_B_A_cycle_loss:0.09064134955406189  B_A_B_cycle_loss:0.08639778196811676  loss_gen_total:3.1440939903259277  loss_dis_b:0.20574477314949036  loss_dis_a:0.06892844289541245  loss_dis_total:0.2746732234954834 \n",
      "Epoch 39 Step 382  loss_gen_a2b:0.08897329121828079  loss_gen_b2a:0.14450237154960632  loss_id_a2b:0.07389837503433228  loss_id_b2a:0.13182410597801208  A_B_A_cycle_loss:0.14713969826698303  B_A_B_cycle_loss:0.06466536968946457  loss_gen_total:3.380138874053955  loss_dis_b:0.11372282356023788  loss_dis_a:0.2172655463218689  loss_dis_total:0.3309883773326874 \n",
      "Epoch 39 Step 383  loss_gen_a2b:0.04832005500793457  loss_gen_b2a:0.36582401394844055  loss_id_a2b:0.12279783934354782  loss_id_b2a:0.1159166544675827  A_B_A_cycle_loss:0.11220279335975647  B_A_B_cycle_loss:0.15778246521949768  loss_gen_total:4.3075690269470215  loss_dis_b:0.17540022730827332  loss_dis_a:0.16599339246749878  loss_dis_total:0.3413936197757721 \n",
      "Epoch 39 Step 384  loss_gen_a2b:0.5729343891143799  loss_gen_b2a:0.28696542978286743  loss_id_a2b:0.11210379749536514  loss_id_b2a:0.08765526115894318  A_B_A_cycle_loss:0.12104068696498871  B_A_B_cycle_loss:0.10770319402217865  loss_gen_total:4.146133899688721  loss_dis_b:0.346687376499176  loss_dis_a:0.1989833265542984  loss_dis_total:0.5456706881523132 \n",
      "Epoch 39 Step 385  loss_gen_a2b:0.16291092336177826  loss_gen_b2a:0.28950995206832886  loss_id_a2b:0.09032870084047318  loss_id_b2a:0.09505711495876312  A_B_A_cycle_loss:0.10449430346488953  B_A_B_cycle_loss:0.07515232264995575  loss_gen_total:3.175816059112549  loss_dis_b:0.3527916669845581  loss_dis_a:0.261337548494339  loss_dis_total:0.6141291856765747 \n",
      "Epoch 39 Step 386  loss_gen_a2b:0.11084530502557755  loss_gen_b2a:0.22338345646858215  loss_id_a2b:0.07769269496202469  loss_id_b2a:0.10512639582157135  A_B_A_cycle_loss:0.11541570723056793  B_A_B_cycle_loss:0.08791916072368622  loss_gen_total:3.281672954559326  loss_dis_b:0.4580318331718445  loss_dis_a:0.15402920544147491  loss_dis_total:0.6120610237121582 \n",
      "Epoch 39 Step 387  loss_gen_a2b:0.20827068388462067  loss_gen_b2a:0.4880853593349457  loss_id_a2b:0.0620872899889946  loss_id_b2a:0.09052518010139465  A_B_A_cycle_loss:0.09861645102500916  B_A_B_cycle_loss:0.08072909712791443  loss_gen_total:3.2528738975524902  loss_dis_b:0.26096081733703613  loss_dis_a:0.09254451096057892  loss_dis_total:0.35350531339645386 \n",
      "Epoch 39 Step 388  loss_gen_a2b:0.5117231011390686  loss_gen_b2a:0.24991559982299805  loss_id_a2b:0.11549769341945648  loss_id_b2a:0.11728793382644653  A_B_A_cycle_loss:0.1203579306602478  B_A_B_cycle_loss:0.12170489132404327  loss_gen_total:4.346195220947266  loss_dis_b:0.289950966835022  loss_dis_a:0.26004478335380554  loss_dis_total:0.5499957799911499 \n",
      "Epoch 39 Step 389  loss_gen_a2b:0.564848780632019  loss_gen_b2a:0.5441900491714478  loss_id_a2b:0.10272878408432007  loss_id_b2a:0.0880187600851059  A_B_A_cycle_loss:0.12598475813865662  B_A_B_cycle_loss:0.09875909239053726  loss_gen_total:4.310214996337891  loss_dis_b:0.08424694836139679  loss_dis_a:0.08422653377056122  loss_dis_total:0.168473482131958 \n",
      "Epoch 39 Step 390  loss_gen_a2b:0.2799948453903198  loss_gen_b2a:0.35502487421035767  loss_id_a2b:0.06776316463947296  loss_id_b2a:0.11205025017261505  A_B_A_cycle_loss:0.10697183012962341  B_A_B_cycle_loss:0.09519334137439728  loss_gen_total:3.5557384490966797  loss_dis_b:0.18507671356201172  loss_dis_a:0.16392865777015686  loss_dis_total:0.3490053713321686 \n"
     ]
    },
    {
     "name": "stdout",
     "output_type": "stream",
     "text": [
      "Epoch 39 Step 391  loss_gen_a2b:0.28253161907196045  loss_gen_b2a:0.15086910128593445  loss_id_a2b:0.0835893303155899  loss_id_b2a:0.08194195479154587  A_B_A_cycle_loss:0.11208473145961761  B_A_B_cycle_loss:0.08553542196750641  loss_gen_total:3.2372584342956543  loss_dis_b:0.256980299949646  loss_dis_a:0.32959359884262085  loss_dis_total:0.5865738987922668 \n",
      "Epoch 39 Step 392  loss_gen_a2b:0.13795095682144165  loss_gen_b2a:0.4931151866912842  loss_id_a2b:0.09730647504329681  loss_id_b2a:0.24114498496055603  A_B_A_cycle_loss:0.21182411909103394  B_A_B_cycle_loss:0.09708717465400696  loss_gen_total:5.412436485290527  loss_dis_b:0.20334073901176453  loss_dis_a:0.22869354486465454  loss_dis_total:0.43203428387641907 \n",
      "Epoch 39 Step 393  loss_gen_a2b:0.27770930528640747  loss_gen_b2a:0.23289524018764496  loss_id_a2b:0.07531804591417313  loss_id_b2a:0.08531159162521362  A_B_A_cycle_loss:0.09980341792106628  B_A_B_cycle_loss:0.09289324283599854  loss_gen_total:3.2407193183898926  loss_dis_b:0.19625809788703918  loss_dis_a:0.2507379353046417  loss_dis_total:0.4469960331916809 \n",
      "Epoch 39 Step 394  loss_gen_a2b:0.24793843924999237  loss_gen_b2a:0.5650284290313721  loss_id_a2b:0.07758499681949615  loss_id_b2a:0.16159045696258545  A_B_A_cycle_loss:0.12377285212278366  B_A_B_cycle_loss:0.06625843048095703  loss_gen_total:3.9091570377349854  loss_dis_b:0.16691307723522186  loss_dis_a:0.10745040327310562  loss_dis_total:0.2743634879589081 \n",
      "Epoch 39 Step 395  loss_gen_a2b:0.2644106447696686  loss_gen_b2a:0.5531235933303833  loss_id_a2b:0.0763583555817604  loss_id_b2a:0.11551452428102493  A_B_A_cycle_loss:0.13429319858551025  B_A_B_cycle_loss:0.08886267244815826  loss_gen_total:4.008457183837891  loss_dis_b:0.14644059538841248  loss_dis_a:0.20811639726161957  loss_dis_total:0.35455697774887085 \n",
      "Epoch 39 Step 396  loss_gen_a2b:0.4991625249385834  loss_gen_b2a:0.1936342567205429  loss_id_a2b:0.10442499071359634  loss_id_b2a:0.09993664175271988  A_B_A_cycle_loss:0.11907046288251877  B_A_B_cycle_loss:0.1397266387939453  loss_gen_total:4.302576065063477  loss_dis_b:0.26111701130867004  loss_dis_a:0.060168057680130005  loss_dis_total:0.32128506898880005 \n",
      "Epoch 39 Step 397  loss_gen_a2b:0.44430315494537354  loss_gen_b2a:0.11560113728046417  loss_id_a2b:0.09310833364725113  loss_id_b2a:0.11369490623474121  A_B_A_cycle_loss:0.12241539359092712  B_A_B_cycle_loss:0.11305153369903564  loss_gen_total:3.94858980178833  loss_dis_b:0.15236926078796387  loss_dis_a:0.16780835390090942  loss_dis_total:0.3201776146888733 \n",
      "Epoch 39 Step 398  loss_gen_a2b:0.5075714588165283  loss_gen_b2a:0.07924195379018784  loss_id_a2b:0.08308589458465576  loss_id_b2a:0.05846808850765228  A_B_A_cycle_loss:0.06843692064285278  B_A_B_cycle_loss:0.0868588387966156  loss_gen_total:2.847540855407715  loss_dis_b:0.17544107139110565  loss_dis_a:0.26527613401412964  loss_dis_total:0.4407172203063965 \n",
      "Epoch 39 Step 399  loss_gen_a2b:0.11955396831035614  loss_gen_b2a:0.3138273358345032  loss_id_a2b:0.0822184681892395  loss_id_b2a:0.07408513128757477  A_B_A_cycle_loss:0.08147089183330536  B_A_B_cycle_loss:0.09178586304187775  loss_gen_total:2.9474668502807617  loss_dis_b:0.27893924713134766  loss_dis_a:0.16463330388069153  loss_dis_total:0.4435725510120392 \n",
      "Epoch 39 Step 400  loss_gen_a2b:0.4634527564048767  loss_gen_b2a:0.18452946841716766  loss_id_a2b:0.09435618668794632  loss_id_b2a:0.07924926280975342  A_B_A_cycle_loss:0.08937811851501465  B_A_B_cycle_loss:0.09976673126220703  loss_gen_total:3.4074578285217285  loss_dis_b:0.20209857821464539  loss_dis_a:0.24339982867240906  loss_dis_total:0.44549840688705444 \n",
      "Epoch 39 Step 401  loss_gen_a2b:0.23771560192108154  loss_gen_b2a:0.3469933867454529  loss_id_a2b:0.13510099053382874  loss_id_b2a:0.1338139772415161  A_B_A_cycle_loss:0.11709589511156082  B_A_B_cycle_loss:0.1269146203994751  loss_gen_total:4.369388580322266  loss_dis_b:0.28101256489753723  loss_dis_a:0.15445491671562195  loss_dis_total:0.4354674816131592 \n",
      "Epoch 39 Step 402  loss_gen_a2b:0.3334992229938507  loss_gen_b2a:0.7979268431663513  loss_id_a2b:0.10812455415725708  loss_id_b2a:0.05611312761902809  A_B_A_cycle_loss:0.07239744812250137  B_A_B_cycle_loss:0.11574040353298187  loss_gen_total:3.8339931964874268  loss_dis_b:0.26678383350372314  loss_dis_a:0.16833022236824036  loss_dis_total:0.4351140558719635 \n",
      "Epoch 39 Step 403  loss_gen_a2b:0.3726681172847748  loss_gen_b2a:0.16942501068115234  loss_id_a2b:0.0632796660065651  loss_id_b2a:0.080105260014534  A_B_A_cycle_loss:0.09097898751497269  B_A_B_cycle_loss:0.0843677893280983  loss_gen_total:3.0124855041503906  loss_dis_b:0.23184329271316528  loss_dis_a:0.3059973418712616  loss_dis_total:0.5378406047821045 \n",
      "Epoch 39 Step 404  loss_gen_a2b:0.2670678198337555  loss_gen_b2a:0.581432044506073  loss_id_a2b:0.11283068358898163  loss_id_b2a:0.10385003685951233  A_B_A_cycle_loss:0.09304522722959518  B_A_B_cycle_loss:0.10871697217226028  loss_gen_total:3.9495253562927246  loss_dis_b:0.1344197541475296  loss_dis_a:0.13277359306812286  loss_dis_total:0.26719334721565247 \n",
      "Epoch 39 Step 405  loss_gen_a2b:0.5851263999938965  loss_gen_b2a:0.5702584981918335  loss_id_a2b:0.07709282636642456  loss_id_b2a:0.09190014749765396  A_B_A_cycle_loss:0.08944631367921829  B_A_B_cycle_loss:0.09654568135738373  loss_gen_total:3.8602700233459473  loss_dis_b:0.06334664672613144  loss_dis_a:0.07841280102729797  loss_dis_total:0.14175945520401 \n",
      "Epoch 39 Step 406  loss_gen_a2b:0.8935697078704834  loss_gen_b2a:0.3413613438606262  loss_id_a2b:0.05626111477613449  loss_id_b2a:0.1353335678577423  A_B_A_cycle_loss:0.14595907926559448  B_A_B_cycle_loss:0.06409729272127151  loss_gen_total:4.293467998504639  loss_dis_b:0.15004177391529083  loss_dis_a:0.09028555452823639  loss_dis_total:0.24032732844352722 \n",
      "Epoch 39 Step 407  loss_gen_a2b:0.45275813341140747  loss_gen_b2a:0.06130000948905945  loss_id_a2b:0.14067646861076355  loss_id_b2a:0.12854799628257751  A_B_A_cycle_loss:0.10903295874595642  B_A_B_cycle_loss:0.1458653211593628  loss_gen_total:4.409163475036621  loss_dis_b:0.4277574419975281  loss_dis_a:0.042239706963300705  loss_dis_total:0.4699971377849579 \n",
      "Epoch 39 Step 408  loss_gen_a2b:0.3001015782356262  loss_gen_b2a:0.20495495200157166  loss_id_a2b:0.07673400640487671  loss_id_b2a:0.16065633296966553  A_B_A_cycle_loss:0.1452159583568573  B_A_B_cycle_loss:0.07690773904323578  loss_gen_total:3.91324520111084  loss_dis_b:0.1300285905599594  loss_dis_a:0.1346219778060913  loss_dis_total:0.2646505832672119 \n",
      "Epoch 39 Step 409  loss_gen_a2b:0.17934979498386383  loss_gen_b2a:0.1907380372285843  loss_id_a2b:0.08867497742176056  loss_id_b2a:0.10213690996170044  A_B_A_cycle_loss:0.12020622193813324  B_A_B_cycle_loss:0.14922761917114258  loss_gen_total:4.018486022949219  loss_dis_b:0.20477811992168427  loss_dis_a:0.07948051393032074  loss_dis_total:0.284258633852005 \n",
      "Epoch 39 Step 410  loss_gen_a2b:0.6142160892486572  loss_gen_b2a:0.12441874295473099  loss_id_a2b:0.15428629517555237  loss_id_b2a:0.06349319219589233  A_B_A_cycle_loss:0.09386017918586731  B_A_B_cycle_loss:0.17820480465888977  loss_gen_total:4.548182010650635  loss_dis_b:0.24580904841423035  loss_dis_a:0.06676945090293884  loss_dis_total:0.3125784993171692 \n",
      "Epoch 39 Step 411  loss_gen_a2b:0.6268767714500427  loss_gen_b2a:0.4612019658088684  loss_id_a2b:0.07272235304117203  loss_id_b2a:0.08437351882457733  A_B_A_cycle_loss:0.10763674974441528  B_A_B_cycle_loss:0.08256633579730988  loss_gen_total:3.7755889892578125  loss_dis_b:0.23042187094688416  loss_dis_a:0.10260376334190369  loss_dis_total:0.33302563428878784 \n",
      "Epoch 39 Step 412  loss_gen_a2b:0.39097267389297485  loss_gen_b2a:0.19933561980724335  loss_id_a2b:0.06512252986431122  loss_id_b2a:0.09424006938934326  A_B_A_cycle_loss:0.10914205014705658  B_A_B_cycle_loss:0.09709769487380981  loss_gen_total:3.4495186805725098  loss_dis_b:0.07719163596630096  loss_dis_a:0.33985114097595215  loss_dis_total:0.4170427918434143 \n",
      "Epoch 39 Step 413  loss_gen_a2b:0.25148677825927734  loss_gen_b2a:0.30962198972702026  loss_id_a2b:0.0676092654466629  loss_id_b2a:0.11276957392692566  A_B_A_cycle_loss:0.119745172560215  B_A_B_cycle_loss:0.06759002804756165  loss_gen_total:3.3363547325134277  loss_dis_b:0.2348330169916153  loss_dis_a:0.1556667983531952  loss_dis_total:0.3904998302459717 \n"
     ]
    },
    {
     "name": "stdout",
     "output_type": "stream",
     "text": [
      "Epoch 39 Step 414  loss_gen_a2b:0.3430708944797516  loss_gen_b2a:0.27043694257736206  loss_id_a2b:0.0983627587556839  loss_id_b2a:0.08433353155851364  A_B_A_cycle_loss:0.09558872878551483  B_A_B_cycle_loss:0.12423038482666016  loss_gen_total:3.7251803874969482  loss_dis_b:0.1778688132762909  loss_dis_a:0.0775541141629219  loss_dis_total:0.2554229199886322 \n",
      "Epoch 39 Step 415  loss_gen_a2b:0.16936556994915009  loss_gen_b2a:0.058330826461315155  loss_id_a2b:0.10225676000118256  loss_id_b2a:0.07465863227844238  A_B_A_cycle_loss:0.08220557868480682  B_A_B_cycle_loss:0.12103525549173355  loss_gen_total:3.144681930541992  loss_dis_b:0.2547721862792969  loss_dis_a:0.14887408912181854  loss_dis_total:0.4036462903022766 \n",
      "Epoch 39 Step 416  loss_gen_a2b:0.3639983832836151  loss_gen_b2a:0.21580520272254944  loss_id_a2b:0.13976097106933594  loss_id_b2a:0.0600515715777874  A_B_A_cycle_loss:0.06027642637491226  B_A_B_cycle_loss:0.1142793744802475  loss_gen_total:3.3244245052337646  loss_dis_b:0.1788337528705597  loss_dis_a:0.11934230476617813  loss_dis_total:0.2981760501861572 \n",
      "Epoch 39 Step 417  loss_gen_a2b:0.1142241507768631  loss_gen_b2a:0.4987277388572693  loss_id_a2b:0.09784644842147827  loss_id_b2a:0.101121686398983  A_B_A_cycle_loss:0.11695212125778198  B_A_B_cycle_loss:0.09357499331235886  loss_gen_total:3.7130637168884277  loss_dis_b:0.21477343142032623  loss_dis_a:0.12491343915462494  loss_dis_total:0.33968687057495117 \n",
      "Epoch 39 Step 418  loss_gen_a2b:0.2935316264629364  loss_gen_b2a:0.2382580041885376  loss_id_a2b:0.08898112922906876  loss_id_b2a:0.13263526558876038  A_B_A_cycle_loss:0.1429489105939865  B_A_B_cycle_loss:0.1056423932313919  loss_gen_total:4.125784397125244  loss_dis_b:0.19153420627117157  loss_dis_a:0.23461629450321198  loss_dis_total:0.42615050077438354 \n",
      "Epoch 39 Step 419  loss_gen_a2b:0.6951756477355957  loss_gen_b2a:0.9086089134216309  loss_id_a2b:0.05401688069105148  loss_id_b2a:0.10914194583892822  A_B_A_cycle_loss:0.11021338403224945  B_A_B_cycle_loss:0.06862533092498779  loss_gen_total:4.207965850830078  loss_dis_b:0.03691712021827698  loss_dis_a:0.17512838542461395  loss_dis_total:0.21204550564289093 \n",
      "Epoch 39 Step 420  loss_gen_a2b:0.648765504360199  loss_gen_b2a:0.2589045464992523  loss_id_a2b:0.11123915016651154  loss_id_b2a:0.09128375351428986  A_B_A_cycle_loss:0.08942408114671707  B_A_B_cycle_loss:0.12120687961578369  loss_gen_total:4.026594161987305  loss_dis_b:0.0763971358537674  loss_dis_a:0.06976785510778427  loss_dis_total:0.14616498351097107 \n",
      "Epoch 39 Step 421  loss_gen_a2b:0.9483488202095032  loss_gen_b2a:0.2103174477815628  loss_id_a2b:0.08310063928365707  loss_id_b2a:0.07616811990737915  A_B_A_cycle_loss:0.1040818989276886  B_A_B_cycle_loss:0.07460995018482208  loss_gen_total:3.7419285774230957  loss_dis_b:0.30933699011802673  loss_dis_a:0.1370571404695511  loss_dis_total:0.446394145488739 \n",
      "Epoch 39 Step 422  loss_gen_a2b:0.15735965967178345  loss_gen_b2a:0.11310320347547531  loss_id_a2b:0.12842518091201782  loss_id_b2a:0.09074521064758301  A_B_A_cycle_loss:0.10591518133878708  B_A_B_cycle_loss:0.12891647219657898  loss_gen_total:3.7146315574645996  loss_dis_b:0.18821898102760315  loss_dis_a:0.30729198455810547  loss_dis_total:0.4955109655857086 \n",
      "Epoch 39 Step 423  loss_gen_a2b:0.7836469411849976  loss_gen_b2a:1.0074375867843628  loss_id_a2b:0.07316979765892029  loss_id_b2a:0.1226629689335823  A_B_A_cycle_loss:0.16145427525043488  B_A_B_cycle_loss:0.07308683544397354  loss_gen_total:5.115659236907959  loss_dis_b:0.07119628041982651  loss_dis_a:0.15635639429092407  loss_dis_total:0.22755268216133118 \n",
      "Epoch 39 Step 424  loss_gen_a2b:0.30018937587738037  loss_gen_b2a:0.5845854878425598  loss_id_a2b:0.14229533076286316  loss_id_b2a:0.17557767033576965  A_B_A_cycle_loss:0.16459475457668304  B_A_B_cycle_loss:0.1486782431602478  loss_gen_total:5.606869697570801  loss_dis_b:0.06166483461856842  loss_dis_a:0.2570984661579132  loss_dis_total:0.3187633156776428 \n",
      "Epoch 39 Step 425  loss_gen_a2b:0.3166520893573761  loss_gen_b2a:0.25746190547943115  loss_id_a2b:0.10632487386465073  loss_id_b2a:0.10324429720640182  A_B_A_cycle_loss:0.10259769856929779  B_A_B_cycle_loss:0.09440182149410248  loss_gen_total:3.5919551849365234  loss_dis_b:0.22207164764404297  loss_dis_a:0.13426116108894348  loss_dis_total:0.35633280873298645 \n",
      "Epoch 39 Step 426  loss_gen_a2b:0.3352683484554291  loss_gen_b2a:0.20267032086849213  loss_id_a2b:0.10182344913482666  loss_id_b2a:0.07396396994590759  A_B_A_cycle_loss:0.0916772112250328  B_A_B_cycle_loss:0.08195433765649796  loss_gen_total:3.153191089630127  loss_dis_b:0.3189484477043152  loss_dis_a:0.1942066103219986  loss_dis_total:0.5131550431251526 \n",
      "Epoch 39 Step 427  loss_gen_a2b:0.1647530198097229  loss_gen_b2a:0.3335016965866089  loss_id_a2b:0.0748358815908432  loss_id_b2a:0.10041341185569763  A_B_A_cycle_loss:0.10592468827962875  B_A_B_cycle_loss:0.09275319427251816  loss_gen_total:3.3612799644470215  loss_dis_b:0.09066344797611237  loss_dis_a:0.20220504701137543  loss_dis_total:0.2928684949874878 \n",
      "Epoch 39 Step 428  loss_gen_a2b:0.10933106392621994  loss_gen_b2a:0.6210358738899231  loss_id_a2b:0.08112343400716782  loss_id_b2a:0.1595250368118286  A_B_A_cycle_loss:0.15398788452148438  B_A_B_cycle_loss:0.10862122476100922  loss_gen_total:4.5597004890441895  loss_dis_b:0.15183702111244202  loss_dis_a:0.164634108543396  loss_dis_total:0.316471129655838 \n",
      "Epoch 39 Step 429  loss_gen_a2b:0.621673583984375  loss_gen_b2a:0.1006704792380333  loss_id_a2b:0.07864253222942352  loss_id_b2a:0.14036013185977936  A_B_A_cycle_loss:0.158932164311409  B_A_B_cycle_loss:0.0836191326379776  loss_gen_total:4.242870330810547  loss_dis_b:0.10593816637992859  loss_dis_a:0.17616070806980133  loss_dis_total:0.2820988893508911 \n",
      "Epoch 39 Step 430  loss_gen_a2b:0.34038469195365906  loss_gen_b2a:0.15334895253181458  loss_id_a2b:0.09288037568330765  loss_id_b2a:0.16923755407333374  A_B_A_cycle_loss:0.13561895489692688  B_A_B_cycle_loss:0.08745969831943512  loss_gen_total:4.035109519958496  loss_dis_b:0.2180781364440918  loss_dis_a:0.2515749931335449  loss_dis_total:0.4696531295776367 \n",
      "Epoch 39 Step 431  loss_gen_a2b:0.3784070611000061  loss_gen_b2a:0.22797422111034393  loss_id_a2b:0.10618294775485992  loss_id_b2a:0.07844984531402588  A_B_A_cycle_loss:0.0930904820561409  B_A_B_cycle_loss:0.13087934255599976  loss_gen_total:3.7692432403564453  loss_dis_b:0.3561933934688568  loss_dis_a:0.21061958372592926  loss_dis_total:0.5668129920959473 \n",
      "Epoch 39 Step 432  loss_gen_a2b:0.14804156124591827  loss_gen_b2a:0.14381934702396393  loss_id_a2b:0.13292986154556274  loss_id_b2a:0.08177150785923004  A_B_A_cycle_loss:0.08119644224643707  B_A_B_cycle_loss:0.12720364332199097  loss_gen_total:3.449368476867676  loss_dis_b:0.24868781864643097  loss_dis_a:0.1667966991662979  loss_dis_total:0.4154845178127289 \n",
      "Epoch 39 Step 433  loss_gen_a2b:0.43027034401893616  loss_gen_b2a:0.0849851667881012  loss_id_a2b:0.06559498608112335  loss_id_b2a:0.07759547978639603  A_B_A_cycle_loss:0.08790823817253113  B_A_B_cycle_loss:0.07864581048488617  loss_gen_total:2.8967483043670654  loss_dis_b:0.13585887849330902  loss_dis_a:0.06901738047599792  loss_dis_total:0.20487625896930695 \n",
      "Epoch 39 Step 434  loss_gen_a2b:0.5354353785514832  loss_gen_b2a:0.3145682215690613  loss_id_a2b:0.05888347327709198  loss_id_b2a:0.18797510862350464  A_B_A_cycle_loss:0.18919974565505981  B_A_B_cycle_loss:0.07127800583839417  loss_gen_total:4.6890740394592285  loss_dis_b:0.07144653797149658  loss_dis_a:0.08280257135629654  loss_dis_total:0.15424910187721252 \n",
      "Epoch 39 Step 435  loss_gen_a2b:0.7444623708724976  loss_gen_b2a:0.0885402038693428  loss_id_a2b:0.10687685012817383  loss_id_b2a:0.219208762049675  A_B_A_cycle_loss:0.23330414295196533  B_A_B_cycle_loss:0.10675114393234253  loss_gen_total:5.863983154296875  loss_dis_b:0.32861632108688354  loss_dis_a:0.2792118787765503  loss_dis_total:0.6078281998634338 \n",
      "Epoch 39 Step 436  loss_gen_a2b:0.36315661668777466  loss_gen_b2a:0.39135128259658813  loss_id_a2b:0.06809096038341522  loss_id_b2a:0.09512770920991898  A_B_A_cycle_loss:0.0922076553106308  B_A_B_cycle_loss:0.08282420039176941  loss_gen_total:3.320919990539551  loss_dis_b:0.23496069014072418  loss_dis_a:0.15147244930267334  loss_dis_total:0.38643312454223633 \n"
     ]
    },
    {
     "name": "stdout",
     "output_type": "stream",
     "text": [
      "Epoch 39 Step 437  loss_gen_a2b:0.2767406404018402  loss_gen_b2a:0.8297796845436096  loss_id_a2b:0.06244521960616112  loss_id_b2a:0.07934515923261642  A_B_A_cycle_loss:0.08714781701564789  B_A_B_cycle_loss:0.09598712623119354  loss_gen_total:3.6468214988708496  loss_dis_b:0.148838073015213  loss_dis_a:0.388400673866272  loss_dis_total:0.5372387170791626 \n",
      "Epoch 39 Step 438  loss_gen_a2b:0.3603505492210388  loss_gen_b2a:0.42338821291923523  loss_id_a2b:0.13917429745197296  loss_id_b2a:0.09756194800138474  A_B_A_cycle_loss:0.1006934642791748  B_A_B_cycle_loss:0.1093091294169426  loss_gen_total:4.067445755004883  loss_dis_b:0.09870335459709167  loss_dis_a:0.16026686131954193  loss_dis_total:0.2589702010154724 \n",
      "Epoch 39 Step 439  loss_gen_a2b:0.2457447052001953  loss_gen_b2a:0.2480672001838684  loss_id_a2b:0.06246272101998329  loss_id_b2a:0.07528871297836304  A_B_A_cycle_loss:0.09223270416259766  B_A_B_cycle_loss:0.07204535603523254  loss_gen_total:2.8253495693206787  loss_dis_b:0.13855323195457458  loss_dis_a:0.21683953702449799  loss_dis_total:0.3553927540779114 \n",
      "Epoch 39 Step 440  loss_gen_a2b:0.41846296191215515  loss_gen_b2a:0.29688918590545654  loss_id_a2b:0.08705563843250275  loss_id_b2a:0.09531427174806595  A_B_A_cycle_loss:0.11919082701206207  B_A_B_cycle_loss:0.09533680975437164  loss_gen_total:3.7724781036376953  loss_dis_b:0.1607835590839386  loss_dis_a:0.18267415463924408  loss_dis_total:0.3434576988220215 \n",
      "Epoch 39 Step 441  loss_gen_a2b:0.3959466814994812  loss_gen_b2a:0.2794431447982788  loss_id_a2b:0.08253897726535797  loss_id_b2a:0.09140129387378693  A_B_A_cycle_loss:0.106724813580513  B_A_B_cycle_loss:0.08304249495267868  loss_gen_total:3.4427642822265625  loss_dis_b:0.07753939181566238  loss_dis_a:0.1451360583305359  loss_dis_total:0.22267544269561768 \n",
      "Epoch 39 Step 442  loss_gen_a2b:0.4118567705154419  loss_gen_b2a:0.14757516980171204  loss_id_a2b:0.08507399260997772  loss_id_b2a:0.0927201583981514  A_B_A_cycle_loss:0.094339519739151  B_A_B_cycle_loss:0.0759979784488678  loss_gen_total:3.151777744293213  loss_dis_b:0.1766563057899475  loss_dis_a:0.2233903855085373  loss_dis_total:0.400046706199646 \n",
      "Epoch 39 Step 443  loss_gen_a2b:0.32189691066741943  loss_gen_b2a:0.47563812136650085  loss_id_a2b:0.09686733782291412  loss_id_b2a:0.07879042625427246  A_B_A_cycle_loss:0.07772642374038696  B_A_B_cycle_loss:0.11982224136590958  loss_gen_total:3.651310443878174  loss_dis_b:0.14670740067958832  loss_dis_a:0.13081900775432587  loss_dis_total:0.2775264084339142 \n",
      "Epoch 39 Step 444  loss_gen_a2b:0.18953265249729156  loss_gen_b2a:0.40227067470550537  loss_id_a2b:0.08124446868896484  loss_id_b2a:0.12482902407646179  A_B_A_cycle_loss:0.14393934607505798  B_A_B_cycle_loss:0.09747343510389328  loss_gen_total:4.036298751831055  loss_dis_b:0.13072256743907928  loss_dis_a:0.2514680325984955  loss_dis_total:0.3821905851364136 \n",
      "Epoch 39 Step 445  loss_gen_a2b:0.7855128049850464  loss_gen_b2a:0.35581865906715393  loss_id_a2b:0.07024190574884415  loss_id_b2a:0.13908807933330536  A_B_A_cycle_loss:0.1658928245306015  B_A_B_cycle_loss:0.06529314815998077  loss_gen_total:4.49984073638916  loss_dis_b:0.18413205444812775  loss_dis_a:0.25685182213783264  loss_dis_total:0.4409838914871216 \n",
      "Epoch 39 Step 446  loss_gen_a2b:0.6433917284011841  loss_gen_b2a:0.4849886894226074  loss_id_a2b:0.11370817571878433  loss_id_b2a:0.1628454029560089  A_B_A_cycle_loss:0.16246312856674194  B_A_B_cycle_loss:0.10868515819311142  loss_gen_total:5.222631454467773  loss_dis_b:0.21672086417675018  loss_dis_a:0.18627934157848358  loss_dis_total:0.40300020575523376 \n",
      "Epoch 39 Step 447  loss_gen_a2b:0.4507518410682678  loss_gen_b2a:0.5053089261054993  loss_id_a2b:0.06752726435661316  loss_id_b2a:0.10809589922428131  A_B_A_cycle_loss:0.13670317828655243  B_A_B_cycle_loss:0.13770893216133118  loss_gen_total:4.5782976150512695  loss_dis_b:0.21164751052856445  loss_dis_a:0.1032661646604538  loss_dis_total:0.31491369009017944 \n",
      "Epoch 39 Step 448  loss_gen_a2b:0.6551737785339355  loss_gen_b2a:0.06786499917507172  loss_id_a2b:0.10510344803333282  loss_id_b2a:0.08104763180017471  A_B_A_cycle_loss:0.09158796072006226  B_A_B_cycle_loss:0.09866522997617722  loss_gen_total:3.556326150894165  loss_dis_b:0.4760352075099945  loss_dis_a:0.24061168730258942  loss_dis_total:0.7166469097137451 \n",
      "Epoch 39 Step 449  loss_gen_a2b:0.3274589776992798  loss_gen_b2a:0.09089264273643494  loss_id_a2b:0.07785280048847198  loss_id_b2a:0.07198098301887512  A_B_A_cycle_loss:0.11018775403499603  B_A_B_cycle_loss:0.1118478998541832  loss_gen_total:3.3878769874572754  loss_dis_b:0.19986693561077118  loss_dis_a:0.3495919704437256  loss_dis_total:0.549458920955658 \n",
      "Epoch 39 Step 450  loss_gen_a2b:0.3564150631427765  loss_gen_b2a:0.28417864441871643  loss_id_a2b:0.09771730750799179  loss_id_b2a:0.10115230083465576  A_B_A_cycle_loss:0.10198647528886795  B_A_B_cycle_loss:0.11384561657905579  loss_gen_total:3.7932627201080322  loss_dis_b:0.21336528658866882  loss_dis_a:0.2859255075454712  loss_dis_total:0.49929079413414 \n",
      "Epoch 39 Step 451  loss_gen_a2b:0.4199402928352356  loss_gen_b2a:0.0987924188375473  loss_id_a2b:0.11480754613876343  loss_id_b2a:0.15705300867557526  A_B_A_cycle_loss:0.13320091366767883  B_A_B_cycle_loss:0.1312810182571411  loss_gen_total:4.522854804992676  loss_dis_b:0.3208109140396118  loss_dis_a:0.09856108576059341  loss_dis_total:0.41937199234962463 \n",
      "Epoch 39 Step 452  loss_gen_a2b:0.21357981860637665  loss_gen_b2a:0.1791307032108307  loss_id_a2b:0.07049725204706192  loss_id_b2a:0.08107663691043854  A_B_A_cycle_loss:0.11105366051197052  B_A_B_cycle_loss:0.07463468611240387  loss_gen_total:3.0074634552001953  loss_dis_b:0.08291266858577728  loss_dis_a:0.22955812513828278  loss_dis_total:0.31247079372406006 \n",
      "Epoch 39 Step 453  loss_gen_a2b:0.410758912563324  loss_gen_b2a:0.2614906430244446  loss_id_a2b:0.09751209616661072  loss_id_b2a:0.06582068651914597  A_B_A_cycle_loss:0.11985869705677032  B_A_B_cycle_loss:0.1128925159573555  loss_gen_total:3.8164258003234863  loss_dis_b:0.08289001882076263  loss_dis_a:0.05329645425081253  loss_dis_total:0.13618648052215576 \n",
      "Epoch 39 Step 454  loss_gen_a2b:0.23143726587295532  loss_gen_b2a:0.2420131415128708  loss_id_a2b:0.062137670814991  loss_id_b2a:0.11464916914701462  A_B_A_cycle_loss:0.18685287237167358  B_A_B_cycle_loss:0.0755128562450409  loss_gen_total:3.98104190826416  loss_dis_b:0.201368510723114  loss_dis_a:0.16518241167068481  loss_dis_total:0.36655092239379883 \n",
      "Epoch 39 Step 455  loss_gen_a2b:0.36974775791168213  loss_gen_b2a:0.20791904628276825  loss_id_a2b:0.16007542610168457  loss_id_b2a:0.08914077281951904  A_B_A_cycle_loss:0.11320240050554276  B_A_B_cycle_loss:0.12042561918497086  loss_gen_total:4.160027980804443  loss_dis_b:0.21778616309165955  loss_dis_a:0.24037039279937744  loss_dis_total:0.458156555891037 \n",
      "Epoch 39 Step 456  loss_gen_a2b:0.5339749455451965  loss_gen_b2a:0.20133638381958008  loss_id_a2b:0.19873692095279694  loss_id_b2a:0.12042669206857681  A_B_A_cycle_loss:0.13511468470096588  B_A_B_cycle_loss:0.2289430797100067  loss_gen_total:5.971707344055176  loss_dis_b:0.03220977634191513  loss_dis_a:0.0652097538113594  loss_dis_total:0.09741953015327454 \n",
      "Epoch 39 Step 457  loss_gen_a2b:0.3442031145095825  loss_gen_b2a:0.0794919952750206  loss_id_a2b:0.09160982072353363  loss_id_b2a:0.1776925027370453  A_B_A_cycle_loss:0.14623548090457916  B_A_B_cycle_loss:0.08126653730869293  loss_gen_total:4.04522705078125  loss_dis_b:0.16188141703605652  loss_dis_a:0.22962990403175354  loss_dis_total:0.39151132106781006 \n",
      "Epoch 39 Step 458  loss_gen_a2b:0.24425631761550903  loss_gen_b2a:0.10923875868320465  loss_id_a2b:0.07504012435674667  loss_id_b2a:0.11817881464958191  A_B_A_cycle_loss:0.16986843943595886  B_A_B_cycle_loss:0.12534615397453308  loss_gen_total:4.271736145019531  loss_dis_b:0.06556418538093567  loss_dis_a:0.251406192779541  loss_dis_total:0.3169703781604767 \n",
      "Epoch 39 Step 459  loss_gen_a2b:0.03981205075979233  loss_gen_b2a:0.3356544077396393  loss_id_a2b:0.13962310552597046  loss_id_b2a:0.22228030860424042  A_B_A_cycle_loss:0.22067363560199738  B_A_B_cycle_loss:0.13071975111961365  loss_gen_total:5.698917388916016  loss_dis_b:0.18876314163208008  loss_dis_a:0.2241544872522354  loss_dis_total:0.4129176139831543 \n"
     ]
    },
    {
     "name": "stdout",
     "output_type": "stream",
     "text": [
      "Epoch 39 Step 460  loss_gen_a2b:0.12243479490280151  loss_gen_b2a:0.2756861448287964  loss_id_a2b:0.05741236358880997  loss_id_b2a:0.0779939591884613  A_B_A_cycle_loss:0.07748212665319443  B_A_B_cycle_loss:0.07649506628513336  loss_gen_total:2.614924192428589  loss_dis_b:0.2570192813873291  loss_dis_a:0.23023678362369537  loss_dis_total:0.4872560501098633 \n",
      "Epoch 39 Step 461  loss_gen_a2b:0.23320314288139343  loss_gen_b2a:0.3678189814090729  loss_id_a2b:0.16196823120117188  loss_id_b2a:0.07781407237052917  A_B_A_cycle_loss:0.08745770901441574  B_A_B_cycle_loss:0.1274804174900055  loss_gen_total:3.949315071105957  loss_dis_b:0.22320887446403503  loss_dis_a:0.08797728270292282  loss_dis_total:0.31118616461753845 \n",
      "Epoch 39 Step 462  loss_gen_a2b:0.3398003578186035  loss_gen_b2a:0.16530156135559082  loss_id_a2b:0.10555297136306763  loss_id_b2a:0.07847575843334198  A_B_A_cycle_loss:0.10250188410282135  B_A_B_cycle_loss:0.11328837275505066  loss_gen_total:3.5831480026245117  loss_dis_b:0.12568287551403046  loss_dis_a:0.297235369682312  loss_dis_total:0.42291826009750366 \n",
      "Epoch 39 Step 463  loss_gen_a2b:0.4080204963684082  loss_gen_b2a:0.23669050633907318  loss_id_a2b:0.08397164940834045  loss_id_b2a:0.11922846734523773  A_B_A_cycle_loss:0.13554620742797852  B_A_B_cycle_loss:0.08836030960083008  loss_gen_total:3.8997769355773926  loss_dis_b:0.21614842116832733  loss_dis_a:0.12631623446941376  loss_dis_total:0.3424646556377411 \n",
      "Epoch 39 Step 464  loss_gen_a2b:0.3500625491142273  loss_gen_b2a:0.22230759263038635  loss_id_a2b:0.1255592405796051  loss_id_b2a:0.10744601488113403  A_B_A_cycle_loss:0.10650070011615753  B_A_B_cycle_loss:0.11205578595399857  loss_gen_total:3.9229612350463867  loss_dis_b:0.17382994294166565  loss_dis_a:0.20620399713516235  loss_dis_total:0.380033940076828 \n",
      "Epoch 39 Step 465  loss_gen_a2b:0.3027791678905487  loss_gen_b2a:0.36171042919158936  loss_id_a2b:0.07458582520484924  loss_id_b2a:0.08483521640300751  A_B_A_cycle_loss:0.08500003069639206  B_A_B_cycle_loss:0.08738291263580322  loss_gen_total:3.185424327850342  loss_dis_b:0.1599089652299881  loss_dis_a:0.1626439392566681  loss_dis_total:0.3225529193878174 \n",
      "Epoch 39 Step 466  loss_gen_a2b:0.3170017600059509  loss_gen_b2a:0.30192628502845764  loss_id_a2b:0.11111631989479065  loss_id_b2a:0.10077890753746033  A_B_A_cycle_loss:0.09578272700309753  B_A_B_cycle_loss:0.10019852966070175  loss_gen_total:3.638216733932495  loss_dis_b:0.27971383929252625  loss_dis_a:0.20646002888679504  loss_dis_total:0.4861738681793213 \n",
      "Epoch 39 Step 467  loss_gen_a2b:0.39789295196533203  loss_gen_b2a:0.7862319350242615  loss_id_a2b:0.11865554749965668  loss_id_b2a:0.1648426651954651  A_B_A_cycle_loss:0.15622133016586304  B_A_B_cycle_loss:0.15346093475818634  loss_gen_total:5.69843864440918  loss_dis_b:0.07610956579446793  loss_dis_a:0.09047923237085342  loss_dis_total:0.16658879816532135 \n",
      "Epoch 39 Step 468  loss_gen_a2b:0.26722216606140137  loss_gen_b2a:0.44820064306259155  loss_id_a2b:0.1116824746131897  loss_id_b2a:0.15248100459575653  A_B_A_cycle_loss:0.17542977631092072  B_A_B_cycle_loss:0.13610123097896576  loss_gen_total:5.15155029296875  loss_dis_b:0.1798502504825592  loss_dis_a:0.22439686954021454  loss_dis_total:0.40424710512161255 \n",
      "Epoch 39 Step 469  loss_gen_a2b:0.6851586699485779  loss_gen_b2a:0.5655597448348999  loss_id_a2b:0.11249374598264694  loss_id_b2a:0.08879261463880539  A_B_A_cycle_loss:0.08376365900039673  B_A_B_cycle_loss:0.10066087543964386  loss_gen_total:4.101395606994629  loss_dis_b:0.04525114595890045  loss_dis_a:0.11908219754695892  loss_dis_total:0.16433334350585938 \n",
      "Epoch 39 Step 470  loss_gen_a2b:0.4367949962615967  loss_gen_b2a:0.17108583450317383  loss_id_a2b:0.08236166834831238  loss_id_b2a:0.1474669873714447  A_B_A_cycle_loss:0.13823561370372772  B_A_B_cycle_loss:0.09835252165794373  loss_gen_total:4.122905731201172  loss_dis_b:0.2542151212692261  loss_dis_a:0.25569385290145874  loss_dis_total:0.5099089741706848 \n",
      "Epoch 39 Step 471  loss_gen_a2b:0.6535420417785645  loss_gen_b2a:0.12903010845184326  loss_id_a2b:0.11454089730978012  loss_id_b2a:0.10321534425020218  A_B_A_cycle_loss:0.09815441817045212  B_A_B_cycle_loss:0.09294573217630386  loss_gen_total:3.7823548316955566  loss_dis_b:0.21904081106185913  loss_dis_a:0.10645090043544769  loss_dis_total:0.325491726398468 \n",
      "Epoch 39 Step 472  loss_gen_a2b:0.5818425416946411  loss_gen_b2a:0.21811693906784058  loss_id_a2b:0.07602909952402115  loss_id_b2a:0.09083291888237  A_B_A_cycle_loss:0.10704163461923599  B_A_B_cycle_loss:0.08513936400413513  loss_gen_total:3.556079387664795  loss_dis_b:0.15351389348506927  loss_dis_a:0.14973914623260498  loss_dis_total:0.30325305461883545 \n",
      "Epoch 39 Step 473  loss_gen_a2b:0.6465291380882263  loss_gen_b2a:0.31486135721206665  loss_id_a2b:0.09326361119747162  loss_id_b2a:0.10149338841438293  A_B_A_cycle_loss:0.1206488311290741  B_A_B_cycle_loss:0.09025474637746811  loss_gen_total:4.044211387634277  loss_dis_b:0.2389235943555832  loss_dis_a:0.13310803472995758  loss_dis_total:0.37203162908554077 \n",
      "Epoch 39 Step 474  loss_gen_a2b:0.3720775246620178  loss_gen_b2a:0.531805694103241  loss_id_a2b:0.07982195913791656  loss_id_b2a:0.060626983642578125  A_B_A_cycle_loss:0.07636241614818573  B_A_B_cycle_loss:0.08611566573381424  loss_gen_total:3.2309088706970215  loss_dis_b:0.06499972194433212  loss_dis_a:0.13525128364562988  loss_dis_total:0.2002510130405426 \n",
      "Epoch 39 Step 475  loss_gen_a2b:0.33723968267440796  loss_gen_b2a:0.35805508494377136  loss_id_a2b:0.09237360954284668  loss_id_b2a:0.08179763704538345  A_B_A_cycle_loss:0.08725669234991074  B_A_B_cycle_loss:0.09864186495542526  loss_gen_total:3.4251365661621094  loss_dis_b:0.07591505348682404  loss_dis_a:0.12422730028629303  loss_dis_total:0.20014235377311707 \n",
      "Epoch 39 Step 476  loss_gen_a2b:0.15776914358139038  loss_gen_b2a:0.1356080025434494  loss_id_a2b:0.10709674656391144  loss_id_b2a:0.12654776871204376  A_B_A_cycle_loss:0.09315382689237595  B_A_B_cycle_loss:0.105553537607193  loss_gen_total:3.4486732482910156  loss_dis_b:0.30529099702835083  loss_dis_a:0.15657486021518707  loss_dis_total:0.4618658423423767 \n",
      "Epoch 39 Step 477  loss_gen_a2b:0.292881578207016  loss_gen_b2a:0.1532743275165558  loss_id_a2b:0.10675354301929474  loss_id_b2a:0.11295409500598907  A_B_A_cycle_loss:0.10462523996829987  B_A_B_cycle_loss:0.10282717645168304  loss_gen_total:3.619218111038208  loss_dis_b:0.20765894651412964  loss_dis_a:0.22239461541175842  loss_dis_total:0.43005356192588806 \n",
      "Epoch 39 Step 478  loss_gen_a2b:0.13738009333610535  loss_gen_b2a:0.5049397349357605  loss_id_a2b:0.08425356447696686  loss_id_b2a:0.10187384486198425  A_B_A_cycle_loss:0.07180676609277725  B_A_B_cycle_loss:0.1024962067604065  loss_gen_total:3.315986394882202  loss_dis_b:0.08721699565649033  loss_dis_a:0.23978585004806519  loss_dis_total:0.3270028531551361 \n",
      "Epoch 39 Step 479  loss_gen_a2b:0.46633607149124146  loss_gen_b2a:0.07195549458265305  loss_id_a2b:0.11716902256011963  loss_id_b2a:0.09284229576587677  A_B_A_cycle_loss:0.10912750661373138  B_A_B_cycle_loss:0.10815081000328064  loss_gen_total:3.7611312866210938  loss_dis_b:0.1554252654314041  loss_dis_a:0.13030695915222168  loss_dis_total:0.2857322096824646 \n",
      "Epoch 39 Step 480  loss_gen_a2b:0.5490266680717468  loss_gen_b2a:0.277800589799881  loss_id_a2b:0.06864877045154572  loss_id_b2a:0.09803979098796844  A_B_A_cycle_loss:0.10731633007526398  B_A_B_cycle_loss:0.07589779794216156  loss_gen_total:3.4924111366271973  loss_dis_b:0.061534859240055084  loss_dis_a:0.2969887852668762  loss_dis_total:0.3585236370563507 \n",
      "Epoch 39 Step 481  loss_gen_a2b:0.646512508392334  loss_gen_b2a:0.36831215023994446  loss_id_a2b:0.0728425458073616  loss_id_b2a:0.09060682356357574  A_B_A_cycle_loss:0.09611432254314423  B_A_B_cycle_loss:0.07348300516605377  loss_gen_total:3.5280447006225586  loss_dis_b:0.10635808855295181  loss_dis_a:0.16695180535316467  loss_dis_total:0.2733098864555359 \n",
      "Epoch 39 Step 482  loss_gen_a2b:0.2917745113372803  loss_gen_b2a:0.31007295846939087  loss_id_a2b:0.11101748049259186  loss_id_b2a:0.12798485159873962  A_B_A_cycle_loss:0.14537909626960754  B_A_B_cycle_loss:0.0932563990354538  loss_gen_total:4.18321418762207  loss_dis_b:0.16005274653434753  loss_dis_a:0.0696946531534195  loss_dis_total:0.22974739968776703 \n"
     ]
    },
    {
     "name": "stdout",
     "output_type": "stream",
     "text": [
      "Epoch 39 Step 483  loss_gen_a2b:0.6156034469604492  loss_gen_b2a:0.18669432401657104  loss_id_a2b:0.1687280237674713  loss_id_b2a:0.11246512830257416  A_B_A_cycle_loss:0.10135741531848907  B_A_B_cycle_loss:0.15624502301216125  loss_gen_total:4.784287929534912  loss_dis_b:0.11689500510692596  loss_dis_a:0.11687897145748138  loss_dis_total:0.23377397656440735 \n",
      "Epoch 39 Step 484  loss_gen_a2b:0.23070736229419708  loss_gen_b2a:0.09488768875598907  loss_id_a2b:0.12058009952306747  loss_id_b2a:0.16239723563194275  A_B_A_cycle_loss:0.13425350189208984  B_A_B_cycle_loss:0.10484183579683304  loss_gen_total:4.131435394287109  loss_dis_b:0.17882080376148224  loss_dis_a:0.14080853760242462  loss_dis_total:0.31962934136390686 \n",
      "Epoch 39 Step 485  loss_gen_a2b:0.33524057269096375  loss_gen_b2a:0.018470363691449165  loss_id_a2b:0.08186426758766174  loss_id_b2a:0.08067784458398819  A_B_A_cycle_loss:0.08332923799753189  B_A_B_cycle_loss:0.08583620190620422  loss_gen_total:2.8580758571624756  loss_dis_b:0.13651321828365326  loss_dis_a:0.2466985285282135  loss_dis_total:0.38321173191070557 \n",
      "Epoch 39 Step 486  loss_gen_a2b:0.3105628490447998  loss_gen_b2a:0.3699905276298523  loss_id_a2b:0.08858344703912735  loss_id_b2a:0.08092787861824036  A_B_A_cycle_loss:0.09316247701644897  B_A_B_cycle_loss:0.09636447578668594  loss_gen_total:3.423379421234131  loss_dis_b:0.14217931032180786  loss_dis_a:0.05301322788000107  loss_dis_total:0.19519254565238953 \n",
      "Epoch 39 Step 487  loss_gen_a2b:0.5040745139122009  loss_gen_b2a:0.18609914183616638  loss_id_a2b:0.1235167384147644  loss_id_b2a:0.1207772046327591  A_B_A_cycle_loss:0.12312133610248566  B_A_B_cycle_loss:0.08748705685138702  loss_gen_total:4.017727375030518  loss_dis_b:0.17612828314304352  loss_dis_a:0.1366610825061798  loss_dis_total:0.3127893805503845 \n",
      "Epoch 39 Step 488  loss_gen_a2b:0.16246426105499268  loss_gen_b2a:0.34638944268226624  loss_id_a2b:0.0932205319404602  loss_id_b2a:0.07689261436462402  A_B_A_cycle_loss:0.06989076733589172  B_A_B_cycle_loss:0.07756645977497101  loss_gen_total:2.833991765975952  loss_dis_b:0.17569658160209656  loss_dis_a:0.1986348032951355  loss_dis_total:0.37433138489723206 \n",
      "Epoch 39 Step 489  loss_gen_a2b:0.2868094742298126  loss_gen_b2a:0.38205620646476746  loss_id_a2b:0.1302412748336792  loss_id_b2a:0.1064465120434761  A_B_A_cycle_loss:0.1274573802947998  B_A_B_cycle_loss:0.15275968611240387  loss_gen_total:4.654475212097168  loss_dis_b:0.17287789285182953  loss_dis_a:0.12705224752426147  loss_dis_total:0.2999301552772522 \n",
      "Epoch 39 Step 490  loss_gen_a2b:0.3536650240421295  loss_gen_b2a:0.10366339236497879  loss_id_a2b:0.1363423615694046  loss_id_b2a:0.09600330889225006  A_B_A_cycle_loss:0.09053752571344376  B_A_B_cycle_loss:0.09710737317800522  loss_gen_total:3.4955058097839355  loss_dis_b:0.2981773912906647  loss_dis_a:0.06341958045959473  loss_dis_total:0.3615969717502594 \n",
      "Epoch 39 Step 491  loss_gen_a2b:0.3817698061466217  loss_gen_b2a:0.2571677267551422  loss_id_a2b:0.06225325167179108  loss_id_b2a:0.07604236900806427  A_B_A_cycle_loss:0.08335313946008682  B_A_B_cycle_loss:0.05946512147784233  loss_gen_total:2.7585983276367188  loss_dis_b:0.08086267113685608  loss_dis_a:0.18844053149223328  loss_dis_total:0.26930320262908936 \n",
      "Epoch 39 Step 492  loss_gen_a2b:0.41123077273368835  loss_gen_b2a:0.24420489370822906  loss_id_a2b:0.09625741839408875  loss_id_b2a:0.09277224540710449  A_B_A_cycle_loss:0.11328049004077911  B_A_B_cycle_loss:0.09691235423088074  loss_gen_total:3.702512741088867  loss_dis_b:0.3314310908317566  loss_dis_a:0.18734405934810638  loss_dis_total:0.5187751650810242 \n",
      "Epoch 39 Step 493  loss_gen_a2b:0.2440015971660614  loss_gen_b2a:0.3268944025039673  loss_id_a2b:0.1023474633693695  loss_id_b2a:0.07224412262439728  A_B_A_cycle_loss:0.08437011390924454  B_A_B_cycle_loss:0.1035279631614685  loss_gen_total:3.3228347301483154  loss_dis_b:0.19830864667892456  loss_dis_a:0.16752298176288605  loss_dis_total:0.3658316135406494 \n",
      "Epoch 39 Step 494  loss_gen_a2b:0.40489834547042847  loss_gen_b2a:0.39674103260040283  loss_id_a2b:0.09316235035657883  loss_id_b2a:0.09433921426534653  A_B_A_cycle_loss:0.10851798951625824  B_A_B_cycle_loss:0.09301014244556427  loss_gen_total:3.7544283866882324  loss_dis_b:0.21771273016929626  loss_dis_a:0.16956953704357147  loss_dis_total:0.38728225231170654 \n",
      "Epoch 39 Step 495  loss_gen_a2b:0.1635339856147766  loss_gen_b2a:0.25034719705581665  loss_id_a2b:0.11311915516853333  loss_id_b2a:0.09828229248523712  A_B_A_cycle_loss:0.10697025060653687  B_A_B_cycle_loss:0.11133505403995514  loss_gen_total:3.6539416313171387  loss_dis_b:0.34050875902175903  loss_dis_a:0.333488404750824  loss_dis_total:0.673997163772583 \n",
      "Epoch 39 Step 496  loss_gen_a2b:0.22252953052520752  loss_gen_b2a:0.29647061228752136  loss_id_a2b:0.10108370333909988  loss_id_b2a:0.08444446325302124  A_B_A_cycle_loss:0.09730938076972961  B_A_B_cycle_loss:0.13955257833003998  loss_gen_total:3.815260887145996  loss_dis_b:0.3125709891319275  loss_dis_a:0.2730967402458191  loss_dis_total:0.5856677293777466 \n",
      "Epoch 39 Step 497  loss_gen_a2b:0.2917182743549347  loss_gen_b2a:0.29971182346343994  loss_id_a2b:0.06251586973667145  loss_id_b2a:0.09061497449874878  A_B_A_cycle_loss:0.1387818157672882  B_A_B_cycle_loss:0.07080130279064178  loss_gen_total:3.4529151916503906  loss_dis_b:0.14311133325099945  loss_dis_a:0.14149336516857147  loss_dis_total:0.2846046984195709 \n",
      "Epoch 39 Step 498  loss_gen_a2b:0.39566540718078613  loss_gen_b2a:0.1811141073703766  loss_id_a2b:0.10623547434806824  loss_id_b2a:0.09541967511177063  A_B_A_cycle_loss:0.08471828699111938  B_A_B_cycle_loss:0.09386416524648666  loss_gen_total:3.370879888534546  loss_dis_b:0.09017263352870941  loss_dis_a:0.204318568110466  loss_dis_total:0.2944912016391754 \n",
      "Epoch 39 Step 499  loss_gen_a2b:0.4348389804363251  loss_gen_b2a:0.5746973752975464  loss_id_a2b:0.09889598190784454  loss_id_b2a:0.08276760578155518  A_B_A_cycle_loss:0.09281854331493378  B_A_B_cycle_loss:0.11279070377349854  loss_gen_total:3.973947048187256  loss_dis_b:0.1456211656332016  loss_dis_a:0.15815675258636475  loss_dis_total:0.30377793312072754 \n",
      "Epoch 39 Step 500  loss_gen_a2b:0.5270780324935913  loss_gen_b2a:0.3554498255252838  loss_id_a2b:0.08024299144744873  loss_id_b2a:0.09511767327785492  A_B_A_cycle_loss:0.08624310791492462  B_A_B_cycle_loss:0.07679113745689392  loss_gen_total:3.3896737098693848  loss_dis_b:0.11256343126296997  loss_dis_a:0.11038726568222046  loss_dis_total:0.22295069694519043 \n",
      "Epoch 39 Step 501  loss_gen_a2b:0.29505062103271484  loss_gen_b2a:0.15061631798744202  loss_id_a2b:0.05939672142267227  loss_id_b2a:0.08148392289876938  A_B_A_cycle_loss:0.08709923923015594  B_A_B_cycle_loss:0.07170352339744568  loss_gen_total:2.738097667694092  loss_dis_b:0.15435171127319336  loss_dis_a:0.23895864188671112  loss_dis_total:0.3933103680610657 \n",
      "Epoch 39 Step 502  loss_gen_a2b:0.12703628838062286  loss_gen_b2a:0.1155506893992424  loss_id_a2b:0.05553697794675827  loss_id_b2a:0.11614958941936493  A_B_A_cycle_loss:0.1007191389799118  B_A_B_cycle_loss:0.07408489286899567  loss_gen_total:2.84906005859375  loss_dis_b:0.41327518224716187  loss_dis_a:0.16734658181667328  loss_dis_total:0.5806217789649963 \n",
      "Epoch 39 Step 503  loss_gen_a2b:0.3813398480415344  loss_gen_b2a:0.30482280254364014  loss_id_a2b:0.07416549324989319  loss_id_b2a:0.1245715469121933  A_B_A_cycle_loss:0.12890906631946564  B_A_B_cycle_loss:0.11569306999444962  loss_gen_total:4.125869274139404  loss_dis_b:0.02482137829065323  loss_dis_a:0.16671963036060333  loss_dis_total:0.19154101610183716 \n",
      "Epoch 39 Step 504  loss_gen_a2b:0.292503297328949  loss_gen_b2a:0.19911818206310272  loss_id_a2b:0.09382450580596924  loss_id_b2a:0.112449511885643  A_B_A_cycle_loss:0.13154196739196777  B_A_B_cycle_loss:0.08056142181158066  loss_gen_total:3.6440253257751465  loss_dis_b:0.23919902741909027  loss_dis_a:0.21987766027450562  loss_dis_total:0.4590767025947571 \n",
      "Epoch 39 Step 505  loss_gen_a2b:0.5086708068847656  loss_gen_b2a:0.7505061626434326  loss_id_a2b:0.09052771329879761  loss_id_b2a:0.07605001330375671  A_B_A_cycle_loss:0.08155440539121628  B_A_B_cycle_loss:0.08531039208173752  loss_gen_total:3.760713577270508  loss_dis_b:0.08287110924720764  loss_dis_a:0.20697087049484253  loss_dis_total:0.28984197974205017 \n"
     ]
    },
    {
     "name": "stdout",
     "output_type": "stream",
     "text": [
      "Epoch 39 Step 506  loss_gen_a2b:0.2919767498970032  loss_gen_b2a:0.446347713470459  loss_id_a2b:0.08538717031478882  loss_id_b2a:0.07653725147247314  A_B_A_cycle_loss:0.07284988462924957  B_A_B_cycle_loss:0.0724194347858429  loss_gen_total:3.0006396770477295  loss_dis_b:0.19602644443511963  loss_dis_a:0.2780027687549591  loss_dis_total:0.47402921319007874 \n",
      "Epoch 39 Step 507  loss_gen_a2b:0.6313726902008057  loss_gen_b2a:0.4506668150424957  loss_id_a2b:0.09247271716594696  loss_id_b2a:0.08176472783088684  A_B_A_cycle_loss:0.0896764025092125  B_A_B_cycle_loss:0.08888348937034607  loss_gen_total:3.738825798034668  loss_dis_b:0.059084244072437286  loss_dis_a:0.0838795155286789  loss_dis_total:0.14296376705169678 \n",
      "Epoch 39 Step 508  loss_gen_a2b:0.4278475046157837  loss_gen_b2a:0.29295241832733154  loss_id_a2b:0.07065235078334808  loss_id_b2a:0.12548622488975525  A_B_A_cycle_loss:0.11570322513580322  B_A_B_cycle_loss:0.1009816825389862  loss_gen_total:3.8683419227600098  loss_dis_b:0.10570336133241653  loss_dis_a:0.2137611210346222  loss_dis_total:0.31946447491645813 \n",
      "Epoch 39 Step 509  loss_gen_a2b:0.28188765048980713  loss_gen_b2a:0.4610653519630432  loss_id_a2b:0.12073071300983429  loss_id_b2a:0.10997921973466873  A_B_A_cycle_loss:0.1117662861943245  B_A_B_cycle_loss:0.12419639527797699  loss_gen_total:4.256129264831543  loss_dis_b:0.38906294107437134  loss_dis_a:0.24679186940193176  loss_dis_total:0.6358548402786255 \n",
      "Epoch 39 Step 510  loss_gen_a2b:0.44098180532455444  loss_gen_b2a:0.22626197338104248  loss_id_a2b:0.07713580131530762  loss_id_b2a:0.10935709625482559  A_B_A_cycle_loss:0.14421942830085754  B_A_B_cycle_loss:0.06961119920015335  loss_gen_total:3.7380142211914062  loss_dis_b:0.23159915208816528  loss_dis_a:0.04682283475995064  loss_dis_total:0.2784219980239868 \n",
      "Epoch 39 Step 511  loss_gen_a2b:0.5409519672393799  loss_gen_b2a:0.05734657123684883  loss_id_a2b:0.0873323306441307  loss_id_b2a:0.06707310676574707  A_B_A_cycle_loss:0.08777433633804321  B_A_B_cycle_loss:0.0768391415476799  loss_gen_total:3.016460657119751  loss_dis_b:0.14122435450553894  loss_dis_a:0.122918039560318  loss_dis_total:0.26414239406585693 \n",
      "Epoch 39 Step 512  loss_gen_a2b:0.19153106212615967  loss_gen_b2a:0.20928384363651276  loss_id_a2b:0.08573637902736664  loss_id_b2a:0.09311619400978088  A_B_A_cycle_loss:0.11254329234361649  B_A_B_cycle_loss:0.08685064315795898  loss_gen_total:3.2890169620513916  loss_dis_b:0.19104965031147003  loss_dis_a:0.03219829872250557  loss_dis_total:0.2232479453086853 \n",
      "Epoch 39 Step 513  loss_gen_a2b:0.18542799353599548  loss_gen_b2a:0.08152785152196884  loss_id_a2b:0.06893953680992126  loss_id_b2a:0.10089043527841568  A_B_A_cycle_loss:0.11952560395002365  B_A_B_cycle_loss:0.0835743248462677  loss_gen_total:3.1471052169799805  loss_dis_b:0.054718464612960815  loss_dis_a:0.400238573551178  loss_dis_total:0.4549570381641388 \n",
      "Epoch 39 Step 514  loss_gen_a2b:0.08704525232315063  loss_gen_b2a:0.5428318381309509  loss_id_a2b:0.049995310604572296  loss_id_b2a:0.07420658320188522  A_B_A_cycle_loss:0.0880281999707222  B_A_B_cycle_loss:0.060075268149375916  loss_gen_total:2.7319211959838867  loss_dis_b:0.11959867179393768  loss_dis_a:0.24602755904197693  loss_dis_total:0.3656262159347534 \n",
      "Epoch 39 Step 515  loss_gen_a2b:0.39233940839767456  loss_gen_b2a:0.14061369001865387  loss_id_a2b:0.11671972274780273  loss_id_b2a:0.07089996337890625  A_B_A_cycle_loss:0.05981630086898804  B_A_B_cycle_loss:0.1160801574587822  loss_gen_total:3.2300162315368652  loss_dis_b:0.20581836998462677  loss_dis_a:0.13468042016029358  loss_dis_total:0.34049880504608154 \n",
      "Epoch 39 Step 516  loss_gen_a2b:0.13593681156635284  loss_gen_b2a:0.104903943836689  loss_id_a2b:0.06355279684066772  loss_id_b2a:0.09894309937953949  A_B_A_cycle_loss:0.1075025126338005  B_A_B_cycle_loss:0.07251325249671936  loss_gen_total:2.853477954864502  loss_dis_b:0.09191456437110901  loss_dis_a:0.19528834521770477  loss_dis_total:0.2872028946876526 \n",
      "Epoch 39 Step 517  loss_gen_a2b:0.15218713879585266  loss_gen_b2a:0.09160906076431274  loss_id_a2b:0.11612875014543533  loss_id_b2a:0.14711081981658936  A_B_A_cycle_loss:0.15569022297859192  B_A_B_cycle_loss:0.08294610679149628  loss_gen_total:3.946357250213623  loss_dis_b:0.2884288430213928  loss_dis_a:0.271567702293396  loss_dis_total:0.5599965453147888 \n",
      "Epoch 39 Step 518  loss_gen_a2b:0.16784459352493286  loss_gen_b2a:0.515130341053009  loss_id_a2b:0.05453048273921013  loss_id_b2a:0.09880213439464569  A_B_A_cycle_loss:0.12383323907852173  B_A_B_cycle_loss:0.0669161006808281  loss_gen_total:3.3571314811706543  loss_dis_b:0.08333718776702881  loss_dis_a:0.08604364842176437  loss_dis_total:0.16938084363937378 \n",
      "Epoch 39 Step 519  loss_gen_a2b:0.38277173042297363  loss_gen_b2a:0.38879773020744324  loss_id_a2b:0.19010500609874725  loss_id_b2a:0.07844540476799011  A_B_A_cycle_loss:0.10342669486999512  B_A_B_cycle_loss:0.23643480241298676  loss_gen_total:5.512936592102051  loss_dis_b:0.09358205646276474  loss_dis_a:0.13802237808704376  loss_dis_total:0.2316044270992279 \n",
      "Epoch 39 Step 520  loss_gen_a2b:0.35226118564605713  loss_gen_b2a:0.25634172558784485  loss_id_a2b:0.08913715183734894  loss_id_b2a:0.12980175018310547  A_B_A_cycle_loss:0.11676408350467682  B_A_B_cycle_loss:0.07553654909133911  loss_gen_total:3.6263036727905273  loss_dis_b:0.3341890573501587  loss_dis_a:0.18506404757499695  loss_dis_total:0.519253134727478 \n",
      "Epoch 39 Step 521  loss_gen_a2b:0.5715268850326538  loss_gen_b2a:0.4491742253303528  loss_id_a2b:0.06455959379673004  loss_id_b2a:0.09162648022174835  A_B_A_cycle_loss:0.1047791987657547  B_A_B_cycle_loss:0.07976913452148438  loss_gen_total:3.6471147537231445  loss_dis_b:0.07049290090799332  loss_dis_a:0.2021515667438507  loss_dis_total:0.2726444602012634 \n",
      "Epoch 39 Step 522  loss_gen_a2b:0.43619105219841003  loss_gen_b2a:0.6303361654281616  loss_id_a2b:0.08585701882839203  loss_id_b2a:0.07956723868846893  A_B_A_cycle_loss:0.09957930445671082  B_A_B_cycle_loss:0.09580861032009125  loss_gen_total:3.847527503967285  loss_dis_b:0.15473602712154388  loss_dis_a:0.22402837872505188  loss_dis_total:0.37876439094543457 \n",
      "Epoch 39 Step 523  loss_gen_a2b:0.6844823360443115  loss_gen_b2a:0.4685022234916687  loss_id_a2b:0.07093502581119537  loss_id_b2a:0.07220765203237534  A_B_A_cycle_loss:0.07925134897232056  B_A_B_cycle_loss:0.08258619904518127  loss_gen_total:3.4870734214782715  loss_dis_b:0.14611172676086426  loss_dis_a:0.10357244312763214  loss_dis_total:0.2496841698884964 \n",
      "Epoch 39 Step 524  loss_gen_a2b:0.5504932999610901  loss_gen_b2a:0.16651517152786255  loss_id_a2b:0.13596951961517334  loss_id_b2a:0.15901640057563782  A_B_A_cycle_loss:0.12904734909534454  B_A_B_cycle_loss:0.1346336007118225  loss_gen_total:4.828747749328613  loss_dis_b:0.4162365198135376  loss_dis_a:0.21316540241241455  loss_dis_total:0.6294019222259521 \n",
      "Epoch 39 Step 525  loss_gen_a2b:0.1611415445804596  loss_gen_b2a:0.21778792142868042  loss_id_a2b:0.12385263293981552  loss_id_b2a:0.10946797579526901  A_B_A_cycle_loss:0.10952167212963104  B_A_B_cycle_loss:0.13819682598114014  loss_gen_total:4.022717475891113  loss_dis_b:0.1744241714477539  loss_dis_a:0.13438498973846436  loss_dis_total:0.30880916118621826 \n",
      "Epoch 39 Step 526  loss_gen_a2b:0.8549658060073853  loss_gen_b2a:0.2123061567544937  loss_id_a2b:0.11049418896436691  loss_id_b2a:0.11619880050420761  A_B_A_cycle_loss:0.11719620227813721  B_A_B_cycle_loss:0.08992285281419754  loss_gen_total:4.271927356719971  loss_dis_b:0.09994661808013916  loss_dis_a:0.21433523297309875  loss_dis_total:0.3142818510532379 \n",
      "Epoch 39 Step 527  loss_gen_a2b:0.2402132898569107  loss_gen_b2a:0.5679942965507507  loss_id_a2b:0.09635747969150543  loss_id_b2a:0.1992437243461609  A_B_A_cycle_loss:0.1899709552526474  B_A_B_cycle_loss:0.08418433368206024  loss_gen_total:5.027766227722168  loss_dis_b:0.35704368352890015  loss_dis_a:0.2321416288614273  loss_dis_total:0.5891852974891663 \n",
      "Epoch 39 Step 528  loss_gen_a2b:0.42845743894577026  loss_gen_b2a:0.21450968086719513  loss_id_a2b:0.10994482785463333  loss_id_b2a:0.09348123520612717  A_B_A_cycle_loss:0.11760571599006653  B_A_B_cycle_loss:0.10518588125705719  loss_gen_total:3.8880133628845215  loss_dis_b:0.33920416235923767  loss_dis_a:0.22217240929603577  loss_dis_total:0.5613765716552734 \n"
     ]
    },
    {
     "name": "stdout",
     "output_type": "stream",
     "text": [
      "Epoch 39 Step 529  loss_gen_a2b:0.16602908074855804  loss_gen_b2a:0.2799704670906067  loss_id_a2b:0.0984811931848526  loss_id_b2a:0.15818293392658234  A_B_A_cycle_loss:0.1341259628534317  B_A_B_cycle_loss:0.09832468628883362  loss_gen_total:4.053826808929443  loss_dis_b:0.20171311497688293  loss_dis_a:0.13504011929035187  loss_dis_total:0.336753249168396 \n",
      "Epoch 39 Step 530  loss_gen_a2b:0.5511178970336914  loss_gen_b2a:0.32915592193603516  loss_id_a2b:0.10667046904563904  loss_id_b2a:0.061532922089099884  A_B_A_cycle_loss:0.08077394962310791  B_A_B_cycle_loss:0.13894930481910706  loss_gen_total:3.9185233116149902  loss_dis_b:0.07055399566888809  loss_dis_a:0.16289854049682617  loss_dis_total:0.23345252871513367 \n",
      "Epoch 39 Step 531  loss_gen_a2b:0.47062763571739197  loss_gen_b2a:0.5378969311714172  loss_id_a2b:0.1003008559346199  loss_id_b2a:0.1155068576335907  A_B_A_cycle_loss:0.1107092946767807  B_A_B_cycle_loss:0.11436425894498825  loss_gen_total:4.338298797607422  loss_dis_b:0.11847011744976044  loss_dis_a:0.041667234152555466  loss_dis_total:0.1601373553276062 \n",
      "Epoch 39 Step 532  loss_gen_a2b:0.89885014295578  loss_gen_b2a:0.13309091329574585  loss_id_a2b:0.12223636358976364  loss_id_b2a:0.09232155978679657  A_B_A_cycle_loss:0.0790802612900734  B_A_B_cycle_loss:0.10738326609134674  loss_gen_total:3.9693660736083984  loss_dis_b:0.4779277443885803  loss_dis_a:0.06974257528781891  loss_dis_total:0.547670304775238 \n",
      "Epoch 39 Step 533  loss_gen_a2b:0.6257035732269287  loss_gen_b2a:0.20343564450740814  loss_id_a2b:0.0989818423986435  loss_id_b2a:0.0987468957901001  A_B_A_cycle_loss:0.11218772828578949  B_A_B_cycle_loss:0.08519057184457779  loss_gen_total:3.7915658950805664  loss_dis_b:0.11267722398042679  loss_dis_a:0.15038004517555237  loss_dis_total:0.26305726170539856 \n",
      "Epoch 39 Step 534  loss_gen_a2b:0.16554242372512817  loss_gen_b2a:0.17963600158691406  loss_id_a2b:0.09604422003030777  loss_id_b2a:0.2081415206193924  A_B_A_cycle_loss:0.14714200794696808  B_A_B_cycle_loss:0.094349205493927  loss_gen_total:4.28101921081543  loss_dis_b:0.22689279913902283  loss_dis_a:0.12992870807647705  loss_dis_total:0.3568215072154999 \n",
      "Epoch 39 Step 535  loss_gen_a2b:0.3846440613269806  loss_gen_b2a:0.24686920642852783  loss_id_a2b:0.1213410496711731  loss_id_b2a:0.07360823452472687  A_B_A_cycle_loss:0.1264817714691162  B_A_B_cycle_loss:0.1294676661491394  loss_gen_total:4.1657538414001465  loss_dis_b:0.24788907170295715  loss_dis_a:0.10258568078279495  loss_dis_total:0.3504747450351715 \n"
     ]
    },
    {
     "ename": "NameError",
     "evalue": "name 'A_B_A_cycle_loss_metrics' is not defined",
     "output_type": "error",
     "traceback": [
      "\u001b[1;31m---------------------------------------------------------------------------\u001b[0m",
      "\u001b[1;31mNameError\u001b[0m                                 Traceback (most recent call last)",
      "\u001b[1;32m<ipython-input-56-4b3723e95b4c>\u001b[0m in \u001b[0;36m<module>\u001b[1;34m\u001b[0m\n\u001b[1;32m----> 1\u001b[1;33m \u001b[0mtrain\u001b[0m\u001b[1;33m(\u001b[0m\u001b[0mcombined_dataset\u001b[0m\u001b[1;33m,\u001b[0m \u001b[0mEPOCHS\u001b[0m\u001b[1;33m)\u001b[0m\u001b[1;33m\u001b[0m\u001b[1;33m\u001b[0m\u001b[0m\n\u001b[0m\u001b[0;32m      2\u001b[0m \u001b[0mprint\u001b[0m\u001b[1;33m(\u001b[0m\u001b[1;34m'Finished training.'\u001b[0m\u001b[1;33m)\u001b[0m\u001b[1;33m\u001b[0m\u001b[1;33m\u001b[0m\u001b[0m\n",
      "\u001b[1;32m<ipython-input-50-432867dbd6e0>\u001b[0m in \u001b[0;36mtrain\u001b[1;34m(dataset, num_epoch)\u001b[0m\n\u001b[0;32m      9\u001b[0m             \u001b[0mtrain_step\u001b[0m\u001b[1;33m(\u001b[0m\u001b[0mbatch\u001b[0m\u001b[1;33m[\u001b[0m\u001b[1;36m0\u001b[0m\u001b[1;33m]\u001b[0m\u001b[1;33m,\u001b[0m \u001b[0mbatch\u001b[0m\u001b[1;33m[\u001b[0m\u001b[1;36m1\u001b[0m\u001b[1;33m]\u001b[0m\u001b[1;33m,\u001b[0m \u001b[0mepoch\u001b[0m\u001b[1;33m,\u001b[0m \u001b[0mstep\u001b[0m\u001b[1;33m)\u001b[0m\u001b[1;33m\u001b[0m\u001b[1;33m\u001b[0m\u001b[0m\n\u001b[0;32m     10\u001b[0m \u001b[1;33m\u001b[0m\u001b[0m\n\u001b[1;32m---> 11\u001b[1;33m         \u001b[0mwrite_metrics\u001b[0m\u001b[1;33m(\u001b[0m\u001b[0mepoch\u001b[0m\u001b[1;33m)\u001b[0m\u001b[1;33m\u001b[0m\u001b[1;33m\u001b[0m\u001b[0m\n\u001b[0m\u001b[0;32m     12\u001b[0m \u001b[1;33m\u001b[0m\u001b[0m\n\u001b[0;32m     13\u001b[0m         \u001b[0mcheckpoint\u001b[0m\u001b[1;33m.\u001b[0m\u001b[0mepoch\u001b[0m\u001b[1;33m.\u001b[0m\u001b[0massign_add\u001b[0m\u001b[1;33m(\u001b[0m\u001b[1;36m1\u001b[0m\u001b[1;33m)\u001b[0m\u001b[1;33m\u001b[0m\u001b[1;33m\u001b[0m\u001b[0m\n",
      "\u001b[1;32m<ipython-input-47-abea667c89dd>\u001b[0m in \u001b[0;36mwrite_metrics\u001b[1;34m(epoch)\u001b[0m\n\u001b[0;32m     19\u001b[0m         tf.summary.scalar(\n\u001b[0;32m     20\u001b[0m             \u001b[1;34m'A_B_A_cycle_loss'\u001b[0m\u001b[1;33m,\u001b[0m\u001b[1;33m\u001b[0m\u001b[1;33m\u001b[0m\u001b[0m\n\u001b[1;32m---> 21\u001b[1;33m             \u001b[0mA_B_A_cycle_loss_metrics\u001b[0m\u001b[1;33m.\u001b[0m\u001b[0mresult\u001b[0m\u001b[1;33m(\u001b[0m\u001b[1;33m)\u001b[0m\u001b[1;33m,\u001b[0m\u001b[1;33m\u001b[0m\u001b[1;33m\u001b[0m\u001b[0m\n\u001b[0m\u001b[0;32m     22\u001b[0m             step=epoch)\n\u001b[0;32m     23\u001b[0m         tf.summary.scalar(\n",
      "\u001b[1;31mNameError\u001b[0m: name 'A_B_A_cycle_loss_metrics' is not defined"
     ]
    }
   ],
   "source": [
    "train(combined_dataset, EPOCHS)\n",
    "print('Finished training.')"
   ]
  },
  {
   "cell_type": "code",
   "execution_count": 1,
   "metadata": {},
   "outputs": [
    {
     "data": {
      "text/plain": [
       "Reusing TensorBoard on port 6006 (pid 9964), started 1:32:51 ago. (Use '!kill 9964' to kill it.)"
      ]
     },
     "metadata": {},
     "output_type": "display_data"
    },
    {
     "data": {
      "text/html": [
       "\n",
       "      <iframe id=\"tensorboard-frame-af1ada0af1c5c03c\" width=\"100%\" height=\"800\" frameborder=\"0\">\n",
       "      </iframe>\n",
       "      <script>\n",
       "        (function() {\n",
       "          const frame = document.getElementById(\"tensorboard-frame-af1ada0af1c5c03c\");\n",
       "          const url = new URL(\"/\", window.location);\n",
       "          url.port = 6006;\n",
       "          frame.src = url;\n",
       "        })();\n",
       "      </script>\n",
       "  "
      ],
      "text/plain": [
       "<IPython.core.display.HTML object>"
      ]
     },
     "metadata": {},
     "output_type": "display_data"
    }
   ],
   "source": [
    "%load_ext tensorboard\n",
    "%tensorboard --logdir logs/monet2photo"
   ]
  },
  {
   "cell_type": "code",
   "execution_count": null,
   "metadata": {},
   "outputs": [],
   "source": [
    "!tensorboard dev upload --logdir logs"
   ]
  },
  {
   "cell_type": "markdown",
   "metadata": {},
   "source": [
    "# Inference"
   ]
  },
  {
   "cell_type": "markdown",
   "metadata": {},
   "source": [
    "# References:\n",
    "\n",
    "1. https://github.com/junyanz/pytorch-CycleGAN-and-pix2pix/blob/master/models/cycle_gan_model.py\n",
    "2. https://hardikbansal.github.io/CycleGANBlog/\n",
    "3. https://arxiv.org/abs/1703.10593\n",
    "4. https://hackernoon.com/gender-and-race-change-on-your-selfie-with-neural-nets-9a9a1c9c5c16"
   ]
  }
 ],
 "metadata": {
  "kernelspec": {
   "display_name": "Python 3",
   "language": "python",
   "name": "python3"
  },
  "language_info": {
   "codemirror_mode": {
    "name": "ipython",
    "version": 3
   },
   "file_extension": ".py",
   "mimetype": "text/x-python",
   "name": "python",
   "nbconvert_exporter": "python",
   "pygments_lexer": "ipython3",
   "version": "3.7.4"
  }
 },
 "nbformat": 4,
 "nbformat_minor": 2
}
